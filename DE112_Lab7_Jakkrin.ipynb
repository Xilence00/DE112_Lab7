{
  "nbformat": 4,
  "nbformat_minor": 0,
  "metadata": {
    "colab": {
      "provenance": [],
      "toc_visible": true,
      "collapsed_sections": []
    },
    "kernelspec": {
      "name": "python3",
      "display_name": "Python 3"
    },
    "language_info": {
      "name": "python"
    }
  },
  "cells": [
    {
      "cell_type": "code",
      "execution_count": null,
      "metadata": {
        "id": "iVhy3dfEp-eT"
      },
      "outputs": [],
      "source": []
    },
    {
      "cell_type": "markdown",
      "metadata": {
        "id": "mIc-oPXbzJfO"
      },
      "source": [
        "# Number and String\n",
        "\n",
        "Objectives:\n",
        "\n",
        "1. Learn how to assign, convert, and compute different types of numeric data.\n",
        "2. Learn how to use random module to generate random value.\n",
        "3. Learn how to use string operations and formatting."
      ]
    },
    {
      "cell_type": "markdown",
      "metadata": {
        "id": "0MmUnHFvnxx8"
      },
      "source": [
        "# Numeric variable\n",
        "There are three different datatypes that can be used to accommodate numeric data in Python: \n",
        "- **int** datatype: to accommodate integer value\n",
        "- **float** datatype: to accommodate decimal point value\n",
        "- **complex** datatype: to accommodate complex number composing of real and imaginary parts.\n",
        "In python, datatype of variable is not explicitely declared. \n",
        "\n",
        "To determine the datatype of variable, **type()** function can be used.\n",
        "\n",
        "```\n",
        "  type(<var>)\n",
        "```\n",
        "\n",
        "\n",
        "\n",
        "To release the variable, **del** statement can be used.\n",
        "\n",
        "```\n",
        "  del <var>\n",
        "```\n",
        "\n"
      ]
    },
    {
      "cell_type": "code",
      "metadata": {
        "colab": {
          "base_uri": "https://localhost:8080/"
        },
        "id": "Hbf_T5mAo7oU",
        "outputId": "ce461ba5-c514-460e-fe97-56a8862f46e5"
      },
      "source": [
        "a = 3+0j\n",
        "print(type(a))\n"
      ],
      "execution_count": null,
      "outputs": [
        {
          "output_type": "stream",
          "text": [
            "<class 'complex'>\n"
          ],
          "name": "stdout"
        }
      ]
    },
    {
      "cell_type": "code",
      "metadata": {
        "id": "jAoyxEal0V01"
      },
      "source": [
        "a = 20\n",
        "b = 20.0\n",
        "\n",
        "print('Type of a: ',type(a))\n",
        "print('Type of b: ',type(b))\n",
        "\n",
        "del b\n",
        "print('Type of a: ',type(a))\n",
        "print('Type of b: ',type(b))\n",
        "\n"
      ],
      "execution_count": null,
      "outputs": []
    },
    {
      "cell_type": "markdown",
      "metadata": {
        "id": "9NWiULxVplGi"
      },
      "source": [
        "**Integer representation**\n",
        "\n",
        "Integer or int can be represented in different number system by specifying the prefix. \n",
        "1. Base 2: specified by 0b or 0B and followed by the sequence of digit in {0,1}\n",
        "2. Base 8: specified by 0o or 0O and followed by the sequence of digit in {0,9}\n",
        "3. Base 10: the sequence of digit in {0,1,2,...,9}\n",
        "4. Base 16: specified by 0x or 0X and followed by the sequence of digit in {0,...,9, a,..., f, A,..., F}\n"
      ]
    },
    {
      "cell_type": "code",
      "metadata": {
        "colab": {
          "base_uri": "https://localhost:8080/"
        },
        "id": "OjkHYjzIpksq",
        "outputId": "25e9a2fa-43b7-482f-99d4-09ce01c09951"
      },
      "source": [
        "print(0B11)\n",
        "print(0O11)\n",
        "print(0X1F)\n"
      ],
      "execution_count": null,
      "outputs": [
        {
          "output_type": "stream",
          "text": [
            "3\n",
            "<class 'int'>\n",
            "31\n"
          ],
          "name": "stdout"
        }
      ]
    },
    {
      "cell_type": "markdown",
      "metadata": {
        "id": "UONC-lfFsJAQ"
      },
      "source": [
        "**Type conversion**\n",
        "\n",
        "Datatype of variables are automatically assigned during the assignment time and it can change during program execution. In some cases, we may want to explicitly convert existing variables into an appropriate datatype for being used as input arguments in desired functions. There are three functions that can be used to convert numeric data (or string literal of numeric data) to specifiec datatypes.\n",
        "- int(a): convert float or string literal of integer to integer\n",
        "- float(a): convert integer or string literal of float to float\n",
        "- complex(x): convert integer or float or string literal of numeric data to a complex number with real part x and imaginary part zero\n",
        "- complex(x,y): convert integers or floats to a complex number with real part x and imaginary part y "
      ]
    },
    {
      "cell_type": "code",
      "metadata": {
        "colab": {
          "base_uri": "https://localhost:8080/"
        },
        "id": "4ClEWKsVvW98",
        "outputId": "efd05277-414e-4afe-c8e7-cafa4aed5e36"
      },
      "source": [
        "a = 20\n",
        "print(type(a))\n",
        "b = a + 20.1\n",
        "print(type(b))"
      ],
      "execution_count": null,
      "outputs": [
        {
          "output_type": "stream",
          "text": [
            "<class 'int'>\n",
            "<class 'float'>\n"
          ],
          "name": "stdout"
        }
      ]
    },
    {
      "cell_type": "code",
      "metadata": {
        "id": "Os9EC047tcuW"
      },
      "source": [
        "print(float('1.34'))\n",
        "print(int(134))\n",
        "print(int(1.34))\n",
        "print(complex(2.5,'5.4'))"
      ],
      "execution_count": null,
      "outputs": []
    },
    {
      "cell_type": "markdown",
      "metadata": {
        "id": "mWze6Q14n3TR"
      },
      "source": [
        "# Generating random number from random module\n",
        "Different random datatypes can be generated from the random module. \n",
        "\n",
        "- Random float \t\t\n",
        "\n",
        "\n",
        "```\n",
        "\t\tsyntax: random.random()  \n",
        "# return a random float number between 0.0 to 1.0.\n",
        "```\n",
        "\n",
        "- Random int:\n",
        "\n",
        "```\n",
        "\t\tsyntax: random.randint(<start>,<stop>)  \n",
        "# return a random integer between <start> to <stop> (inclusive).\n",
        "e.g.:\t\t\t random.randint(10,15)\n",
        "```\n",
        "\n",
        "- Random selection from range:\n",
        "\n",
        "```\n",
        "\t\tsyntax: random.randrange(<start>,<stop>[,<step>])  \n",
        "# return a random element in range(<start>,<stop>[,<step>]).\n",
        "e.g.:\t\t\t random.randrange(10,20,1.5)\n",
        "```\n",
        "\n",
        "- Random selection from list:\n",
        "\n",
        "```\n",
        "\t\tsyntax: random.choice(<var_list>)  \n",
        "# return a random element in <var_list>.\n",
        "e.g.:\t\t\t random.choice('Computers')\n",
        "```\n",
        "\n",
        "Note that the random module must be imported before this random function can be used.\n",
        "\n",
        "        import random\n",
        "\n",
        "https://docs.python.org/3/library/random.html\n",
        "\n"
      ]
    },
    {
      "cell_type": "code",
      "metadata": {
        "colab": {
          "base_uri": "https://localhost:8080/",
          "height": 35
        },
        "id": "tPrvhIzx6wwL",
        "outputId": "7f28912e-9c5f-4e1b-d26e-914ca70fd855"
      },
      "source": [
        "import random\n",
        "random.choice('Computers')"
      ],
      "execution_count": null,
      "outputs": [
        {
          "output_type": "execute_result",
          "data": {
            "application/vnd.google.colaboratory.intrinsic+json": {
              "type": "string"
            },
            "text/plain": [
              "'t'"
            ]
          },
          "metadata": {
            "tags": []
          },
          "execution_count": 31
        }
      ]
    },
    {
      "cell_type": "markdown",
      "metadata": {
        "id": "PllVadvM93TN"
      },
      "source": [
        "**Random seed**\n",
        "\n",
        "random() function used to generate random numbers in Python is not actually random, rather this is used to generate pseudo-random numbers. It implies that these randomly generated numbers can be determined.\t\n",
        "\n",
        "Seed function is used to save the state of a random function,  so that it can generate same random numbers on multiple executions of the code on the same machine or on different machines (for a specific seed value).\n",
        "\n"
      ]
    },
    {
      "cell_type": "code",
      "metadata": {
        "id": "tFxnrGvR1LqB",
        "colab": {
          "base_uri": "https://localhost:8080/"
        },
        "outputId": "ff6faa1c-0bb6-4b1e-c360-efebab59872f"
      },
      "source": [
        "import random\n",
        "print(random.seed())\n",
        "random.seed(10)\n",
        "print(random.random())\n",
        "print(random.random())"
      ],
      "execution_count": null,
      "outputs": [
        {
          "output_type": "stream",
          "text": [
            "None\n",
            "0.5714025946899135\n",
            "0.4288890546751146\n"
          ],
          "name": "stdout"
        }
      ]
    },
    {
      "cell_type": "markdown",
      "metadata": {
        "id": "8ynPMTozn3cp"
      },
      "source": [
        "# String variable\n",
        "String datatype is a immutable sequence of characters where updating and deleting characters in string is not allowed. Instead, new string variable must be created to support the changes in value of each index. \n"
      ]
    },
    {
      "cell_type": "code",
      "metadata": {
        "id": "otoPHo7O_e0w"
      },
      "source": [
        "str_ = \"this is a string\"\n",
        "str_[0] = 'T'\n",
        "print(str_)"
      ],
      "execution_count": null,
      "outputs": []
    },
    {
      "cell_type": "code",
      "metadata": {
        "colab": {
          "base_uri": "https://localhost:8080/"
        },
        "id": "RfR5Ojt2_rAI",
        "outputId": "84aae87b-6432-4678-827c-78bb8cacc411"
      },
      "source": [
        "str_ = \"this is a string\"\n",
        "str_new = 'T'+str_[1:]\n",
        "print(str_new)"
      ],
      "execution_count": null,
      "outputs": [
        {
          "output_type": "stream",
          "text": [
            "This is a string\n"
          ],
          "name": "stdout"
        }
      ]
    },
    {
      "cell_type": "code",
      "metadata": {
        "colab": {
          "base_uri": "https://localhost:8080/"
        },
        "id": "VnX4cdxeAXZ5",
        "outputId": "17727a78-163f-4cc7-cd49-0afb0aa08a96"
      },
      "source": [
        "str_ = \"this is a string\"\n",
        "str_list = list(str_)\n",
        "str_list[0] = 'T'\n",
        "str_new = ''.join(str_list)\n",
        "print(str_new)\n"
      ],
      "execution_count": null,
      "outputs": [
        {
          "output_type": "stream",
          "text": [
            "This is a string\n"
          ],
          "name": "stdout"
        }
      ]
    },
    {
      "cell_type": "markdown",
      "metadata": {
        "id": "1z1XXgRqGdp5"
      },
      "source": [
        "**String modification method**\n",
        "- str.upper() \t \t\n",
        "\treturn a string str with all the original letters in the string converted into upper case. \n",
        "- str.lower()  \t\t\n",
        "\treturn a string str with all the original letters in the string converted into lower case. \n",
        "- str.capitalize() \t\n",
        "\treturn a string str with the first character of a string capitalized\n",
        "- str.title() \t\t\n",
        "\treturn a string str that the first letter of every word in a string capitalized. \n",
        "- str.split()\n",
        "\tsplit up a string str separated by whitespace and return a list of strings\n",
        "- str.join(str2)  \t\t\n",
        "\ttakes all the items in an iterable string str and joins them to another string str2 and return a new string\n",
        "- str.replace(str2, str3)  \t\t\n",
        "\t replace all the substring str2 with str3 items in an iterable string str and return a new string\n"
      ]
    },
    {
      "cell_type": "markdown",
      "metadata": {
        "id": "DJCdisu3uSgc"
      },
      "source": [
        "**String validation method**: return true if the condition is met.\n",
        "- str.isupper()\n",
        "  String’s alphabetic characters in str are all uppercase\n",
        "- str.islower()\n",
        "\tString’s alphabetic characters in str are all lower case\n",
        "- str.istitle()\n",
        "\tString str is in title case\n",
        "- str.isspace() \n",
        "\tString str only consists of whitespace characters\n",
        "- str.isnumeric() \n",
        "\tString str only contains numeric characters\n",
        "- str.isalnum() \n",
        "\tString str contains only alphanumeric characters (no symbols)\n",
        "- str.isalpha()\n",
        "\tString str contains only alphabetic characters (no numbers or symbols)\n",
        "- str.startswith(str1) \n",
        "\tString str starts with a value specified in str1\n",
        "- str.endswith(str1) \n",
        "\tString str ends with a value specified in str1\n"
      ]
    },
    {
      "cell_type": "markdown",
      "metadata": {
        "id": "EiQE_y6Lu0EO"
      },
      "source": [
        "**Other string method**\n",
        "\n",
        "- len(str) \n",
        "\treturns the length of str\n",
        "- min(str) \n",
        "\treturns the min alphabet from str\n",
        "- max(str) \n",
        "\treturns the max alphabet from str\n"
      ]
    },
    {
      "cell_type": "code",
      "metadata": {
        "colab": {
          "base_uri": "https://localhost:8080/"
        },
        "id": "-g81bWGLuQB_",
        "outputId": "e5eeaaf3-98dc-4814-a6a0-3c7fb5c60ac4"
      },
      "source": [
        "str = 'this is a test.'\n",
        "print(str.upper())"
      ],
      "execution_count": null,
      "outputs": [
        {
          "output_type": "stream",
          "text": [
            "THIS IS A TEST.\n"
          ],
          "name": "stdout"
        }
      ]
    },
    {
      "cell_type": "code",
      "metadata": {
        "colab": {
          "base_uri": "https://localhost:8080/"
        },
        "id": "NV0V4jEmu1St",
        "outputId": "b6ff6433-e181-481a-a0aa-a6f6ddf30cce"
      },
      "source": [
        "str = 'this is a test.'\n",
        "print(str.isupper())\n",
        "print((str.upper()).isupper())\n"
      ],
      "execution_count": null,
      "outputs": [
        {
          "output_type": "stream",
          "text": [
            "False\n",
            "True\n"
          ],
          "name": "stdout"
        }
      ]
    },
    {
      "cell_type": "markdown",
      "source": [
        "#String formatting method: format()\n",
        "Perform a string formatting operation. \n",
        "* The string on which this method is called can contain literal text or replacement fields delimited by braces {}. \n",
        "* Returns a copy of the string where each replacement field is replaced with the string value of the corresponding argument. \n"
      ],
      "metadata": {
        "id": "UcE9B-veqpGm"
      }
    },
    {
      "cell_type": "code",
      "source": [
        "fruit_list = ['Apple', 'Banana', 'Orange']\n",
        "str1 = 'I like {} and {} and {}'.format(fruit_list[0],fruit_list[1],fruit_list[2])\n",
        "print(str1)"
      ],
      "metadata": {
        "colab": {
          "base_uri": "https://localhost:8080/"
        },
        "id": "ExiXfXjfrMlE",
        "outputId": "007c11be-53bc-4841-cc4b-bdc928ddf282"
      },
      "execution_count": null,
      "outputs": [
        {
          "output_type": "stream",
          "name": "stdout",
          "text": [
            "I like Apple and Banana and Orange\n"
          ]
        }
      ]
    },
    {
      "cell_type": "markdown",
      "source": [
        "* Each replacement field contains either the numeric index of a positional argument, or the name of a keyword argument.\n"
      ],
      "metadata": {
        "id": "NBywe_Gbt6N_"
      }
    },
    {
      "cell_type": "code",
      "source": [
        "str1 = 'My namre is {name}. I was born in {country}, {continent}'.format(continent = 'Asia', country = 'Thailand', name = 'Napa')\n",
        "print(str1 )\n"
      ],
      "metadata": {
        "colab": {
          "base_uri": "https://localhost:8080/"
        },
        "id": "rZ99CNgJt6sf",
        "outputId": "da2cd1c4-580e-439c-c047-a94d11e6276e"
      },
      "execution_count": null,
      "outputs": [
        {
          "output_type": "stream",
          "name": "stdout",
          "text": [
            "My namre is Napa. I was born in Thailand, Asia\n"
          ]
        }
      ]
    },
    {
      "cell_type": "code",
      "source": [
        "fruit_list = ['Apple','Banana','Orange'] \n",
        "str1 = 'I like {2} and {1} and {0}'.format (fruit_list[1],fruit_list[2],fruit_list[0]) \n",
        "print(str1)"
      ],
      "metadata": {
        "colab": {
          "base_uri": "https://localhost:8080/"
        },
        "id": "COedxKQFwtQ4",
        "outputId": "5b6335c5-24ae-4910-bae7-3ba40667a4b3"
      },
      "execution_count": null,
      "outputs": [
        {
          "output_type": "stream",
          "name": "stdout",
          "text": [
            "I like Apple and Orange and Banana\n"
          ]
        }
      ]
    },
    {
      "cell_type": "markdown",
      "source": [
        "* Each numberic field can be formatted using \n",
        "`{[argument_index_or_keyword]: [align][sign][width][.precision][type]}`    \n",
        "    * width is a decimal integer defining the minimum total field width \n",
        "    * precision is a decimal number indicating how many digits should be displayed after the decimal point for a floating point value formatted with 'f' ***Precision not allowed in integer format specifier\n",
        "    * [type] can be specfied as:\n",
        "      *   f\tfor floating point numbers\n",
        "      *   b\tfor binary numbers\n",
        "      *   o\tfor octal numbers\n",
        "      *   x\tfor octal hexadecimal numbers\n",
        "      *   s\tfor string\n",
        "      *   e\tfor floating point in exponent format\n"
      ],
      "metadata": {
        "id": "Vg-eTTrbxpfw"
      }
    },
    {
      "cell_type": "markdown",
      "source": [
        "#standard format specifier \n",
        "format_spec     ::=  [[fill]align][sign][#][0][width][grouping_option][.precision][type]\n",
        "\n",
        "- fill            ::=  <any character>\n",
        "- align           ::=  \"<\" | \">\" | \"=\" | \"^\"\n",
        "- sign            ::=  \"+\" | \"-\" | \" \"\n",
        "- width           ::=  digit+\n",
        "- grouping_option ::=  \"_\" | \",\"\n",
        "- precision       ::=  digit+\n",
        "- type            ::=  \"b\" | \"c\" | \"d\" | \"e\" | \"E\" | \"f\" | \"F\" | \"g\" | \"G\" | \"n\" | \"o\" | \"s\" | \"x\" | \"X\" | \"%\""
      ],
      "metadata": {
        "id": "MdC-WRc-d57B"
      }
    },
    {
      "cell_type": "code",
      "source": [
        "print(\"These are {0:0.2f} and {1:7b}\".format(12.5,15))"
      ],
      "metadata": {
        "colab": {
          "base_uri": "https://localhost:8080/"
        },
        "id": "FNPhnfNt0wtA",
        "outputId": "349ab695-5b0e-4bb6-ffa2-bab96f405ed2"
      },
      "execution_count": null,
      "outputs": [
        {
          "output_type": "stream",
          "name": "stdout",
          "text": [
            "These are 12.50 and    1111\n"
          ]
        }
      ]
    },
    {
      "cell_type": "code",
      "source": [
        "user1 = ['Alan', 40000, 24, 10]\n",
        "user2 = ['Stephan', 540000, 52, 20]\n",
        "print(\"Employee name: {0:>16s}, salary: {1:7d}, Age {2:3d}, Exp {3:3d}\".format(user1[0],user1[1],user1[2],user1[3]))\n",
        "print(\"Employee name: {0:>16s}, salary: {1:7d}, Age {2:3d}, Exp {3:3d}\".format(user2[0],user2[1],user2[2],user2[3]))"
      ],
      "metadata": {
        "colab": {
          "base_uri": "https://localhost:8080/"
        },
        "id": "VdvtJNBT0--A",
        "outputId": "f14f6e74-594b-44f8-f1a6-3d0b2da6fb6d"
      },
      "execution_count": null,
      "outputs": [
        {
          "output_type": "stream",
          "name": "stdout",
          "text": [
            "Employee name:             Alan, salary:   40000, Age  24, Exp  10\n",
            "Employee name:          Stephan, salary:  540000, Age  52, Exp  20\n"
          ]
        }
      ]
    },
    {
      "cell_type": "code",
      "source": [
        "print(\"This is a test for {:a>+25.3f} and {: f}\".format(1200000.5,-12.5)) #[fill]\n",
        "print(\"This is a test for {:>+25.3f} and {: f}\".format(1200000.5,-12.5)) #[0]\n",
        "print(\"This is a test for {:>+025.3f} and {: f}\".format(1200000.5,-12.5)) #[0]\n",
        "print()\n",
        "print(\"This is a test for {:>+025.3f} and {: b} \".format(1200000.5,-12)) #[#0]\n",
        "print(\"This is a test for {:>+025.3f} and {: #b} \".format(1200000.5,-12)) #[#0]\n",
        "print()\n",
        "print(\"This is a test for {:>+025,.3f} and {: f}\".format(1200000.5,-12.5)) #[grouping_option]\n",
        "print(\"This is a test for {:>+025_.3f} and {: f}\".format(1200000.5,-12.5)) #[grouping_option]"
      ],
      "metadata": {
        "colab": {
          "base_uri": "https://localhost:8080/"
        },
        "id": "VYGiZ0hzdyVD",
        "outputId": "8b977291-9140-44aa-fa2c-9ee84129aa22"
      },
      "execution_count": null,
      "outputs": [
        {
          "output_type": "stream",
          "name": "stdout",
          "text": [
            "This is a test for aaaaaaaaaaaaa+1200000.500 and -12.500000\n",
            "This is a test for              +1200000.500 and -12.500000\n",
            "This is a test for 0000000000000+1200000.500 and -12.500000\n",
            "\n",
            "This is a test for 0000000000000+1200000.500 and -1100 \n",
            "This is a test for 0000000000000+1200000.500 and -0b1100 \n",
            "\n",
            "This is a test for 00000000000+1,200,000.500 and -12.500000\n",
            "This is a test for 00000000000+1_200_000.500 and -12.500000\n"
          ]
        }
      ]
    },
    {
      "cell_type": "markdown",
      "source": [
        "#Exercise #1: \n",
        "1. Use %whos to determine the existence and datatype of the following assigned variables \n",
        "2. List all int, float, and complex variables\n",
        "int: \n",
        "float:\n",
        "complex\n",
        "\n",
        "\n",
        "\n",
        "```\n",
        "\ta = 10\n",
        "\tb = 10.0\n",
        "\tc = 11+5j\n",
        "\td = -11.0\n",
        "\te = -5\n",
        "\tf = 2+0j\n",
        "```\n"
      ],
      "metadata": {
        "id": "XXKkLQqpvCoO"
      }
    },
    {
      "cell_type": "code",
      "source": [
        "a = 10\n",
        "b = 10.0\n",
        "c = 11+5j\n",
        "d = -11.0\n",
        "e = -5\n",
        "f = 2+0j\n",
        "%whos"
      ],
      "metadata": {
        "colab": {
          "base_uri": "https://localhost:8080/"
        },
        "id": "-EZzEnaHu1rz",
        "outputId": "7708dfcb-8270-40e0-bfaa-fd2c245f6397"
      },
      "execution_count": null,
      "outputs": [
        {
          "output_type": "stream",
          "name": "stdout",
          "text": [
            "Variable   Type       Data/Info\n",
            "-------------------------------\n",
            "a          int        10\n",
            "b          float      10.0\n",
            "c          complex    (11+5j)\n",
            "d          float      -11.0\n",
            "e          int        -5\n",
            "f          complex    (2+0j)\n"
          ]
        }
      ]
    },
    {
      "cell_type": "markdown",
      "source": [
        "- integer : a,e\n",
        "- float : b,d\n",
        "- complex : c,f\n"
      ],
      "metadata": {
        "id": "mt22Y4qZstRA"
      }
    },
    {
      "cell_type": "code",
      "source": [
        "print(a)\n",
        "del a\n",
        "%whos"
      ],
      "metadata": {
        "colab": {
          "base_uri": "https://localhost:8080/"
        },
        "id": "UlXl10BwvB_j",
        "outputId": "08bf3bbb-e8fe-4588-d118-3124079686a3"
      },
      "execution_count": null,
      "outputs": [
        {
          "output_type": "stream",
          "name": "stdout",
          "text": [
            "10\n",
            "Variable   Type     Data/Info\n",
            "-----------------------------\n",
            "b          float    10.0\n"
          ]
        }
      ]
    },
    {
      "cell_type": "code",
      "source": [
        "print(0x100)"
      ],
      "metadata": {
        "colab": {
          "base_uri": "https://localhost:8080/"
        },
        "id": "OsjW5eZDyAVh",
        "outputId": "ffc80650-6e51-45ad-9cfa-069aa4c479ed"
      },
      "execution_count": null,
      "outputs": [
        {
          "output_type": "stream",
          "name": "stdout",
          "text": [
            "256\n"
          ]
        }
      ]
    },
    {
      "cell_type": "markdown",
      "source": [
        "#Exercise #2: \n",
        "Find the integer representation of 745 in:\n",
        "- binary format\n",
        "- octal format\n",
        "- hexadecimal format\n",
        "\n",
        "And report the result using \n",
        "  print(0b.....,0o....., 0x....) "
      ],
      "metadata": {
        "id": "4e2RMgqTwSSW"
      }
    },
    {
      "cell_type": "code",
      "source": [
        "print(0b1011101001, 0o1351, 0x2e9)"
      ],
      "metadata": {
        "colab": {
          "base_uri": "https://localhost:8080/"
        },
        "id": "NM13pWXjywrh",
        "outputId": "b0505731-47d3-4016-bbdc-10761ef11c9a"
      },
      "execution_count": null,
      "outputs": [
        {
          "output_type": "stream",
          "name": "stdout",
          "text": [
            "745 745 745\n"
          ]
        }
      ]
    },
    {
      "cell_type": "code",
      "source": [
        "var_a = 0b11\n",
        "print(var_a)"
      ],
      "metadata": {
        "id": "nLpu11oj0JRI",
        "colab": {
          "base_uri": "https://localhost:8080/"
        },
        "outputId": "03cda5c0-581a-43e3-ee35-780eb2505c92"
      },
      "execution_count": null,
      "outputs": [
        {
          "output_type": "stream",
          "name": "stdout",
          "text": [
            "3\n"
          ]
        }
      ]
    },
    {
      "cell_type": "markdown",
      "source": [
        "what is the type of variable var_a\n",
        "a) string\n",
        "b) int\n",
        "c) syntax error"
      ],
      "metadata": {
        "id": "N2GEKFD80O2B"
      }
    },
    {
      "cell_type": "markdown",
      "source": [
        "#Exercise #3:\n",
        "Find the angle of elevation of the plane from point A on the ground \n",
        "\n",
        "![image.png](data:image/png;base64,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)"
      ],
      "metadata": {
        "id": "_27SDRiWxVQG"
      }
    },
    {
      "cell_type": "code",
      "source": [
        "import math\n",
        "height = 300\n",
        "groud_dist = 400\n",
        "ratio = height/groud_dist\n",
        "tan1 = math.atan(ratio)\n",
        "angle = math.degrees(tan1)\n",
        "print(angle)"
      ],
      "metadata": {
        "colab": {
          "base_uri": "https://localhost:8080/"
        },
        "id": "K9ycAdsVxrhG",
        "outputId": "8d38aac8-ba05-4c28-d736-1769b5a8d55d"
      },
      "execution_count": null,
      "outputs": [
        {
          "output_type": "stream",
          "name": "stdout",
          "text": [
            "36.86989764584402\n"
          ]
        }
      ]
    },
    {
      "cell_type": "markdown",
      "metadata": {
        "id": "GLdOUe-OxcMB"
      },
      "source": [
        "# Exercise #4 :\n",
        "1. Use random module to generate random integer list of 20 items when each item lies between [50, 100]   (inclusive)\n",
        "2. Use math module to compute the following output from the generated input_list list.\n",
        "- The list with all even number\n",
        "- The list with all odd number\n",
        "- The sum of all elements in each list.\n",
        "- The product of all elements in each list."
      ]
    },
    {
      "cell_type": "code",
      "metadata": {
        "id": "BKkhXy6KyiCf",
        "colab": {
          "base_uri": "https://localhost:8080/"
        },
        "outputId": "3bd2c916-fdbf-41e7-cc4e-0ce5a796956e"
      },
      "source": [
        "import random\n",
        "import math\n",
        "random_list = []\n",
        "for x in range(1,21):\n",
        "  random_num = random.randint(50,101)\n",
        "  random_list.append(random_num)\n",
        "print(random_list)\n",
        "\n",
        "#even odd\n",
        "even = []\n",
        "odd = []\n",
        "for i in range(0,20):\n",
        "  num = random_list[i]\n",
        "  num = int(num)\n",
        "  if num%2 == 0:\n",
        "    even.append(num)\n",
        "  else:\n",
        "    odd.append(num)\n",
        "print('even list:',even)\n",
        "print('odd list:',odd)\n",
        "\n",
        "#sum\n",
        "sum_even = math.fsum(even)\n",
        "sum_odd = math.fsum(odd)\n",
        "print('sum of the even list is :',sum_even)\n",
        "print('sum of the odd list is :',sum_odd)\n",
        "\n",
        "#product\n",
        "total_even = 1\n",
        "total_odd = 1\n",
        "\n",
        "for y in range(0,len(odd)):\n",
        "  num = odd[y]\n",
        "  num = int(num)\n",
        "  total_odd = num*total_odd\n",
        "print('Product of odd are:',total_odd)\n",
        "\n",
        "for z in range(0,len(even)):\n",
        "  num = even[z]\n",
        "  num = int(num)\n",
        "  total_even = num*total_even\n",
        "print('Product of even are:',total_even)"
      ],
      "execution_count": null,
      "outputs": [
        {
          "output_type": "stream",
          "name": "stdout",
          "text": [
            "[54, 89, 94, 77, 62, 58, 60, 98, 87, 69, 57, 69, 90, 62, 84, 88, 56, 97, 51, 53]\n",
            "even list: [54, 94, 62, 58, 60, 98, 90, 62, 84, 88, 56]\n",
            "odd list: [89, 77, 87, 69, 57, 69, 97, 51, 53]\n",
            "sum of the even list is : 806.0\n",
            "sum of the odd list is : 649.0\n",
            "Product of odd are: 42421966976250477\n",
            "Product of even are: 247915001333189836800\n"
          ]
        }
      ]
    },
    {
      "cell_type": "markdown",
      "source": [
        "#Exercise #5:\n",
        "Create a greeting message using string formatting for all kids in the list as the following greeting message example for John\n",
        "Ex: \n",
        "\n",
        "That's me. My name is John, I'm 12 years old\n",
        "\n"
      ],
      "metadata": {
        "id": "EJxtWqud21iG"
      }
    },
    {
      "cell_type": "code",
      "source": [
        "NameList = {\"John\": 12, \"Marry\": 11, \"Tod\": 10, \n",
        "\"Paul\": 12, \"Jessy\": 11}\n",
        "for i in NameList:\n",
        " details = (i,NameList[i])\n",
        " str_template = \"That\\'s me. My name is {0}, I\\'m {1} years old\"\n",
        " print(str_template.format(details[0],details[1]))"
      ],
      "metadata": {
        "colab": {
          "base_uri": "https://localhost:8080/"
        },
        "id": "bHnzF1GG6K7H",
        "outputId": "93a2613b-e6cb-4e3a-9d9e-de93ade2d88e"
      },
      "execution_count": null,
      "outputs": [
        {
          "output_type": "stream",
          "name": "stdout",
          "text": [
            "That's me. My name is John, I'm 12 years old\n",
            "That's me. My name is Marry, I'm 11 years old\n",
            "That's me. My name is Tod, I'm 10 years old\n",
            "That's me. My name is Paul, I'm 12 years old\n",
            "That's me. My name is Jessy, I'm 11 years old\n"
          ]
        }
      ]
    },
    {
      "cell_type": "markdown",
      "source": [
        "#Exercise #6:\n",
        "\n",
        "![image.png](data:image/png;base64,iVBORw0KGgoAAAANSUhEUgAAAhsAAAG+CAYAAAA6HsZ9AAAgAElEQVR4nOzdd5hU1fnA8e85996Z2d7ZXXrvvahYECsawYbGGk2siSXRmPxiS2wxJsYeNdGosRdsMSpiQ7AL0jsICyywlGX7zs6de+85vz9md1lg0QUWRDmf5+ERd+7ce+bOMuedc97zHqG11hiGYRiGYewh8vtugGEYhmEYP24m2DAMwzAMY4+yAZRSBEHQ+MfzPOrq6giC4Ptu307TWpOamkpycjJmhsgwDMMw9jzbtrFte8ePN/xFKYXv+3ieRywWw3XdvdLA1tYQOAEm2DAMwzCMveC7+tvGYENr3dhR+76PUgrLsvZ4A1ubEAIhROPfDcMwDMPYc7TW39nfyoYDlVIAjdMoP8QpFMMwDMMw9j1bTaMEQdA4nWIYhmEYhtEatlqN0nQqxeQ7GIZhGIbRGhqDDSEESim01ibYMAzDMAyj1TQGG1rrrf6ASbA0DMMwDGP3bbUapSG42BOjGlJKLMtCSomUsnEURSnV+McwDMMwjB+fHVfgaK0L1Bf5qKmpoaSkhE2bNrFp0ybS0tJITk4mLy+PgoICUlJSAExyqmEYhmH8yOyxYEMIQVJSEsXFxXz66afMmzePoqKixtGMhnoYlmXRvXt3unXrxqhRo+jcuTPRaHRPNcswDMMwjL1MaK11EAREo1Fc16Wuro7y8nJCodAul/y2bRshBJMnT2bChAmUl5cjhEBK2RhkND1vw5LbjIwMLr74YkaNGkU0Gt2lWh9KKdLT00lNTTVJroZhGIaxh2mtcRznW8uVbxdsRKNRKioqdjnYsG2bTZs2MWHCBKZOnYplWY0NaC7htOn5fd8nCALGjBnD+PHjycjI2OmAwwQbhmEYhrH3tCTYaNVpFMuy8DyPRx55hFmzZpGUlLRV+fDmNH3Mtm0sy2Lq1KkopTjvvPNwHOcHlzxqSQdHClw/jgl3DMMwjP1dq20xL6XE930mTZrE/PnzSUpKapw2adB0WW1zGgKTIAiYMmUKH3/8cePP9wTLihAJR3CEQAibSCRCZDf3g7EElGyYxmMLvySuBTvXckkkHCHihHarDYZhGIaxL2m1YANg2rRpvP7669sFGZAINGzbbszP2JGG3A6lFC+//DJLlixBylZtJgCWFWLtqte44bVbmBlVWPFl3PDkhTy9Zj2hXQ44BI6GOQsf5eI3H6HWF1gtDpQkUtXw5sRreOCLLxHSBByGYRjGj0Or9OJSSmpra5k+fTqxWAzLsrYLNjzPY+jQoRx44IEA3xlw2LZNTU0Nn3/+Oa7rtvrohpSSsqqFfLV6CXXKQgVrmbx8LrWeQO7mpRw7AqEIcifaLIQF/kaem34PkzauxhZyJ0dFDMMwDGPf1CrBhmVZrFixgqVLl+4wKAiCgDZt2nD55ZdzwgknsHnzZjzP+9ZpFa01S5cupbKyslVHN2wngmVBkgWhtL70ywwR8l2qUtrSI7M92A5Wi3t6gWNHElMwkTBEImSFU9n61tZPj0S2+WMnRlBsO0I4bBFKySUkIDmSi+VAuOG4xpEWQTi04/MYhmEYxr6oVRJEbdumuLiY0tJSwuHwt646sSyLCy+8kEGDBvHvf/+bTZs2NVYvbfq8htGN5cuXU1RUREFBQatse2/bYVbMuJVT37iJBQCWTcdb/0aganCB4+8X9O/wJ14/9xbaOTGCb83wlISkZMWyl7hr0t08VzKdGuGQanmQflFiZENILL+StybdzT3TJ/BZzQriOsQhXX7PLWOu5KjOuSxb+AjnvHo506MBRIDPjkFMBRSgevPohe9wUc8OKFymfngLd0x7hs8rllOjw4zofCW3HP9bjm2fi6d3//4YhmEYRmtrlWAjCAJKS0sbi3XtSENBr+rqavr06cPVV1/NK6+8wowZM9Bab5fr0VCPY926da02shEEcfK7Xcxb553Oi5//knetI7hv5K8omX8Dvy4u58FRd9AtM0S27aG+YymJbTtsXvwIJzz/K3IH/ImHD72RLF3Gu4v+wYPrBRoQAqJ161hUVcYRo6/j8uS2yPgc7v/0Nk59vZJ5l/+DwrbHcNdJb1ERW8Pf37sYt8t13DzwcAJVh6vTGZqfhReAY69n5tpiDjzs91yc3A4RX86jn/+JE17yWX313RTIAN8sfzEMwzD2MbsdbAgh8DyPzZs3Y7UwsbJhZ9kOHTpwySWX8MorrzB9+nQqKysbz9nAsizWr1/fajkbWkN6diEZOYVkflFL17bDGNQjH1bGKcw+mIMH9SSVANf1vn3ZqrCx60p4bNo9LM29gY9PuYX8MKAhtXYmD26MJ1bfKIWT0p0rxv6TpJSGgOkndBUljJn4BcurFR2zOzFqUFdwi3j+PYjmHMhPho1JjGxojefHCbRH3M/nkvGPkJq25T73sVbS/8U5FKmAdlLgm8W2hmEYxj6mVUY2lFK4rrvTzwuCgKysLE499VQ2bdrEnDlzdnhc6xBYKsa0r15iVnk1b21YQo36gscmVzNnyRQ2BIpH3vknw/uew2Ftw8S/ZWhDSBu3bDYTNyzjyIGXkh9RxGIeESCmmuzvIgS2FSJaV8TXS2azbFMpgQxRumklVkgiNKB83EAgvcS0TaBclAdeENsqdLBkMnFvNZ/OmcWyDRvxhKSybDm2EGiBSSg1DMMw9kmtEmxYlkV6evpOVexs2BelqKiICRMmsGjRoh3merReNVCBVAFrahYxtWIBC2KaLF3E9KoSZlVXEU3eyMzqT+nonl2/kuRbgg3A14mpllyLxJAJgLSwG16GEEgh2VT8Pr+aeAul4fZ0SUvBsiwqa1cR1SnbBQi68exbk1aE+Pr3+eUbV7PU7kW/rHSEFERrVuCRz85W9DAMwzCMvWW3g42G+hmRSKTFIxCWZREKhZg5cybPPvssq1atatxPZduAIwgCcnJydreZ9RSencxPDr2Vsfprzv57EQcdcBe/HxDmxvVzWdH1Rp4cfQC+EsSCb69aqrUi2WmLE7b5YuNKEB2IhCyIrubTle+DfyhSWEhVzeTpN/O1asdzxz3DyHwbO2Szdv4djHn1Fba+YwGJECeEdMDBSUw5KUXIcfnoy5t5u7odr577HKPzHayQRcnivzF1wfsEpjS7YRiGsY9qtTobffr0IT09vUX1M7TWTJgwgTvuuINVq1bhOE6zgUZD0mi7du1atWS5ZTnIslK+sZLITc2DWC1FbozkUCaOFUK2IO9BKx/y+3Bdl6MpXvJzHpm9nNXrvuQPL5zJy8WbQYRIjFNoCGJE68rZVF1MSXUxH350E6OfuZ4FIqkx2tMEWHYHBrcr5J2v7mDCssWsLF3O0k3FVPsBIHADTdRfw/ryDayrXMmUT/7CCS9cywblY++hKquGYRiGsbtabTVKYWEhOTk5rF27ttnAoaEyaElJCa+99hqTJk0iPT292QJgkAg0fN+nZ8+erR5saMB3q5DJmeTZDkQr2WhHGJueiVaqhSmWClelMubwf3BNxTnc8Eo//mh14SeDr+Ke3hu5ZE4FvvJRdipjRt7P8RVXcMkLw7G1TW7B8Zx/8JW8+c1clK6/ng5QTiqXHvU4m9UtXPL0CMAmJobwxLn/4ezunTjm0L9wbuXv+PXLfdE6m475Izh1yCWUz1i/5TyGYRiGsY9plV1fhRC4rssLL7zA5MmTmy1X7nkeQ4YMoaamhqVLlzaOZuyIUgqlFCeddBLjx4/fblv6b3ved+/6KsHdzLLaajpmdiVNRFlcXkxmSmdywtZOddrSjiBqN/BNdQmeSKdbViesYANLquP0yCrEEmBJm7rqElbXbcAlTGFyDwqToiwpKyEvszsplmrM1XCkgxctY2XNGmqI4+sUumR2JtOxkXaIoGo9y6PrieFQkNyFgkicJZs3UZjXiWS0CTgMwzCMvWqvbjHvOA7Lly/nwQcfpKSkpDEHo2ljGnI6djSa0fRYz/Po3bs3l112GXl5eS3OB2n5FvMSW0oC5aMR2NJCaf87a2s0RwgLW1qgFYEO0EhsAZ7a0mYpbSwhEWgCHaA0WKLh+s2fL3GHNH7gobZ77LvPYxiGYRh7WkuCjVarAe77Pu3bt2fs2LEopbbr6BtWn7Qk0AiCAMdxOPHEE3cq0Ng5Cr+xg9aJKY9d7K21DvCCOJ7yUVon/l9t3WalfLwgTjzwCJRC66bXb/588frjVbOPffd5DMMwDGNf0GrBhtYay7I44ogjGDduHNXV1fi+v9W28s3lcmx7jiAIsG2bcePGMXDgwFbN1TAMwzAMY+9rlQTRBg2Bxfnnn09eXh6vvPIKlZWVhEJbtktvbsVJw3/j8ThZWVmceeaZHH744cC37w5rGIZhGMa+r1WDDUgEB/F4nOOOO44+ffrw7LPPsnTpUuLxOLB9sKGUakwoHThwIOPHj2fo0KHU1NS0UiEvwzAMwzC+T62WINqcUChETU0NixcvZu7cucyePZu6ujqUUgRBQDgcJhwOM3jwYIYPH06XLl1IT0/fpdLnDVqeIGoYhmEYxu7aq6tRdkRKiWVZ2LZNNBqlvLwc13WJxWLk5eWRk5ODEIIgCAiCYLenTUywYRiGYRh7T0uCjVafRtlWQ70Mz/OQUpKXl9c4lbKrG7gZhmEYhvHDsceDjaaa1towjG2FI5HttpNzYzGzrNcwDOMHrtWWvv5oCUkoHMKWe2PvEYEdihByrL1wrX2L41hMfeJ3dOtUQPsOHenQvgNn3fYcrgiZ/WwNwzB+4PbqyMYPjpAQ28QnHy+nTZ/+dG+TQrCrlb+++2JIEfDNF29TktyLg/t1Qqv9ZRRIIIUkVrWeeLth3HXdNRQkQ6hNN2ztmZENwzCMH7j9fmSjYYM4KSVyq2W5AicconbJ+4y//AamFFXhhJz6Y7f/rt30PM3VLWu65FfUn6PpYZYdwvJLuOuysdzzxkxCIQfL2v64+pN957VE4993fByI+rbUX+d7HUIQoDWR3E4cesSRjD7qSA7q07ZFO/AahmEY+7b9eGRDYNsWftzFjXsoIbFtC9uyEQKCIE5dnaC6soLNNVHiXox4XR1R10MISSgcRqBBSBwL4m6cuO8jhE0oEsaSmiBoWFmjcN2AUCSCIzV10SgBNuGkMJZWBIFPrK4OHa1ic1li07o6N44fixJoQSgcxqoPBKRlg4pTF3VRwiIpKQlbavzGa2nirocVjhC2wY1GiStJOBLBlqpxZEZaNlL7uG4ML9BIy8a2rW0Crr1Mgw4C3JiLHwY/MIGGYRjGj8F+GmwI7JBk2Wev89zz77Bw5XrqNDgdh3PttVcxslMqsyb/m3uemETJmrWwaTWP//EyPshOwnVj5HQbyk233kH3TI2tKnnt6Sf5+Iu5LCvZiLDTGXzEqZx12nH0zEtGS6grns6dN07kiD9cRPKyD3n81Tcorspg9Phf8OufHUPVwo+4987HmLe5lNkbwZ9wD2fMfRHfq6MmtTc33nIDR/fKIRAhouvm8PILLzJt4UrqlEOXwWM45+wT6ZETxtcWqnwW9/3tIQaddQOdqr7kiSf/x8IyjxFjzuSyn59EQUQQiBCquoiXn/o3H06bQ0mFQjjZjDz551x59miSaNl29dKyCTk7+BVSAW58F6ZATIKGYRjGj85+GWxIO4S36n1+ddUNJPX6CQcf2hXtVlMcTUWgQEN6TleGHTiKDdnTmDy/nG4Dh3Ngpwxc1yU5vwthW6OFDZvm8u935tG/a3sO6NyL2Lr5vPb3q5i36W+8dNO52FKjYpv5/PmnmLJ5AcnhZEaMOJi0RVO487orSRnwGZfk59P3gANJrShhzZdT8Tr24uBDB+LH66hz2pKb7KCFQ0it4+bLLuXtqq6c/7MTyIoV8eKTtzNxVgXvPn0ZWUoQdyv4+uMnmTS3DKkVhx52MEOTvuaFP/8JO70nN/98CDa1vHj95dzwcZxTTx9Ft7CgYmM1qbZEK1o0uSYtqCpexOfT51GN2OopyvdI6ziAI4b3IyRaFrgYhmEYP177ZbBh2YIVU/7F1NXJvPrsXzm1T6T+EUXcjeP6io5DxnH1ASdTOe0x7nxnIydc8FsuGlGQOEwnSrIHvkJnDuGpxw6mTUbDOTz6p47l3CkfU339OeTYAmmFUJSwMmjH43+9leP65EH1iazpfxjPPfghv3ryp/ziqiEQL2Lx0/dSe+RPue4PJ9efT+PFPaQlmPXwJTz0eTUvznye4zslHh0zMI2hh1/BU5edxzUj0xCWjfBhbpHN48/cx08P7gCx1SStPIj/vT6BS382hHbxBdzxyCTyrnydv91yMk7Dqw88PC9o2aiGA+VzP+G+a/7MfA1Ok+kXr66GgefcxIFDBhF24pjaaoZhGPu3/TLYCAJN58MvZ4QYx6XjjuXTn5/O2LEnMGpwV0K2RcwLUIGHb1vE3DhaBXhuDLRPzPWbnEmjI1m0saFmw0pWbqzGkeBa2WDZiU5WgNY+Du258KJfcVSfvETw4ORx5iVXsTq3Mz4BwhMQc/EDCLzE9EO8ocaEsHDYyNSXlxBJ/wmZuoiFc6sJrAhSZdE+F16avoxrRg4FpdAhOPXqKzjloA54nocindHnXUJqrDcRD0jqyw2/GsUZ/ziFY8t+y1knHceYIw6jU24E4QctCg78mKDryZcx+eTLdniMF48RmH30DMMw9nv7ZbChPBeny1G8/sFEnn3qcZ558FoeuuNWhh13EQ8/cD0D88PE/UQv2djvNrfqww4T9pZw4/gzeH7OZmqjMcDCq9gAQy9ssmpFAxaOBYFWCBUQiGxOu+FmIMCNeSgZQqLR0MyqEAHao1ZYbFz5GOMPnYAf89FCIAnYWAptojWNVxICHMfGDwJkEKBFMqPOvZnRQNyN4caTOe3eCbx/yLM8858nueKc+8jpeiAXXXcrfzj7CELK47tW+FphTfGkZ7ju5gdZqrYZ2YjV0ueU33Dv/11AhhX/znMZhmEYP277ZbAB4Hs+7QaO5g93j+YPdz/Dms9f5MxxZ3HcjR1Z/59fIfwtlSsdP8BHgLCxbUBrAgVhayP3/vRUbv+8HVPnzmRUYSJz4YN/XMYxr2mUqh/aqKe13hK9aEUsFmt8TNQ/ICW4cYUgETAorQkCDSKFNtkW7Xv9mtmL7yBn2xekfLwmgy5b7QujFfEm10J76HA+R59zDUefcw1PxUt47NrzufjyPzF0+H85uXcWrvftNT60Aju/LYMOH0VbwGoSbARejDbd2mO1MNHUMAzD+HHbL4MNacHGpTNZE4uQk5VOJGzjpebStoPN0nCo8TitIKlNR4Z5q3n5hTcY0+FUwtpDyxA5eYWE41EWlVdD/iCy7TLWra5g2fSP+M9z74A8eqeWkWqtkU4mXXtGuPeNN5h61gF0SRf4gU1WbjZ2OJOxl53On898jD/eewiXndCPjCRJXfV65nyxgWFnHkOnSAveTmEhatby2eyN5GRkkZoawcIno7ATqZGVSNGy8EB50GbgEVw75KgdvSJc1zX5GoZhGMb+GGwIbEfyzeSHuehv76FTItihCBERIrvbL3jkl2NQQSJnQvtxkjuO5KrfnswtT/yNUa/fT3qyJrfPwTz0yDMMKcznV5f+gi+ueZRjhr1EelYW7Qp70D4pAypi+CqxtEP5caooJ+r6bD3W0YQO0KFcfnbFX5h53YOcOWY0ySk2sfQBPPDoPzhlcITCo37L7VeXcPdjV/PeQzHsUA7ZuSlkFYxj8Flj6k8Tp7oSwnVesx29sGysisX8+be/YeHaOJHkCCHLIZyew7l/+CUjO2Tg+S1LtFBenJi3i2+DYRiGsd/Y41vM720t2WJeSEm0dA3Llq+krLoGV9lkF7Snd+/e5CRL4nG/ybE2toizduVSFi9eTUxrIum5DBt+AGkhTcixWLd0LvOLVuNZmfTsO4ACWcnXa2o5oH8PbEsQREuZ/+UyMgcOpGNuMjtOYhCEQhZVG1Yxd8EyKqIufiiLocMH0zY9jEbiWIINRQv4ZuUaKups2rTvTI/unUgLCwItIF7OgvmzcAqH0qswY/t7IATCq6VoxVLWbaqgptYjlJROxx696NouD0v7e7Ak+44IwiGHd+/7GVdMTuXdJx+gU4Yp6mUYhvFD0JIt5vfLYAMSQYTjbKmYqVWA7++goxUS27axLVl/rCLuNSzpFNiOk3hMa/zAR2mBIyHu+fWrSSROyEb7Xgs6UIG0LBw7UckUrfA8b0u7hMCybGzLQghQgY8fBPX5IfXXchx04DWpKrrtJQS27WA1lDHXmqD+PN/P270l2LhySiZTX3iItimgAx+3aSKKYRiGsc9pSbCxH06jJGjlE3db2JFphe/F8ZudMtDNPuY2za/UCs+Nt7RlqMDHDXbQNq0JfI+g+cYkrhV3v+MS9W1uYYv2Do3WULVmPq9PeJH8JElSx0GMHtoFC7N+1jAM44dsvw02jH2JRilFdpdBDEr/hsce+BtKK0ae/ydGDe2ObVa1GIZh/KDtt9Moxr4nFIlsVyndjcVMoGEYhrEPM9Moxg/KVrVADMMwjB+NFmy5ZRiGYRiGsetMsGEYhmEYxh5lgg3DMAzDMPYok7Oxj5HSarIRm0YFZiWGYfyoCYElt3zv01ptqZtjGD8SJtjYhwg0tZWlRD2FVhohQ6SlpxFyBDsdcQiJtB0QASq+FytqCIGwbVA+2lQAbZ6VKCan/J14X4REOs6WWvdKobzdqRUvEI6DEAod901A+30RENTVUlYTRQHCsgiFU0hPCZvVdMaPigk29hFC2ohYEXdePI7/FbchP80irWA4V9x4DaN7ZRPsqBpo8ydDeZVULFyIX1tAxkHdcJrr2KSNHbIRQODHUS3cE2XH1wXl11IzZzW06UBau1TEXg04BFYk3Dg3KGiyya728VtaxG2P0njri6go12T36ITVkr36hETFy9n81TyCmEbYDjI7h/RefXHErgQcAh1EqV6yjFgsifQBfYjIPR1wCCKhcOJNCTxi/rfvKrxLVxAWYdvZMjmsFEHg4bX6KIEkEgrtYJMj0J6L28Jr2hYsnfoSt93/MqVKUVNTR/uf/JpnbjqTkOeZcnbGj4YJNvYZEnSMJV8vpeNp1/Lnn/UnUA7t2ybv9JCqkA7xsnnMuGosG+ddw1Flt1Hg+1t/cEkbVVnEwicep6qqgA4Xnk+bjimI3Qg4hLQJypcx68I/IS64gUOuPhQraGnl1N0lQMZZ+uhNlM6JYoUS01FaaVS8jvDxlzNsbN/vOeAQSOmx+e1H+OitgFOe/zt2JEB/1y0XFkFlMQtf+g81lYK6WW+hc47kkImv0TbkoXb2LZM2qmoVc274OcXLD+Gwaf+mk+2zM/HszhFEQhYfTP0XT9Xa9Gk7iusHdmnVgEMIC7dqHe8tnsYXZZsolw79svswpudAumZE8Hb6Ju2IJBKU8ch7b/JZzMWWWyIOISSOlcxP+53M4YWRFgU5QQCFw4/id38ZitRRJtxxPZOWrkNJuXW0bBg/cCbY2IcIAUIk06HnQIYNG5rY98QPUDs5nKrROEk5hFMLkPk5hJo5Rto2ZQs/ZMFd91Mr8oj3PoicDgfgEN+NzzcBUiJsG2FJdvjVbw8RQuG5PnU6jrdkNqUfbibzvKNJlj4qHiDE3m1P820UCMtC2iTe8Jb0KMrHzu7FiFvvx0pLYsGNI/nmc5H4fdmlVmjCyRlE0jKRkVycJKD1Bxoa2bZNdNkHXDblHZY5yfR1e3D9kO7QisGGbTvMXPg+T61aT7odIlBRnl8xh2dXLOHJsefQPVngt9q0RMDGqk0sr6vDERIBCEsSr1rHV6U1DG4/jiPbCrwW/EvSGtLzujCibU+kqGVm+zxC5a3UTMPYh5hgY5+j6/c90cR3dRMyrZF2GKFsxIAMImzbnQmE8Kj68ktU77Po1HUR5V/OJHryEDLCApRG2GFCtiBAIxBY9c9UKLxYk4BESOxwqPEXSeZkYYfsxPxz/c/sSAQL8AOFZcnGUW7Pi2+ZHhICKxzGbvK8gADf9Vq4OZxGB2F6XXgbfZyA9a/cw6dfLqLnLX+nW46FCgRezGu2zU0FBHixgFAkhEATj7mNm+k1PKexqqkQWKEwdpNOXwNe3N1qNEo6YWxL1L/uMOHUFISs3ur9sCJbv3aAuOeiAg0k8neS0iI4IQcnZKE1NBc7yVAER259Hi/wCLwmHbtOdI4WGiHysG3Qe2jAR1oh7KrlXDXlOdp3vYih7lsslK2/CC4I4nTpcTT3DsgkOymMrX1mz3mNUz+cxgcbjqVb94JWCm4UrpXD1Sf8mqtIvPFCSJK0y8TPHuMC12dk+xSCnQhstAqIxzWOiO9480TD+IEzS19/jLQiFE4lvUMPktqmbf8mS5sgup5lbz5F5pk/pfMhRxP98H02raxCSImwHLzlb/HyqBNZMm0Jc+66kmfa5fGfQccx5a0FBI6T6MwsG3SMZRPu4aVR3XkyO48XBp/KqiVrwEl05U4kwuybuvHfy55jfelSpl5xCk/mF/LMWTeyptLDtiUICyE1az58hjdOHslTbdvw7LiLmDb5GzzpNNup7khi1MBGSgEqMYKT+P+G124h8Fj89G28MKwfTxXk81RaKk9lZfFUm3w+fnUOMuIypV9X/nveu9REwgghsXUVi/7vNJ449lZqIhGkkEhLsv6TCbx9+qE8mZfBf/ofxsR/vU1VTCDrR3ZkKETNqs/56Ooz+E9eLk917cV7Nz+O5+v6kRaBED7L//sQ/z39GJ5qn8WTPYfy8q3PUFqtsKwtYYxWiZVJO+rHZMhhw2fP89YF43m6Ww5PduzNS7/+O0VFldiOteVArdChZCJtO5NakIW1p8bqhSTkVfHyZy/wcu1BvPnTQ8jU/h4ZRFFKkZXTloLUZEKWTSiUTI+23ehmW1TtViLt9jTgWA5h2yZsOSQ5IWrKlvHE/DmcNehkBqRZ+GY1iWFsxQQbP0Y6wLPyGfLo25x232mEt9lfRDgWscVvsOmrYRQcOJLMkX0IZ/x5CicAACAASURBVCxi0+ylBELWryhxYN1CZv3+clbPs+j9l3voOqSGop+fxvyl1djhECKoYMGff8kX175Cm6N/zcAH76HXGYeQGnIae0QBSCtG1acP8uXF1+Pagxl42zVkzPsXk89+jBo7hGUHrHnlLj678h+kHHoFB735P3qNgKJLzmHaf+eiws1NBO3otWtQqv769R10Y1KExJIu3/zzWmbc+i5tL7+Dgya+QrcLjscubEfeDQ/TfXQfbDTaDxKjBw1jBFKgdYAOVOI1SUXJWw/w0fl/hLzDGXDvP+l3xgCif72U9678B1UihB0JUzX/NSaNPYWylW3o//f7GPCHi2nfswBR/4YIaeHH1lL034nk9DiG/n95kH4XH4Z87AreOe8Rap1wC6dKJFLWsOCJR0lNH0LfG+9nwO/PIOXLh5hy5i2USoct6QUK38tgwN0vcMrEX5Adc/dIImLIdli07H0e+Kaa244/hRQ/RnwPrrDQWhEEASpQBG4t84qXUJacy9DMbOR3Jsbs5LXQKK1RGvBqmTx/CjPoz88GdgIdmFQLw9iGmUb5sdIBfixoZht5gS2g6OUnkCP6k9ctg3Q9kKzUdDZ8MZvY6SNJcQAh0JVR0k46lRE3Xkphlk31EYWUzTyNzV+vwerTn81zJrLixdl0ve8NRp7YgxDgVg6l+u3rth6yFhK/uI7Mi37JAZcfS4YFSWoBG351L6ujv6FnzSKWPvEM2T+/h4N/dwIpAMOGIaMnsPS5Jykbez95Enb7y6KU+JXFrP/4czJ/cQsHXjCWMNCxfQo1s65BlaWSk5OExE3knsitu3khZGLkB/AqFrP4vsdJP+2PHPTnc8kOA5xNft92fPyHF1k180IyDwhYdu+DqC5XctCEP9KufqHEmqRKiv9bh9YarQKsUFsO/sfrpKQ1TO2cQyrVfHndu6znKroJ+O5FPYrAtTnw7rdJzU7Bqf/pmk4pVJ7+GmsqIC8VVLDleD8Wa+b3o3UIaSNr1/LYV5/RocdYxncpAHdtw6NQn+vQmp2yLRSLln7Gm9+sYn3taj7cXMVPh57PcQWZeGrP7LsjLYva0hW8vHwFI7qfTN80B1/tC6ueDGPfYoKN/Y100O48Vjy3kewLzyUrCxx6k390Z9ZO/ISKzeeR1i4NAh8Ke9PxzJ+SkyWIexo7nEY4I50gGgXiVM+YQyxpFJ1Hd0Z6ceJYeLV1jd/+G+hAERl1BP3PP5YUHccNLHIPOY0ht3chV0Nd8RIqZ6WRdXwtKz/6EOEFCMumzkoitn4JsfUuooMAf/e7JuGECWekULlxHbXVLjLVoaa4CNd3Sc6PtKgDFEBQvISytVl0u3k0KeGAeMxD2CHyjziOtPgLlE9bQXmXKGVLlpD7m8do52jisTiW5aPc+FYXEU4StreZDXNXUVVSBuEIFUEUmRpAsBNJoDKJpKRqyhbPpnz1RrTtULu+FJGhSEQVe2l5g5BIv4q3v3qBz+nGA8NHkC48Yp6XyADSAXgegdbIVk7atcNhvLQwyandGK6W88ni9/hvu0KOa5eNoLUL5AkcoZiy6GMWBHnc2n8oKUJhthM0jO2ZYGM/I0OSDe+9SZ3vkpbtU/3VZ1QFIKw8nEWTWTG/hE7t0uqP1oniXEohkIlv4o2ZiQGqLgptkrFlYkgZCVImpmG2+lDXGoQElZhb10qR3vcEBg84AVScyngAVFE79Q3WLAiDrxLXiFnkDxpM2PHRuhV+VZXCTm9L9sAerHji33x89XzS2lhUz1uMHHYCPU4chO0FaGf7pwppIa0teQ86HkeHLawku3HKSGsN0kIK0DrAd6vx/RpCyWEal3sICXJLRqm0Q0RLZvLVdbcTc1Nxkiwsy8JdtxDtt2t5pCEdtFvMF9f8lspNSYQzHCwhiVcsw6vRiF2aMBU44TCW9nF3ovCXFFBdtpwn5n7N4iCf2yfeA2iE8phbVUdp9DVOf/4Lju1/Kmf37YQtNBqwnDCO1MTj8V0axfK1pEfXQ7ipxygAYpuWcNM79/F/n33MkJNPpG14ywiRtBxCjsSPx3c5v0IIC1W9kmfmzqBrj3MZ2SYTT+25ZT1CWoRCDsqP4+1uTRzD2MtMsLE/ERYyKKf0o0X460tZ/fvxrJP133WVQsXjbPpoLt6Ynlv6uOY+h7UGbGRyGnyzkmrXoiAlMTResWoulevXk9GkY244T9NTaS+G74GwLWR6OnZmEnnn/R+Dj+uKFYujAGnZCMdCSKt+VUYLXqK0EBYImUjQFJaNtCxU4IO0iG2cz8ZpJeRf+jvaZUYJyirJP+gk8g4YQmZuMoGvsByNjiu0qgHADofwq1dTvmoN0B8AmZWJU1NK9apS9IEF2LZG2BY1a5dRayvye7cnLUlghXJxizcQ0AErbKNqi9nw9UwCty9CSCwpWPnMjWxYkc6wB+6gQ5dkwqlprJt4LR9/NWfLTRMi8dpIxCuJJbSJVSVojRWyWP3qHax4ewkDn51I70FphJKSKZ/zFB9P/8931/LY/k4ScRSz332BkjaHcsyQ9gSu26KAQ2uFnZTHGQefxRDPR9YHmyJew7rqNdSmdubgHt3plJWaqIUCSEuycdFHfLUulSNHDSNFejtd90MKidYBnh8gpUMksz2Ds7N4aG0NXqAb82+kJYltXMzEr9cw/PDDKUiRu7AKROA4goXz3uFDL4c7ewwiJwTeHoo1hLDQtev5YNIM8oaOpl9BCsEeKIxmGHuKSRDdjwhLUrNuIes+/YDwn17nnA2rOXnZMk75ZgWnF81l8NUnEXvqFVYGkOjDEt84GzsYrbf8wSHz0JEkpX/K8iffoqqqmk2fvsynN95FjSW2+SZdn7DZTE+lFSR1Hk674/Mpuv8Biuatw7csND6Vy+ezaOp86iJOy77gC4hXlxMtL8etjYHw8CrKqCvbTKzOQ1oSt2IDlSsWQaiA9seeSLfzfkHnw4eQkhZOrFSRGk0m6SelUf71o6ybU0J0w3Km//H3rHhvJomi8mC1P4gOpxay8u6bWfLJQmqro1Qu/owvr74N1edkOh5ZSEpONwpH9GXjQ3ezeFEpsY3LmXHLNSyesoxEoY0Ed2MRARI7NYJlQ/GkfzPjzgn4UTvxL1QIlOdSV15GXV01fiwx4uSWx6krq8T3EtNWsdIiAhfsjAgyZLFp+pvMvPMRqtfEdnpkQ4bCVM98mJNPO5sTTr2A56aVYIWs734iibc6nNqW8cPHcePBp3D9Iady/aHjuW7EMQxICpGbdyBXHzyOI9vnINEI6UD1Ev4y/nTGHz+Oeyd8jksL3/OG9qKpjVZRVlNJeW01pRXreGfaK/xtwTouGzSCtslOYlRDWAi3nNcfuIBTTj6OC2+fwGaPllVybUJYNmxawO0zptOn+xjGdW2DCvZU5y+whM+sN+7m2JNO4ayL7mJ+qYu9s402jO+RGdnYrwTUzP6Czd8U0uWh0UQyMxJ5AQgsu5CCsYez8MWbKPmojE49RP2qjoZvfIkgQ2vVuAQzc8BxDPjNBUy/7UJe/UcGVmZ3elx/O+lvPQ+Bh0ajEWilEys5mluJoAJkUgF9rv07dTf8nlmnHcJXdgoinIKTmU/Xi/6Ms+20TLMkwqrhq2uOYfnkcmxcLN/j6+MO5qu6GlKvfJazrjuWtE7DKDxyAPMuHc3qm7ogCgSiysbpMoiO51zI0DOORNiCAb/7F2um/Iwvjx7CF+l55I09k3anhSleXj/kH8mh73X3Ufe7K5l77jF8LRwQHlmH/JwRf/0T+SJO3M+i9/W3sX7Oz/jq0J58mVtIwbgL6PObASz+oAatAgIt6XXRfayefDmfjBpAkATJnUaRd9ggapfF0AHIkMXmT59j8q9uIu5nYkc3Idw1TD20J35Ne/o99TRDxnSl+5l38M2L5zHruP5Mj4QJF/Yib2QfkjouRfmJFRQtpQNNSufDOLR/Es99tYLVizbgH1BAovJKC56vFV6gaFh0KqRCBh6eCvACH5RqnL7QWmGl5HLokQN5eOkUphetxPUPImTteJnvVoRFKFjP9c/fxlPrSxGWxAPSMnty+kEXcNPQfoSIJ9JWtEI4KXQfNAqHaaz8YhnldYrcNLETtTEEjo4zZe57vFMleXzwaDKI78FcDY0WFh16HkCPFChe8hUlpTEG5YYwJUaNHwqhtdZBEBCNRnFdl2g0SkVFBaFQiOTk5B/cZkBKKdLT00lNTf1BtV3IEDK2gDP7HUTW/33EY1cegOvGWljQqqUXAbdkBRXrPDKH9CIim3yYCwvlllI2ZwlWh4Fk5npsnr2SpN79SElzAIH2qqiYPx8K+pPTLh2lBNLyKFs0n/jGKHaPAWS2TyM6bz5+egcy2mcghU3Nio+JVrchs093HNn8cLV0wnixCqpWLsMvqUCHcwn36kZaXhqW28KqplJTueBLYht9hG0hZCI5Fd9DdhtKQY9cqhd/yBe//RPiyKsYcPxARO1GVGUd6z98hvmPrmbg2y/T94BcLOEQXb+YqqXrIDmP9MF9kGuXUFHqkDu0C9ILEHYI362katk3eBvLEG26kNKrG2kh1VhES4Yi1JUWUbWoCJ3UhoxBfbArVlG21iWnT1ek1AgnQnTdYmq+WYsSSUT6DSUlsp6KrzeSevAwkglwK4qpmLcUrRywLITQ6MBHe0kkDx5Mak4Iyw7jlq+kYlER2hU4vQaTmh2nevYKQgOHkeYELf59spwwjiVY8siJ9L5yJY++/xa/OKwt/i5v6icQKs6SDUVUhgo5OC+9sZy3sBzCjkXt/GfoPeA8Tvjnu9x1wVE4qiU1OBNsPBavX0lxfSG8iJVMz7QC2mam4iuvMVdDCEk4HIKKmRwx4hBqDrubN/5xIXm2bsGKny2kVqzdVMQy12Fkhy6EWhiE7YiQFo6o5V9XnMvjVYfz0fO/IxJ363NXBE4kjEU5vz/xQJ5YcRiTJt3HkPywKQJm7BO01jiOg23vePzCjGzsY0RjCevE31s1YNIQbteTwo4C7W1TmVMHyHAubQ7Jh8BDKUGbg3PRnl/fBo1w0skZMQqUj6r/kFOBRXbf4Yj+Ah34KE+R1m9QotZAoNDESe06ijShUN9SEVV5LpaTQk7v4dBXAgr8xMqNFt8BJcgcOBrZzPCy9n1UPEbNjE/ZNCuJAXceS36/bKAvECDcJSx7vhil/USpDi9GUl4Pkgt7JYpg+T506EVBR42qDyS0H0+0ecAwhJRoFaB9n8Db0mIVjxHJ6kDSqM6J83g+ZHUgP1ck7ocGHY+RXNCDlHa9EGi076N1e9qM6oCOJzbjcjI7kn9kt2YKnClU3KvfAyZGKL09+Yd0Sqw7CXy0SiH3oBHbv9/fwnIEq2Z9woLlc3j6wS85+aq7GDeiI/i7891do2WIfu37InRAvDHQsKkrWcAHX8/nw5cfIeMn13DeTw4iIgN2JgfSx6F3uz70r79BWmsCrXCDLQW9hJB4dZuZOfVzPn//FaoyD+H3F48jLyQJdnIKRAlJ+4JedBYQD3ZzE7v6KqRSiEQuzlYTSAKhPBZ/9j7Tpk3hkzUhLr/xQvq2SSIwS2yNHxATbOxDtNYEfi0fvfJPbip9i1BqR4477SQGtEvb6c3Ydijw2WHCvA5Q8YYHNSq+zae9Vihvm43VtN7uZ9r3tvn/FgYMSqHU7m3cpj2XYAcFI4XlkDxwJAXDvmD5H39L6aAuhJMi+BUbqFq8gsxfXECXgQXI+hukAw/d9F6pZjqVFrRZBz468Jv+YLuETe1725QMV+imp1UByv3uDnG7awE6vnMdqWNJZkz6N0/OVAy+4F5+c+k5tAm57PKgxpaWJKZQmrBsm40LJnPPP6fQfcSpPHv5RQwoSMHfhaqffuB/a90QIS1iFUW88swjFEeGcus/7+DowYXb3a+WCtTuV0O1LFg5431efXs6ddrls0/mUtXvsKaNRvvVvP/qPUze2Itf3voEpx4zDAd/9+vOGMZeZKZR9hXCQnibeOXhv/LV+iSSbUjO7sm4M06mX7vU1gs29msCZEDNysWs+eRTYhvLEJ4Fmfkk9e5P2+EDSUsLJaZe9mNCCmo2rydKKjm5mYTx8XZmjmFnriUk8Wg5m6oCcnNzSI1I4ntqSQcCHcQoL6/ASc0lKy2M8r/fTtuyoHj6B7z4v0+pROP7ijbDx3LlaYdg+Q3BraKibD06lENuZioon8B8Hhj7kJZMo5hgY18iJLbjYNWnVmqlE+WXf2ivY5+W2HV12+qgiY3cArT5EAfq64oInaiLsodviRASKQVaqb3wu16/b41W+0wAL6SFZcn6KZTExmy+v3UOiJQWAk2g9u9A2Ng3mZyNHxqt8OPuHishbUAiqPC3nh4xtqNVsCd3nd/6Wlqxx1aNbn+1PbhEdddoFeB/RzEwtQeLhRnG3mDqbBiGYRiGsUeZYMMwDMMwjD3KBBuGYRiGYexRJmdjHyKkTTi09Vui/DjxXdp0SST2BxF611dXSKtJXYfdOM/eZMn6yqffd0O+Z5aF0MokvP4A2OEI9jb5ym4stt//Chs/LibY2EcIaUOsmNsvOovXlzok2ZqMgoP4zc2/Y3SvbIKd6ugFWvv41TWoIIydmYxsksUurBDSkaimFUqljRWyIfAaq1/6VRtRrgBLImQIKz0F+T19BAonhLTkDvfLUF4cpQL88kqIpGCH5X4ccCj88iqUHcZOCrPdwptW4tjh7fcU0QExf8+kOAshcSw7sS29DogHe27Z6tbXUniB12yFUSEkIctGoIj7PjsbjtsOLPzfw9x0z4tsUppAO/QcdxkPXXMKjt/yCqqGsa8zwcY+QyJ0DTMmf4Vz+O38+uTu4GTQKSe8099OhRUiVvIpn194GqWLf83o4lsoiMVQgLAsaldPY+O05WSNPYfMUAykjV9RzJr3P8brfihdh3VGu5XMvednLP8ghlVbgl/Wn6GzX6N3tsLfQzUXdvh6pKJ6zueUzl6a2HpeWondTgM/se+K0qSOOYvC9uuYfOAZhH/zb0ZcNZBwbD/8sLZs/PIFfHrEWMqHXsThd/2OnCy71Uc4HMth5sJJzPBDWA13WQfU0pbLB/UhaOWAw5YOQW0p09cuZa7rUhhpx+FdepJi+43VSFvtWrYDNZuZsWYpM9wo+ZG2jO7Qm4xIk8qnQhIOhaCmjI9XzGaD3YZDOnUh17Z2KuBQAWT1GsbZl2ajqWPio/cxfVYRypKIoIV7wxjGD4AJNvYhQoAQKQw89CecfvrgxLc3z9+FegAaO5KN7aSh3aSt3mTp2JTNeIHPL3uCwUeeQ26yjZJRvnn490x7eiWD/nMIUmgCmUTPXz5G58s1pc8/yJy/LkJ92z6cDfMtzX06CpofZRCiBZ+mAinjlH41iS/vn0AgLWS8Gr22DNq2g7CF8hXduo2lQ3tZX7qbRMnnb2tTQ8PEtz2+bRt39EJ24lzf2p4WHrNdu5rQGhFOxeqkQdo4lvWtrd5VlmPxyvt/4c7qQtpbFkJrtI6zSR7FL4cNQPi7WcK76bVkiJrNS7jj/cd4dtVqlFLUimR6dj6at8afT54Tw2ulGT5LOmxa/TW3TXmRt9aW4GtFJQ4juh/PMyeeQ1vHxUci49V8+OU7PLhkBu+vW056m6N56afnkZ9u79S/V6Ugv9swTut9IIIoFZ+9zryy1nkthrEvMcHGPkfjey6gcd1d+2autcayw0gdhsPyiLB1ZyPtMHZKCtICacHq1x9jwdvr6XXXPxlwWFeUGwcEaYWdsB3wc7OaKYJVz6rP61D1W89biW3I9Va1DCRIzZYxbwFSsF3N7uZfDYEfofMFf6TzhX9COCH8+S/zxjn30+vhCfQ7tADiHuAQ11UIKRNFu5CJ/hhRPwrSZBMyIRM/UyrRZmklUqUDtaUQnJCI+kJTov41oTUaidD15xICIWTitdSfS9cPqTfNbxGWnXgHlAIEWtYHCk2Cha2OESJxH1WTImMicR9FfUEqrRL3WjSXSyMdrDSFlZyCcBw0O1/6uyXCTirnjryCf40aRUS6KK0Tb7HbivkGQuKoWh57/0H+V9edp8+/kaPaprJ09gTGTnyZyz/qxrNjDsHC3ekpjGYuhk2MactnUJYygv9dMo7BuUksn/8GY/73Etd+2YfHjxhCxAqY8OodXLlRcmHfcfQPv8ZjMQtL7Hia79uowMdVCke4eLuUn2UY+z4TbOzDdvkDWyusUBppHXqRmp61/ZssACGwLKiY9Qaz/voSOWffyoCfDEV6WwIcHfgoJ1GVtbnGCFsSLVrI6s8/oWrBKpTrYXfsT95RR9OuT3tCjsual59g7Vdxuvz5GtrYMQIFMiQp/ewllr8wi7Y33UmHLI/vLIzY0Ofq+gEEpUiEEjrxmKgf3pYS7dWwYeY7bHx9Mm5NEhnHnUa30X0JCx8tLFAuG7+YzJqPvyC+sQaR24nsw8fQYVhPkpMdNk97iRVrutOtyxqWvfAFyYefSmEPxZoX3yKWMZw+vxlPeryadRP/Q7k9iDadbNa++wHR1ZsJ9TmMzuOPIzcnjPIVwrapXTuH1ROnULW4OPFScrvS9uRT6NAnH3yFsB1qimazdspkKhYXo610kocfTsejDiYrwwGpKJ/yFquWJdHh2E5sePctKuauw+k6kMJxJ9KuWxbaDxrvkxBh0rt1ps7JQkqxx3JXtE6MBCQ5IGUIGfh4rVwFVApJ7eZ5vFhcyxnHncDhhRkEQtJzyIlcu+hz/m/lFGZsPIBD8gTubk+naFztcPwB53CUFSYcsvACSbeeIzkr/z0+Ll1CWd0w8sOKow+9gA+cLgwoCHP30y8TaHYp0DCM/YUJNn6MdIC2s+l13T10FVk43rYboQmkbRMr38T8ex+Aoecy+IKjSZEBqsX5GAJpxyj+35usnbsCJzMDIRUVkx5n9eSvUXf/me69c3HCJSx59Cnk2PPIPTILXI0Iqlj74mMsfqcTHe+3QLXkm3diJCCRo5GITLTSiZGIhl1pEUjLZfOkf1KzQBDJzEWv+YjVv/6Qumde5aAReQTKY+3bjzP9rxNw+vUjLTuV+PwPWPPm+5RffQsHnnUQdcXTWPbw29T0U9SV1LBm4Z2U9O6C2LyC0o/+R+iE8Yzooij/eiLzJv+XtA7ZONnt+H/2zju+qiL9w8/MKfem94QSIITepEpHQFBEFFGxr72sZa2ra29rWXvZn2vvvSD2tYEiKhYUBKTXUBNIL7ecMvP744YqaoJhBb3PH34kuTkzZ05y5p23fN+gUcPGh29k44oK9rvzLJK1jwotZ+YVf6emrg1p7bOQXgR33VrCVaGYZ8QM4G2aw7cXX0SNziO9c2tExTKKb32X1VNOZ8Sj55NBhLpF37Pk/hms/SwHMzGXpCSX0sn3sn5RMSn/dw1p0o95FbSPNFPpcM7jFOgsglbDu702FqU95m+azzPzNbmmTfuMQjrlpuN4ThN4GWJIIalav4jvAwVclZOHaUmo3siUBZ/y2qZNlOlkFteUMSQvm5/vMNgItEIFg1hofOXHKrr8KFWeJmgnE7DA9z2SmnWgqwCikf+Z0mqcOHszcWPjD4rGICG/kIQdXPpAzE3vRVh1zYV4FV0Ycu/ZZCUrvB27vP7KCMoxaDHxFNqclUNiSgADqJz9OtOPu5e1XyyjTedsWkz4K3mdn2D9K8/RYfAlZAQUNUu/Zf3URWT980FaWQrnt3Qu3w6JUuX4QlN49g10GNAOUfYDnx06htVvfsu+/cdTu3QK825+kODRdzP0/LGkJBo4lWtZeMslzH/sCdqOG4hISkXOegTj/AUMaT+faePOQQ09jeFXnMK00YdSsbAY2SEZadl460NkX3Qx+4wfSHKCYPkTl/DVvU+w4a8n0aVDkJIvXmTN5xvZ57XX6DsoBwDfdfB8Ba7GDIaYe8tFlNZ0YeCTd1HQLgWtfYrfuodpp97M/GOPZ/D+aUg7gLd6EYlnnEO/c48kI0mw/rV/Mu32TylbczGphRZbe7ILgs06EtzZs28qNDRPySNcPJuHSmZS6rsEAlkc1O1Y7h3Rh6gTbRqHihCUVW0gKzmDtlaADUum84/P3mBmTQITOgxnxbxFlLkhvKb0K2hdP3dBwICFi7/gv5WKcwf3I8t0ibiA8nGFwIgncMaJ0yDiol5/YGI9QHay2ehYjkBCQXtYuZKy1ZUoaTT++sokvU0+wRSoWL+O4nXrqDNSsKxUdMhDoVG0odtF46me8jEbl5SDkFR89SEV5mC6jm2LcpuyasFH6xxyx15A2wHtMFwfOyWX5GYt8dZvwgXCP86iqqozhceMIDlB40UdzPRmtD5sLPa8ZZQsK0NJB8QxFB7eloAbQqV3puXYoaSkWrEcjXrPivJ8UiccRddDh5Bo+fhK0nLgMGzPoWr5eqJAeof9SUupZfEl5/Ld05NZv2QtYWlj2yZIE1G3mLUfrSLnsNNp1i4VHXVQnkHrCceQlWdR9uJX1BIrSbZbT6TDKYeRliDxfUFK83YYniZSWxfLA9n22fzcs28iotEoJx91P5+dfjMfnn47M066mnOaJ/Dvaf/i8eUegR2FI34DWkiIruORqfcx7u0XiWYO5IXjr+a2gX1J8b1fTlz+DdjBAJuWfcyZU9+nVcfDOaNrM9zd1pE2Tpw/NnFj40+JRmHQ8rwraTWolB8vv5F1ZT7SbozBIbCCNus+fZypBw7no/3248MhQ5k64TRKFq9G2iYCUJ4m94CzSQ58w9ov5qCoZt2bswiMHEd+ut30XSyVRMgAUJ9Eubm7Z32Vh66rQzXLIilBonwVS1JVIJPTsVQt0ZowsXNtFhagPYUOBLBsA/GT3BWNsG2kVihfoZXCMGykFihfo/Axmw9hxKsv0G5sKxbfdQ4fDh3BJ6ddx8rlFUhbIkK1eAgCrbOxqO/w63to0ghYAbyaDXiAQCFIRAhV3502Np7QIpYk2uiFEkjDxDB27RWg0diBFFKDSSQHEsnNJ4cG9gAAIABJREFUbse5/Q6ga1KEZ4qKQW5/XWmYmPWVMY0dKT0hm7KKpXxVa/C3URfxzCFH0icvCaormGtYJBmBreW3xLqomqbxG/RFBHYgiFw9gzGTH2Vj3mE8duBoknF/35CJEBimGcvDiRNnLyNubPwp0WjPx0hKoN/t/0dazWRm3fAgVVU61n57M1IiMBCxmtytlR5CIC2L8jmv89351xMdeTkHzpzL8YsXceSnr5LfvQBdfwLUvouV2ZWOh46g7KNPWD3rUzYWC9ocNBBb6t2TT/ALVS4iKRGjpJjqGhdhmgjDRAhw1hcRScshrWUaEgWorduX5he2cxFbJ2kgTUmoqhQvIEnMy8BUMSMkvccw+l93D8fOXcuYyf/CWPI0M25+kIgHJCRhCUV4xVqiGBiGgbQtVKiImrpagp27EmTzOu1kvXZp3xEIPCo2FFFSEcUwd+01IHb4/6gbJuJ7tLEDbGuVSQm1m9awqqSyvlqn4SilyWjWhg4yjQl9D+W0fTqTIGO24/dLvyAxpTn9MnJihiAxQ8MPbWLV6g2EfbkLBofANAQlS6cx7s1HSCk4mW//cgztEw2UFlvnLgSmMEBKJLEVNaREil0xqBoyrVjoc8PaNVSF/ZjYWJw4exFxY+NPi0a5EMwdSJ9rrsad+hyznplCWBn1Za4Kt6aGSKQaN+oihMKrrSZaXY0T8cDwia5cS3R9Os2G9CUlKIhWbGD11PepKindcrLVWqGlTd7BYwnWTGX2rQ+jW/emZd+22+QY/C9uV6OAxJ6DSMtdxbJHX2HT6lLccIjK+V+x8Lm3MA8cTst2KYgGzksIgQ7X4dSF8XyX0LrFzH/mFWSHwTTvnomhFHWla6ksWkuotBynNkJ6h17k9e+IdqNoF1RyD1qO70rppP9j1YylhOtCRDYVMe/e+6gShRScOZhkmlacTFoGNYs/4aJDBjHyL/9g1kaF/RMp0F+7d01tqJqqcC010RCr18/l7u8+oczoxXU9c/Hr11AYNqL8B64+ZST7jDqFt+ZVYDTCg6a0Irl5X47KEbw+52M+Xr2emkgdyxZ/wOVzixjbYQS9si1cpQFJwA7z/lWn0KvfKO57/RscYTdq87cMwcrl0znrw5coSRvJMwePQtWVsb6mgpJQDWFPIYREOSGKQ1VUhKqoVQAu5aFqNoaqifhNXZkiMKRm5edPst/Awfz1xpdZF9IYcQ9HnL2IeILonxDlRHBrqvF98H1F9ugT6PyXr/jh31fxQ8dWDDq4O17lIr495xqqlY+3ajGR8goWX3gqRcIjZdw/GHjWMFJ6DyRn9GSWX3Isxfn5CCLoZEk04OJtK7WsNKldh5Hd+hmWvTqLFrdeTGaGjda7lq+hfRe3phbfi3kftrZv8fFqavGi/jZeCR+/rhbXjukwJLXtT5d/nMoP9zzO57MmE0wJ4ocqIbMP3c88kRQBZdEwbrVCAdpzcGvrYpun8nFraxBuTC9DmCbVbz3FV5WLSGiRTLRoFa7Xmi6XXkZmwEcLg9KvX2DOve9jpqUjgwF8J4TvpNLu7PHYtsL3bDr9/UbKVlzCgivOZFlaOpIaotWJtL7x33TIF3j49c/M3UYwSsfmVlMXCwc1dg1xiNTWsuzjl5k85woGjG0JfkOfhyRgbeSaZ27nu4QkElFElMAINufecYfTMcUj4mw3GKFoNeEl/+W/7/zI+D4jkPgNM6C0jzLSOGHYUSyY/h6XvX0HeUGLmnAUo9lwrhnQj4B22DqcwoiEqatYxqSPPuGkQwfRKrGhdq3EcGt55rt3ebd4HRneTMa+OAtXKbRWmEY2fx92Cqd2LWTxN49x0JwfSZEGJZXFVKkqTp+8mEQrleuGXcqJHVKJNGGIUCBAQUVJMR+//QZLz5xA6w7J+PHeN3H2EuLGxp8M5flk9DqKAffsQ1YS+J6HkMl0OOsGEtt8jJso8JXCMFPJ3380UU8hzINi3g7PQ/mKQNc8hPJIaNmXfvc9SvGnM3BLo8jCrmT174gz5wdUTgGyfvPSWmOkNSelbRqyXX9aj9kX29Dsiq2hlYds2Zf+N19DevtU2KIvoVBeFt3uuQGjZ0tM30NrjUcaheffSI7dA0N7KN8i/5ALSe0ykk3fzMWrqsMs7EVGvz5kZAbwPY+MHkcz4D+QBpgF/eh7QxqZeQFcI48eN96J0SsVz4sJbgX36Uerwf0IaA0jJ5DVrycZmYnoqIsyJDn7TqD7+W3xKsvRroHMKyClVx+y22QjPQelIZjTlyEPv8jG72cSWr4BMvJJ7j+IvLY5iGgE35SkDz+SfumKzERji8Fhtx9Mv5tyyGiZ2GBvTGytDHJ6HsYFJ43izZtnkpuS2EhdbI1WiezbYz/yEoOYQLuktvRp1ZbmSTZRZ5sHqxVW84HcfdlxPDv9QVLzUjAamWPi+j4dO4zmkcwOfLN+Ocsdh/zkdoxo257MgN4qVy5Akc6EJ26nx1NDSExJxDZlI25No4TFqF6Hk9W+BlOArzbPNZYz0yszBZQmu2VvLjLzsYTElAZSaDzfR2HRLdOm6fRTY/PCDNLlwOM55aAHeGZ5CsnBxtxXnDi/P0JrrX3fJxQKEY1GCYVCVFZWYts2iYmJWxUV9xKUUqSmppKcnLxXzV1IGxmZz7HdBpF91ec8ck7vWAMox8Vv4vsQpo1hxhqxbTkYbW7Epjx8xwMhMQI7d0Fr5eI7sU1eGBbS2hyn1ijPRxgGWnkoT2MGbCRQOvNlvjrnZozx/2S/a44g4EZ2/WVZP1ftRnfQBZEYQRvtOyh3axmoDAYQ2sOPelu/ZlrILbkKGuW6WzwEsUZ1oCIOWpoYtoFyHLQWGAEbfA/l1rLg5uNZ6U9k9K2nkSxiLn9Vb5BtWWvDRFrb5ykoz0V526ca7vg57bn423wm1ogOVNTZum6GiWGZaCfaYIlsKaC6qoT1i77jnksvY27b83nzmYtpISONjGoJbNOuFw3ToH1c39/ud1VIQaiynJJ1i3jtxr9yR9FApr7/FP2yPRyv8Q/fqJdfB346npDoaBUlxSXMfvcOTr5xDv9643XOHFGAdhqz9Qts00KKnUWYFb7v4iqNYVhYO63g0vi+Ux/WaRjSMLEsE0GIR889lkcqhvHpi5cSdKIoHdOrqyopYtH373LltffR6bSHuOu8MSRv1laJE+d3RmuNZVmY5s/7L+KejT2OKCvmfcvn02vwsSjo2pXmKcEmNZy05/CTPlnKw49sfyL1I78ugKF9F9/fQZTLixkrKlzK4nc/omLhfDa9MplQpwkMPe1AEpSz0w6aDWbHuW79xk7mrFE7+5rnoH7Gs6J9hy1q69uNpWPXr5el1r6PikTwQgrXdHZqPGnfw29AeOLXPqddhx2XmQZeeysC24ww+da/cf87RXQ/6Eyeve4cWpoOja9A1jhe9Bc/YdsW7z99KVc9/T0tex/C+69eR98chePu2sP3lYf/Mw/NsGzWTH+FcWf/h8SCfbj/zReYOKQQfiJo92toHM/51U/5O/u93wWkgPJ1C1m4rBSDOhYWbcRL3ZqIKqSBrtvAbX/rx+vr9+W08+/n9ONGkWIq/HgVbpy9iLhnYw9BSAvCy/j7+H15/HuDgFRktzmQO5+4j/F9cvG8vezNIk1U9WK+Pu8M1i8OkHXBVfSZOILMRLHdiX2vREjw61hy/3kUhccw9B8nkGh5e4VbWwiBGwnjCZOkpESk9nZbPw4hBJ4TxlEGiUlJ2MInutt0KgRaOYQiPglJSSTYEtdx9/CTv8CyNN8/dxunXnwfazRoGaT3STfx7t2nE3RjSqwCiERqwUwmOdFGey7enn1jcf5kNMSzETc29iCEtAjsmKnvu0T2ViEhaWLZJgagAK8R7v49HiG3hIjc6G8ICf0OCFHfpE6r3T7v/+VYsQ7BsbBOU/Zn2b0IrGBMfXdbnEhkO8l3ISUC/cf5+4nzhyIeRtnL0MolEtk9HTp/F5SHG/F2U8/R3xmt8BoQZtoT+d9s/P/7sdgrN2ONG4n86t+IVqpJU07jxPlfE9fZiBMnTpw4ceLsVuLGRpw4ceLEiRNntxI3NuLEiRMnTpw4u5V4zsaehJDYtr2ln4PWCs91d10lUGy5UNPMb3cixN4xz70FIahv6hJnD2erzkYM7XtEm7Qbcpw4vz9xY2NPQUiEV8XU119g3kaJIRTB5AKGjxlOYW7iLiW+aeXXt5M3drqRCyljPUw2b/Qqpor5k3kJ/dOvNykC7XsgDPa4/lJCIozNa6TA9/d8m0jENEAQItZEbzchpfGTKgrQuE3dybceIQRSxBqfaXRMRG03PQshJIaI6V0oNOoXEjS3/azWCq8RvyDSgJIFM/jws9nUARqT3K5DmDC8G4bfQEn3OHH2AuLGxh6CECbC28ADl1zMl1kHMb5/M4LpYboOG0ShSKIxR1QhLaJls5l/1/VUFx3OPpPOIGu7UrqY0ma0poxoWTk64oGdhExNJZgc3BpbEwI/WovrgJ2cuHtibsLAD69l4b8vRfe5mq4H9sRQe0L9ikDaNn60jlBJKSriIBJSsHKyCErFbtpPfztS4teuYt5F11DbYSw9zj2WtBRJU+/KUhhUVK2nTMW2/hgaVyfQJTMd1cQLZEgTnBCbwtVU+IqADJCXlEmyrYj+JoW4nyKRuJEaiiMh6jSkWknkJKdi4rGt8KkQBgFDUldXSXE0RJ3yEVY6hUnBBv+1SqGp2lTEnFmzqVVRfvh0ClWDLuWQUT0x1V5g2MaJ00DixsYehBACy07i8HNu4rG/9cNzHXylG99oS9S3EP/hK4p/GEL37b4pMSzF+k+fY9HTkyhfthJdB9o0MUacxOir/kpKskArCbKO5Q/dxcqyVgy89jQybN3kJ0khJNoPUT57Cir3XLQwEE3c5XQXZoURsCmf9S4Ln32N4qnf4paUI/I7kjz0eAbedy6ZansdhD0HAUJRuexTyvxu7KMEEpp8rrZt8eDL5/CvUC6tDZNYyMZhkxzOxr+fgYhEmuwZGoZJ+cYFPP3Ve7y/ZiVrPBcpkujdZgjXDT+Crulia3+U34g0LDatmcl9X7zF9E2llCqHFDufA3uM5u8DhpFpevg6ZmhIp5JPF83gublfM6eimAovSm67M/j00KFIGlaq6nmCDsOO5p6RJ2CJWh4+7wQer2x4V9w4cfYW4sbGHobWGq1jW4Ovdk2jQGuNEUgjkJiL2S+b4DbfkwGT8m9f4quzryHxyKsZcE4f7AQTVVVCWGRiWwAGRtDCIEp41o9EyMRMCWABPvUS5dsIjQnDwrA296xQ+I67jaBafb8S10FjbPncdr0/hERaAYRpIA0wrdjJcMdx6gfDCFhb4tvKdbYxxurH8hy03nYsZ0vL84Yg7AC1S15n+ikX4LU5gA7X3EFebhJu3SbWfbaEihBkBQTSDCDw8Z2tnhhpBZEG+JuFvgwL0zLwoxGQW9dpu3nX35N2omhhYFixP0vtOvi+Amlg2BbsuB5CIO0AEh/Pcbc4GISZSKBNIlZqKtIygd0Q/xfgK5/9Cw/mhl69CEgXpRWOSEO7TemZkpheHU9NeZS3dTf+PuZvtE+wCNUWcdOHT/OPGXm8ePBIEok2iUEl0DiepGen0Ywd3IxMqZizZCqXfvk0wZS23NinZaznj6rmtU8e45/LSzmqz6GckJ9DKgor2BzRyEZzWmuU76OEQindyJ+OE2fvIG5s7IHENmr9G1yoGsu0IBQlmi6pP3cCAilClLzzMZHSbvS86SzaGuCpmCiyUh5aAdEyil6aTPWa9ZSvWoOvprPkJo8Ew8f3FUkHnUy7Ps3xXR8jGCS0aTFr33mP8NowgUEH0WJYH1JNF98DQ5Sx+D9vkjHxLFJZxqq3/otTk07akeMpaJO+tau5EBjBIJGqDax44zmcylRSDj6KNp3SUdHY5iWsIOgqit55m6rvV2F07E/umOFkp5soTyFEJcsffY+kg44mObiUtZM+xI1mkXLk4RTkJ21nFPwswsCW5Xx93XWEjZHse/89FLTLjK2hVuSNqAbLQSmX0mmvU+F1oM3QXliGj5CS8u/fpHheGfnHnU6q7RNZN5NFnyynzcknYGycx4pJH6KTCsk5+ABysoPggR9ZzdKnvqXZ8UdhO2tYNWkSvm5O6hETaZdnUluynOWT3sAaehyturREqFjvGa0ibPjgSSqdHrTdvx+2HXvQQhgIUYHreGghd9vWJZA0S8+nX0FHTEODUjGDowmbdsQkzyuZu2EdPfufyoQO+2BIwGjHybP/y/Vl8ykP709ysGkiRb7v0Sy/B0e3NrEMiTAMeqUafLBoPgtK1xGWrQkYko3Lp3H9wvWcOvpCrujZAQxinYd9D2cXQkhax4yMuJkR549K3Nj4I6I8VKAFfR//gO5kYm/TjEpjkdA6BR19n3VvLKLVxM4EpIx5HnwF0kRGq1j3/eesXVgCmypRUlE0wwHt43uK3I7j6bhvSzAsSme8wJfn3YbbZQip+YKaq05jcffjGHDnxeRl2FiqjEV33oGxfCNywbvU1iZBzSq8h56l7O3J9O+agYtAGibln7/EZ0/PIyJAb1qN+9Qkqh9/np79s/B9E10zj6nHHkel24Hkfu3xnriaH5/pwr7330Vhpzy0X8Xy+x/A+XExLPmMcDiILl2M+9BLVL35Mr07JeK6v7wRCNOietk01k9fQ+4tr1LQLhMZjWxpHGfYCbF1VC4lHz/D8sh4Wgzui20ohGVQ+u0k5j61mNSjTicj0cDZ8C1zHpxEdSBKxUMPUCdT8VcvR08+jgNeupWsRBNdVcT8S+5nU/VGaj95jdqogSpehbr7Vfw5b9M2ICj78hXW/5BC5r1nkmoLtJQ4xXOZe/kdiJMfou1BNkI7aHwwM+l121d0J4vEQL0BuRvQaOrcEBvDEVIMF1sGsZv4jaLRGGYyGUmSj4rmMqdnF/pkJeKu/Y4nSzaQ32ECuUn6Z5vq7QpCCrTQ+GhMAXguG5WmVSAVS2sME6Z/PxWjeX9O6dSBWqeSkBIkyADJdqwDctxoiBNne+LGxh8UrSUJ+e1IRG0TZtD4jkXbU6+k+IslLD21PxtfOZXOJ00kf1BvUjOCCM/HTy1k6L9fwiDMzJNOYpUayujnLySD2EtUaQ/XE7ilM/j+kquRY+7mkNuOJAWoXDqFz064iLkv7sPwCw7GFgYiWkXV5HcpvOthxkzsi6hdwGcTxvDjVa/Q7c2zY6W+nkv121/R9v8eZMjEfojwcj4ZdwRFz02l3YATSDOr+fKi09lUN4SRHz5Cm0Rw6pbzzSnH8PUdr9Di8QsImhaidg2V739Mx7seZd/D+qLKv+aj4UNY9vpMel97ALi/LDEuDahcNgsvGiJ9YDcCysHZdufQekuVh5AGUspYpywBAoEwDKRhbqmqEXYQFn7Dsitd2j3yOocd1JbS759n6vjLWPj13xg6ujXCtPDD37DqKUnBrQ8w7vA+RIun8HavQ1nxzDzantuVVgccyPLrX2bd4iNI7ZkDKCq/m0KFbEu/Q4cQsDx0fbNSgSCheWfAjxmQu4mglLz+zUNM/vpebJIY3Ho45+13JEe0y2q6fj5agZ3OJaPPYNF7LzBxUiW39OzAy9+8wcqU/ry33/4kqQi/3H+2cQggXFfOhspqPK+Kt+e+Dxk9uaZ3N0xPgVXMN2UOJJVw42tXMa14LZs8h7RgO6448FRO6tYa4cflxePE2Za4qNcfGO17P00uVS6+aE7/x19g2PP3k6VnMe/ME/nklL/xwwc/4EqJ0D5u1CXqVuG7DsoJ49Z5OE6UaCSCG/UR0qP8qy+oXtuaNqcdiOVFCUUdzGZdyRucRtXcH3DDABptJdPssnvoPbEv0nExk9vSvN8wjE+mswGQaJQW5Fx4Lb0P6weeh7ZTSc9sgbd6HS5QV/QlJTM30Oyvl5KX6BMKR9DBZjTbf3/ER9+wPgQGCk0WzU6+le6H9QXPx05qTWb7nngr1xAGGlII6juglKgPY/3CliHgp7W6O/xb+aiUfArveIgBB7XF9cDKyye9j4FfXhW7vFYImpF/3k30PawPvuuTmNuejNbt0YtKqMMg74CxpGaVsGHGj3iGiXDLWf/BV5gt+5PdPgWxg8dG++5uNTRc1+O4sTfw2XHXMuMvt/DK4SeT7c1i4mv/4ptyi0ATvlk8pSksGMh5XXriln3NGZ88w9uVcGz38XRIZ7sKkabAEIp1a77jug8f4YR3H+KmRYvISmxNsunjCwmhMMW4lIVDtOt+CK+ecBPfnngF5xTClR89wmcbXALGnlbDHSfO70vcs/EnRHtRkGkUjD+VVuOOo3rp9yy443oWXXA+8pVX6dO7OZ5XLwi1Nf7CthuvwMWvCKFqayi64zLWG5tzTBSReZvw8mvQLhAAhEmweQtMfJRSSCSmFQRvGV6ULZ6BYG4aliCm6SFVLIItYifkSHURSldR+fZdTP1S4HsaYQmcFXPQlUFC1QqRrEElYKc0jxkevgZUvYZIw06aGrASTaQEr6oOLW1iabENQSCk2N7eUAqVmkVWpwIs7eJ6PoHsAQx7YT6YAbRfn6NjppPYpgU2CuW7RFQzhk35AoQdM9DyB9J6aGsWvP8OVSeNJql0ERuXV5B32kSypMbdhQ1XGgZCq10SjfN9j9Zt+lIo6u/b7MWIRJNZk+7m+nnr+GBELjjbJBFLAyl0LOG1UQhMHea5jx/iP2scLhl9LX9pnch7Mydz85c3E9FXcEP/zpi4WxNEhcSQArWLOhWelhR2GMmj7fZDCEnZ6tnc8OmzHPFuiGcPPob2AQPDN+lTOIKL+g/G9Dy00YZLzTCPFj3C8yvXcGDL9mxNSGoqBIYh0UrtRV1t48SJETc2/oQIIdDKx4/6ICSZXYbQ+4ZrqTtkHKu/XEnffi3B23ajkLFNdPurIIImwg6SO3A/mqeIWMWHEMhRo5H5nQnYemvWnvK3/hwerlMLKV1JDIAOAdSLiu34Dq33HJh2CkIESO7cny49k/EisRe5GD4S+ddc0tIE/mbrSG2/yTSqMsCDjM59CSQlUP7OVKoHjyfZUPi+BkSsusP3tyYjKoXQ9a3UUXi14VjZ8LbLpTV6OzEwgQwksMUQqp+l9n00OvajGmQwIRZGUD5KB2l9zNGsOOExliwopd2qd6iOtKfziC5or7HVHwIpFTWlG3DtHLLTDLxGVOtsxvfdLWaYKYIk2AFswyBBbv9akYYkXFFMhZ9Cfm4yXiPUMaU0iJTO44HZPzL8gKu4sG93BJpTDr2EzMjFHD/7dcYWXs6IHEFUaZAGwq1ifZlDVl4ONv4uJY4KaZBkmAghSe88jGvLZ9Ppq0XMr6imfUE6bQMe86rWUlYHWaaHrw0Cho0lJMqPNn0IRQiEcigtqSKQnkWyLffCDrdx/szEjY0/GUL7hLVJQkIQe/PXgHDJGiK1aSQ0S67fAHXsVJ3r4yxaQdgzyEk0tuRs+MokqUt7AtlhnLSetDyq25YS26hyqakJs2XPERKZlIKNgRE0CJfNo/jrHzFPup1cfr2KQAMp+X1JzE4hVBsk9chjyK7/ngI2lVeT2kQaINpzSMgfTpux3Zn37E3M759HtwkDyLDAxaNk9iysDv3ItAWWlUhoyWpCviTDkpR8+zIrnpqOtjv9erymIVmb21Q1KM8jtdsImvd+lNVvvo1YN5WkIZeSmxvE9xtnbEhTUrvsW+6+5kYWNzuQ2266hMIkjduoBZQEg/bWf4bKeWn+Fyyobc6/O+WBX58bIy1E5XwevOEK3inpxM133cjwVkHcRhg3Coc6z6c6EsLXYJkCVJQ6x0Xj12+6MfdYwIow9a4buP7jtZxxxc0cu38XpN8Y3RaBbQWQ20pdVJfwyZrVtEhtS6ukBCDAfq1bcM+ihcyuiHBQfhATWLZuAWVOAqPyWyCaWtRMaFbPeoMLbniebodezCWn7U+m1eRabXHi7DbixsafCSExVAWr7ruDlVPmEujWA2l4+GUbCM1djDfsbAbs3xnf82I7vEim5ZhRFE35DzMOHMf8AYVo3yfj0IvoP6Y9aT3G0f6s6cy7fCLvPdmZxA756NBGoksdss6/mn4T+4EvEV4ta+88j0/nHYgdKKdi8mSq0w5gv0tHYylNRCl8J4L2tg1XaFQ0gu+5MdsnqRM9/3kZn57wd6Z88wQp3TsjjQju4kX4Yy/hoIsmYqDwI5HtNTW0QkUjeI7XwA1H4XnJdL/9KSqKj2fZecey4e42JNgSpSLUFOezz+xXybESyRy2P+KxG5hxTBHJrS1qlqxHdsiHdSH05ltRLl4kgvollUvl43v18/65j/k+ZkYhLY8bw5orr6Uo0Iquj4wkaGv0L+e8/gQhBaHypXz+2VS+KJ9P9wnHc+PoZriRhnocJEG7nH899iCLExJJQLG4toTVdUFuPeRSRuX5RDcnq0oJdSVMmfYpXy2cwsv9JzL48sEIr2Gnf6UVSRk9OLl9c27/9lHmr3ifrsEAG+s28HlZFWcPOotBuSau8gADISKsnPY+M6atwGvfn1GDOtMiCA2zbQS2cJj65Su8vmI1vmniqBDzayspiyZwz8FH0iNV4ro+QwacwNGr7uCvb9zAaa17E3CLeKVoKeN6ncqRbTJwmjSEIhBoqtcs4b9TPuabDRmMGTOQEYVJjRf8ixPndyJubPyZ0Bolk8geeQBVKhWvaAG62sJs04vmp19H20HdSJJbq1e0L8gecy7DWvdi6UsvEl1WgtL1iZhaoVSAbhc+SNaQ/7LqrTeJLt2EbLsvLU4dS9s+HTBcBULHhK1SExDzp+FY2eScfw+Dxg4hI+DjuR7CTCFv2FHodrkI7aO1RiiLzP1GofyuWD54vkPO8HMYN2MoS15/hZpvlyGy25Bx/um0G9kHQ3toP4nmR4zD6pRGLKii8QmSPWIcOrEdsoE6BtpzsFI6MvL1aayZ/i5r3/kUr7gO2WUQbY9H/xj4AAAgAElEQVQ4go4BF8dRZA8/jUFPJLJm0ge4diHdn3qIjKpJLJu0iAQJytcYGR0pPOxgUjNM9E5Ou1r7CCuHNkePJzM/9RdOxBqlTJqNGE1QPoDX41CaD2yJ4UQanFGyGd/V5A8+lqtOnczBd07H36UMS01YwkZbENAmY9tP4PCeA2ifESDqbPUkaM/FKjiA5248mpZHP4vbWCl6rXBkGn8/8jqGzZ/Oi2uWUeT7tM4dwKujDmBU2ywcz6nP1/BxVA5nvvUodyWOpsb1ULpxiZpCg2calNmSqAG2zOXMgoM5dJ/etEiWRD0f7fuYWV159MR/8ebM/zK5fCUBK4drD5zIoZ0KQDuNfia/sggoadN7/NmcO/pZnloS66LSoGznOHH2EITWWvu+TygUIhqNEgqFqKysxLZtEhMTt1GC3DtQSpGamkpycvJeNXchbWRkPsd2G0jmFdN57Ly++J6L1+SNv2I9Pwwpts9j/Iny589/XmkPL7pFjQvDDiC3SVNQysd3XTQWQWMRk9qNJ/ehLxhycPN66WyN7zhbY87CwAxYoOqVMIHNaqAS8LaRvhamjWnKrR0yt73W5uvg4kW2qpMaARuJxo00skCyXtlzW4+68l08d2v+iREMbPm+8l2UsDBkTEFUaRBmAMsU+F705zd1aWLZJkq5+M5OtilpIE0LUyqKXruZz0+5izYfb2LQYImKNH5bk6aF5W/iifMO45Iv2vHJjBfpmxJtZI8RSdC0tx5XlMb3nJ+EYoQ0CFiKb+45hoFXLODF2XM4rqtBxGnciVwIiW3aiM2LrQHPJbKNgJgQAsMK4Cx9inadz2Hi4x9y+6nDMZzGSKcLAlZg6zgASuF5Lt7O7s20YHN7GN8j6jXUg7btdSSGaWGKWh4+93geq9yPT1+8lKATrQ+TSAzTRJXO5pQJh7Kqy1VMuv9McoPsekfoOHGaEK01lmVhmj/vv4h7NvYgNKC1S+mGIlauysBzBRl5OSQHzCZUCdIopzHSzr/2eY3/c6drQSyM4bp4tdVEyUVGdnKy1f5W42AL9SGRHT/qOfxsfuHOrqN3fp0GoX38iP8LP6t3cm1/u7XSXhTn1zzqyvvFEIZXuYGqdRupnvshc+99Fvu8h+g/OICONDJ+gsA2HN5/4p88+uz7LKrO48lJD9M3wyMabewvmCLiRX5RCd0OWnz1yr3c/8wkZi2u4853Pua47gGiEaeRY8XUW6NuBH7GMSKtAGVz3uKG2x5l+veLGH7L81x7wnBsL9JIsXb9i+Ns90nlE9mZcdgIBBCu2sTG8hCGrqWkvAZv21OAkBCt4pnrT+OJqctI7XwC/77pZHITRaMk+OPE+b2JGxt7DBqwadUpl/ff+zfnzgySnNuLv15+Ift1ytpLY7MapS2SCtoQTDSI6yo2HiE04YXT+eaGh3GMHHJPv4MeZx2G6UR3yYBSWtKsVU+OOn8YQ8eMoiDDILIzA7AJUL4mvWUbDvrL5Vw34kC6t0gi2oQN2rYfTGGmNGef/Y/n+GtGMHyffDwn0sBcjd8Pw9Ss/uYd/vWft6hQPqXFFTQ7IAuh6kvPhQYpadF3GBeMupHx+/chSbq/2ciJE+d/TTyMsscgELgUFy2jtC6m/GjYqbRsk09a0NhLt2mBkA41y9Zg5LYmIcWiiWNCfwpUqIq6dZsgLYdgXhYB4f+GskeBGQhgCo3nOnhN3J59R0wriGmA7zq4u9lgloaFbRlo38NxGx/O+D0QAsLlJaxat7Fett8iKbMZBc3Tt5aaCEEgEEBoheM48QqUOHscDQmjxI2NPQqBYZoY9ZoWWit8z9vLXy4CYRrg+3vh89hDEBJhytjmszMtkjh7NUIamIZECBFL4lY+3l7pyYzzZyWes7HXofE9t4kz2X9vNNrbDS3O/0xohf6VBnJx9l608nHVH+uvPk6cHYn3RokTJ06cOHHi7FbixkacOHHixIkTZ7cSD6PsUQisQIAtDSO1wnXdeC19nDh/YKRhYltbX8Xad4m68bBKnD8WcWNjj0EgdIg5099nxSYP3/ewE5vTq39vWqQHGp9cKU1M20SwvShWbCixfWt0reNVIr/E5vXaW9ZJGpi2FXv20chun7IQMcE3rRum0NoEIyJjAzZCL2YXR6p/7r90X/V3v0v3LiVUrPyRb35YTBiBYSWQ3bYrA7q2avL+KnHi/J7EjY09BCFNRHg995x9OFPECAZ1TCcpuztp7TrRMjNY3y69gUgTt2ohi555mNoNI+lw90TSNxscmzfNbV9kpokwDITv7aV6HrsHYdoIGWuChorpHWCZCDe659ocUqLq1rHg+geoKxhC+6MOJCXJ2C0SJ4Y0kVrhKA+FxDZMJAp3d26SQmKi8bRCIzBgNxgcAtMwMAHHd/ERW0RCt8UwTCzA9T186jXsGjmSlJqSZd8x+aX3qFIey+fNwRhxKdMf/xsBx9ntxlScOP8r4sbGHoNACEW4NsiYi/7JoxfsSzTsYFhWow0AIQyUU8W6d5+l+Ltc2tw9MfYiFAamKuXHm65m0aQZkGCjtELkdSLv0KPpeOSB5OQmo/24C1faQeqKvmX5629S9Np/iRRtQhZ0J+3gCex7+TmkicgeWpIs0aqOtR88QVmnRAoPH4sUAtXE1pFhBqnZMIsnv/mYj4qLKVPQtUV/zh9yKP2zbSK7xWiVBA2fp966lSuLViKanciGY0YTcZtQlExIbK0o2bSczxZ+yQM/foGftR/PjT2BgmSfmOK8IGBIysuK+HL5TB6Y9QmhjMHcM/YI+iQH8Bqx1p4naD/8GP499FgsUcujF5/CM7VRtBC7Zr3EibOHEjc29jgkViBIwAoitNgl8SaNwgqmE0xuhrVPNoFtvieExt24lkiL0fS5fjx2TZjIsjkse/5ypn35AyMevY7cRAPlK4SMnRu1ru/eKQQotUNDMYGQInbqh1iZptqme6k0EJIdOroS046QAq18QCJEfZvwzWNQP6bW248nxNa51Htotg0xCcOo//nNn9Pgq0aFoYQVhJrvmTbuUCp0e1qfeDpd8hJwakpZNe1Zlqw9h4GtQanYvWtfgZRb5vtTLYz6ucidz3m7dRT1Z2it0Ns+eyHrb1kjxOZr7bDWsQcAdhLB9inYqakYlgFNXUwtTCxvHZdP/g9FuYO5cPg4Mv0NPDPzDQ5/rY7FF5xBwN9FififHxTbkpQu/oj7F68hYEZZXRsGQzZIWryhYwS9Ol748jlumD2LVs27IOuqWBWsxUcihA8aAjZ8POVBLvzhO4xgZ1pIj5W1tbjo+vBO40aVhk3QNrGFj22a20U448T5oxA3NvZAYpur3nWVSK0xjAAoE90umQDbvv9im5TM703hyANJAOAw8vq25POTr2TWaxMYd8a+KBUlWrkJEczETpREykpREReZlkUg2Qav3nEsNE6oBq8mDL5CJKdhpSRhSg34OOUb8RyTQIss5Ga9DWmgo9VEKqoxslpienU4ysawHJyKOszsPGzpEC4uRySnEUgKglII00KraP1cPAgkYWWkYpsS5Sm09HA2liMycjBFhOjGChQWZmYWtl1vFPwawsQ0ivl04jFUJgxi0ItP0a5TRr0bXdPxzHNQwsHToKIh3LAikJWOH6nBKa9EWImYGelYUseMBWEgTHCrynGrw2AGsdIzsALGVg+SkAgD3Npq3OoakAGM9EwCQTOmUSJAhapxPJuEzAScyjK86igyOQUrLRUDb6txo2PBBTPBRVg2wjDQumm3fdMyWfHJwzzrNuODoScyMt8C0Z2uQZ/3XruPm785itv6JeA3oTaINAwiGxdx5edv06/HKeSUPc9tLk1+8leWSXZiPlcN248TB7fmujtnsUxsbfwHoLRNjpXEUQMv5co+HXn4jUuZUyfY/lONISbk5Qu1h3rL4sT57cSNjT8iSiGDWbQ97jxS7a4Y+D99J/sx8TAvEkFLi8wB4yg45HkWPP5fNp0xgExVy7fn96Cm4BZadapi5QtvUrt4FRQMpc+999K1X3MQDmtfeZY5r7xK9cL1qGgEkdGG7CNOZ99zJpKdKVjy8Pl8ecsCBixdQI9WEs8F0/JYcOcZzLj2RwaVLCHlrXuY/QEkFqyg+LkPSbrkKbrnTWPmTS9DtyMY8djdtMwLEF47mx/uuZdVX87D31gFCTmkjjyYbhf8lbYdmoNayUcDx2OefTlJdZ+z9u2vcMrDBEaczIA7r6RNroH/K7kv0jYp+eQl1s1cT+EbP9C+UzLacVGGBARWQirajYItKX/rYT69ag5d7ziC8g/fZN3n01GhDLJOvJRh15xMsnTBCLHsmXtY+MbXhCtCCGUQ2Gcw3c77K4VdW6I9hZQ+a994hLmvfUzdpkqEC7J5f7pcdhld++WBdFj74M189XqIDqd0YP3kyVTNWYPOKqDV+dcz8LTR2G409oy1RphptDryAlJUHyxjJ8/+NyEwZS3frNxI87QOtEmxUW4EB4u05h0ZnJnLW8tncdOA4QjXaZKxhZAQqWDSzHeZK/vz7tB9ePhttRuSdTWOsjlg0OH1hkPFT7rYArhulH32O4PeUoMTwa33xMWJE+fniets/CFR+CTT6sS/0fuYPpi/1mhL+Zh2kKTcAsSSRVS6sTbkdoqkatKTrJpeQfer/4+x7z5LS/MHFt76KpXCQOLgkE77v1zGqFdeY8x7b9P3+B5UPvMIy2asxCVI+7PPIi1vIyWTplFn2EjTwKlYzqZp80k66zY65ghEoiY86y2MVuPpeeUROG/cytIZKfT7v1tIWjSPjUvK8NjIvH9eyvIvw/S46THGfPAeI+44i+D815h1y8vUKpBmADvgUPr6k0QT9mXoC28y8rFLsKffy7z3fsSwrF9ZN4EUYSpnLkCFO5E1IBnDjxKt2kTZgoWULVlM6cIF1LkWAoGRmIIs+pxFDz6P6H44B73xCQMvO4Cq5x+gaF4Fhm2x8YMn+f7Wd8iceAUHvPkmox68huy6r5h9y1PUOALDtqlb8h7f3vgkyf1PY9TzbzH6ybtpGZjD7L9dx3rPwEBipGSgf3yLle8toOC8Oxk75S16jElj3dMPUVaqEFvrpREiQMvxV9Lj8MHYpt/kp39NgFZpiWwI1VESVkg7SNA2wDDIlxLcMJHfcM7fEcs0WbbiC15cU8Vf+o8iJyhxd1tPF43jRom4Dr+0cK4bIeI4xF0RceI0jLhn4w9LrLV6Q9FCIKQJIozvAhagBFb7gfS87DLadMvCApqN607Jqx9SU30J6cEAbY48GtOMbSsCSMs4kXXPLaVuRTkekNhsNIXjC1ny4StUnjiMpDyL6h8+o2RhgNZ3jyQBF+1HEG270fHEYzBmL0bcPo3cx6+mXctZLKsFr9qnbN6HrP54EQVP/Uj3EZlorZGdOkJ4A1+e/zRFay+kVwFo1yRjxBn0vuxkMoMS2TWVNX0eZ833C4nQn1/uPStAO/iVtWjViUAigKb888nMuOIBVEoiynHo9uGP9E6uD3XZSTQ/7mL2PXEkyRakJ49n4W1TqJqzgUjfMCsef5XAyEvoefJI0gGyR6NPWsr6k16maPUl9OmUzLLH7kO1P4Su5x5JbiJANuY1p7Fm5DkUfXsvbYYGQXmIxH3oes2NdO7bGhOwDpnAkk9epqakApWdCls2YI2KRnZTJYPGcU0GDzqCds8+yDWfPcWZhZ1JUBXMLV7I5MoqUpNkk9k3QpoQWscTX0+nTfsJ/KVLW/ArkUKAMEAITCnw4pt+nDh7NHFjI07MSlAa7TkQyMFOAO3GSgqT+vUlp10WOBEcJAUn3kXeIQ5JlgeGhbNpOau//Iz1c1cSjSi0W0JFcTU5poFA4yqTTudewuLRN7B6xiJaHN6F9f99H3fgkXTvlIbre2hfYbduQUomhJwI2uhERncLNsRKTKXlEp6zEr+8Mxl9MxFuBM8HbQdJ7t6OYN5SKldUIgpA61SS2+5LYlDgRz0kGmnY6EgsbGT84kLU51jYQQRFuAq0EmQNmcDoV4eyaeazzPrHfbj1S6aVQqZ3IGffHiRIDzfqo9N7sd+7L2E2bwelPxKuq8F1P+X7axehHA9hGLgbFxKtnE712lro5FM9rQTfXsKcW67jR89BSxMRXkukIkzdwiKiQ7uC8jDT+pBamIvwHDwtkNJCeqA8P2Ys7v7flNgq+VFoOZS3Dnd4es5XPDm/iCwrnSF5beiRMIf1CRkko5ogb1Ng6Qgffv40b0XTub1lc0o3raA8Uk2Zq8EvY/X6VXhmCs1SkpEibnDEibOnEjc24iCkiRuuonLVPBjyF3IEW5NTfR/lK7SIdaG1M9sQzAatBdHKRcy67hzWryukzcjeZGRL/FpF2F66JZ6uPZeEwlG0GnI7G6d8R+1ISfHXleQeN5QkS6I2n8brK060jv1H6R08EBZgeGhFvSCZBgl+xMGPBDASbDZfQHvudhJLWmsathNrNIkkdGuODE6mZhXIQomVkUdCXj7Ryk8QQXP7SymF9r3YeFojZAKp3TohMHBKFVr72JnNaNGiGW4kluxJbg4tb+xPWmEKGheNgZ2cRVbL5gScmIElRA65N3UjuV8OYnNdh/JRng96c+VPQ+9rJ0iToG0CGicSbbQXxHEcCtoP49qCgUSUj2ElkbJpNk/OrmBEy25If5sW70ISDMSejxuN0OAIiJDIyAbeXDyf5aUhznxzYSy5WUocQPA+vZ/4mDE9TuLe/UeREfBRGsxgEBP4f/buO06q6vzj+OecW6ZsZXeBpcPSUZSm0gQb9khsidGfXVOMJWrUJGqKJbZYY40tMUZjsCSWxBILigqigiKoSJHe6+7Ozsy995zfH7PAogvsKhPBfd6vFyk7l7nn3mX3fueU59gwSybMc6WK/+HKEe36+K4GG5HJBDJPROxUJGy0VI6LBtxYHKssy194kvn/StHur4dRDGS39PdMiDGg45o1r77A4sdr6fHGHQzZpQAF1C2fzIpx0zYt2zQGlaig4xFjWPbgU0z9+2fUxAvYZfRAHBs16SFngxjJ3brjlP6RFa/Oh+92xnFBk2Ld+MnU1R1K290LMSz72rclCqDzIcdQ1PoeFlx2L90eOZMyP/dMUZDrAdp6a7FBiFWWRKt2FBSVsTbWh8qfnEg5mwpQRYANAixFlByuWP5hIZ1O+wnt4puOMVhMGKHZzrvmahenZh73XX8Vn1edweU/HIZON7+AlNYOXswjrhRk1zHu/X8zJT2CV4YWEmbrh/CUJq6qefqGS3l49XBuv/IkyqJ0fb2KbbARmVgHfn/qHVxu6ydhKk08s47rnr2KG8MDmXvCwaSNQ5FfHzRiPov/eyuXPLyIs39zGUM7xQmaGTi0dvC0B3i4CrTSxFwHxwFjQyJr0drBd1wwIZ5SaKXxXQ/tejhBtumBqhltqpn/Ntff9DC9jzqP40b2QJtQAofYaUjYaHEsFkU0/13mvNgev6aa9R9NZPZTL5P82S8ZOqYHYZD7pG7DIFdQrLHfaEbjdWiH33Y1Sx+6n09GVBEtn8nsf/2VlTNr6aJz4/YWCxG0HXUUrZ48l7mXv0/FyddT2bO4vliZxZoIE9r6Xo0IE9Qv5bQGEwSEmQyt+x5Fz7FP88HZJ/D6oh9R2TFJ7fTxzHribdpdewfdkxBagwmDzZcM29wW900ujBZloWgQw8f9nleOuoJXjplOr+8MI1keY+2kyUTGz9W7gFxPQxBuXg9j43kjolhHel5yKvNPuIhXfzKXXqP748YiwmWfs7CmDcPO+B4FxR59z7iDOQf/hAmna3ocPIRYkY9dv4QlE5fR8frf0aswzN2jINpsBYa1ZtO9agbXgwXvPc+dN/+ZKdmnKO77GRePLCWdaeoSWYXnpnjlnbdZ6ftkgzRvfPQir9QU848Tz6HUBGyYLaQcn7rZ47nqjnuYPO8eitr34e5zhqDSTVupYtEUJYoo2dCbpRxcFxKEQIziwlISmQyRtYCDq5by6MXX8vcpS5nvVDDutoto7Waa/PB3HJi7YAqvLl0GiSzvhIb1qfncP/U5KpPFjOzWn76lxayYP4lHlq2kQFnGr6+lJpjPo1Nf4K1EkpGdhtK/rHnFvbZOoQn55NW/c90dd1P8Si3dn7uNEZ2SzQ5SQnxTJGy0KBZrNfHOvSj+4B0+u/IjrJfAr9qN3lfcTZdRA4npMFesyiqSHfsQtipBNfJYMIGldOCB7Pq7Zcz806N89FoMr2sPKk+4iNJOE/BLPVT9Z2VrDH673rTerQ1LJlRTMWYISa02FuvyStpS3FGhDDjJNpT06YJvweokRX26kShQBBTS97d/QHW8hwXP3cOK9Ra30650ueRW+h42mCiIUNqlsFcPYmU+uX4Bi7EOic7dKSkuafJditIZygefwai/VTJ73BPMve+PRMritOlGuwtvpFMpRFh0YRklfboQ83WjgcOks5TveSIj73KZ+cizfHLjf9ClrXC79KPD2JHEEg4myOB13oeR913DzIcfZ/af3sLqIpwePWg37GjaJSwRFrdVW0p6Bbha1Q/ZgE6UUtyjKzFfo5oxQTIKFZ2GHcgpRw5mymOzWL6uFlSrJv990DhONU+8MY4JySJaO8UM7Xkof+sziD3aFJJpUMDNRgHx7vtz+ekHcMSv/0u4cj0BehtzZ75wH22D+hMKHGspL+5AR1MAUVQfNAAMIZX88OYLuXafi1idrSETRCiPJq/IcbVl7oJ3uX3yZFZ6MQrLOtLRVvPg1Cdx3e6UlnWnf0Upy+e9w9VTPiTpuCT8Ujo7NYyb+hyRLqQgOYiBFXHC7da9YbHaZ/f9j+fQvn/htdRy0untv8pIiHxS1lobRRGpVIpMJkMqlWLt2rX4vk8ymWz+BmDfMGMMxcXFFBYW7lRtV9pHp6dz3C5DKbtkPPeePYQgyObmS2zXE4HJZnMVPa3NVfiMx3E8F6IGn9KVwmRqsSqWe62xVmgHpS1Rqg4bRBBP4iQ8bCqFwcHxHJR20J5LsHoW7/3sFBakRrPvfVdQngw39kDYKCCKwI3FsFGGKG1wChIoGxKlsqh4DO1sWC1jCOtSEFiIxXFiPsrUt1tBlKoDL47jqY1NNpk0Rnm4MbcZtRkU2veIggwmncmt9PBjqFgMxwS5PdlMSJSJ0PFYrnJkozTad4gyGUw6nVtBEUvgehobhfVtVCjPxQQZTCYDkYJ4HCfuobJBbr5MGBBlwUl4m6YJmIgwG6Bj8a2c/8vX5bg+nlvDUxccwfceUzz79vMc1N6SbtLYRv27KEs6myFUGk85JNwYjjJfqjmhHQ/fc5j90Mn0OPlFbh8/lbP2LiPT5F6Uxq4AgjBLBoci19k4/KO0xvN99Krn6FFxOMNueJI7zvsucZNp1gpVY0KyxrBhizXYsM2awnM8XK0wUUDaGNRmx+T+03N8XNWMLKBUbp8VVctdPz2B+9aN4tVHfk48W99upXD9GG7NZ5x5xBjeKjyVf/75YroWadkRWuwQrLV4nofrbrn/Qno2digKpSFdu57169eRyQTEkgX4znachWZz+36oBjXMrbXYL+4vYS06Vpj7C1t6QJsIaxQ6nkDF6ydiZnOVKx3ARllql68irFnL/Ad/z7zpPn1uOJ2yUoVJN6hp6vq4LmANSvu4hdRPGNU4hcnc/7bkHs4onFgSFas/X9hgopwFp6AA7OZDPzqeRG/tOrZwo0w2i1IaN5Hc+DUbbTqf0h5ugbeNWgsGk82VfncLCutvbW5op+G5bBCglIObKNh4DNn6c9n6e+Sx+bm0i5t0m1HrQeG7WV4bdwfj/vUykz6KuPaeB9i/s0smvcVZOo2yVpHwk2y40bm5DJsf48Ucpjz3IH975gXenjCNc+54lFNHtiXINn1JdqPnBjwvho/deOna9Vn7ycv88YEnmfz2m3T5yY386uTDKVBZguaWD9ceSefLq3ssNve9sxalPQqchnHkC8c09WQKwmyK9ekIX9VSlwlyJfk3vq4hW82Tt53LuDc+YVXR3lxz1el0KXFzk4WF2ElI2NiBWBORqUvxxO9/zKePl1JcuQcXXnUpB/SrINqeG1tZ07Tnrm3S9M0vT5q0FrSLqZ3HlF+ezcL3VuH3HkbPX59P7+GdIPOFB9tmjbGbb+P5pR1EGzlfQ43tONqk69iC+ofLFl5s+pajW32fJhxjv7g8p5nn3/g2Gt8tpPuQwznywv3Ye2AVNvPVKn2abdxXaxVuzKWy5wgu+sGlHDJid/ywiZNDt6GxB7rVPrGyKo654BgOO3gkreMQfKWT2SZsXLch6Hy9i/Fcy/Rn/8zl1z3KShMw+6OPSB6+z+Y/EsrglJYw5LCzOGzMfvTqXIoNt3dlWCHyS4ZRdhgKRcjSeZ+xKmVzJce9Ijp07kBxwtlxtzTfIgUmQ2rRAoKsg9u2PcmSZG4G/U53Ld8mCq1zG8MpLFH0xU3jtvPZtEbXbyJnojCvBTeV0rlrU7kN/naGIQalILVmOfMXrSRSuR2bE2WVdK1s1SAkK7Sjc4XMrCHa3kOrQnxNTRlGkbCxQ1E4nseGURNrDVGY31/Q+aVQrpNbvRF9cbdYIQSQG2JzNKp+u1cbhQTbsydTiDyTORs7HUsUZLf3huDfoNzchJ02KwnxP2BNRGC+PT/1QjRGNmITQgghRF5J2BBCCCFEXknYEEIIIUReyZyNHYrGj/kNCjQZgmywU8yqF6KlyRVH2/R5zYQBWal9IUSjJGzsMDTK1vL+K08ze5XBmgg/2Y6Bew2iQ2msCev+v0A5aN9DqQiT3soOkVpv3C59u1Aa7eU2qDI76r4NetPM//pNWBrf3+R/TaltFx7b8H21EVEQ5LVktVKK3ALZZhaq+oq0ytXjtE2qc/H1NLy2r3IuR8PS6W8zcdrnRJ6L8gvptssABnRtjZFVV0J8iYSNHYTSLiq1gCuOP5bnncHs06+Mgja7UVTVi45lcZq1jaT2yK79iM/uvZXqRZKO3jkAACAASURBVAfQ987jKU2nG31YROk6sAodj6G+7i947RCu/5zZN/0TNepwehzUE53ZzjuWbgcmXYeJDKr+AapiCXTMQ5tvdnmuiUIsCkdvYXRTe4RrpvHR9XcStd6PXucdR7FO56FOhsJREARZaqzBUQ4Jx8dzIMjD/VHawbWGdJihzkDM8Um6DpFp2q7AzaHrz1UXZElbi689kp5LaJpTJEvh6IDZ773IAw+8TqCrefvdeYz51d2Mu/RI1FcskibEt5mEjR2I0go/VsCJF97OveftQSaVAa2bXT1UKY3NVrP0pXEsndKVHnfm9pPYrCih65Oe/wZvn34Gq1b2pt+f7qb3XpXo7FcPB0opbGY1S/75IqpiT7of3Ae29/boX4d2MTWzmfLLc5j74jycohjYCNVxMJXf+x79jtiX0mIXs733B99muxyiVTOZ8qdx2P6HM+Sogah08OXjlEZHa5g/7m+EPavoejGoPHRu+B689dY47vpwMu+ka3CdIkZ125fT99ybwRWF27UGhNIuOruaZyc9zV3T3+HjrKVLWV9OGXgYJ+1ShW1WCNjGuZRDkFrGM++/xN9mvMOHmYC2Rb04dY8jOaN/NzJNXqZtyYYue/3gEp484XLsqmlceOrPqXE0X6pxLoQAZILoDie374KDxsFxnK/0u8tag5csJ1HUAW9AG+KNHKMdWDXxv6yc5eJ401k6/l2ymVxPPgDKyW1yphXK9XDicZx4DN3Ijl9KuzixOK7n4iYSuMk4jrup7cqL5zZlUwrt+bn38t0vX5t2cGLx3Ov15869gUL7ufdsjPZjOLGm5GYFRGRXr8IfcwqDbrmVIbfeTM9BMRb99gLee2gCgddg0xjVoD3xGNr58o+LatjmBn+0l2uP8v0vtU25Xu76VP3+Kr6HrlvFuvHjyawP8XBw699HNbxJ1pIsqiBeXIpX2A5Xk4dhFIViHXPXOuw55AhuH3M6vx6yJ7Pm/ZPTnn+aNVmX7bdVjyLmBjz83I2c9e4Mhgz6Hg8ecDzDEss557k/8NCctcQauedfled5TJr4F67+aB57DDqWu/Y/gb2L13LOM9fx6OcBMbd5F6a0g+s6m/1bF0I0Tno2dkDWGpq2P8MW3wHXcaEuS9DG40s7bCuNiepY8eYz+GNOoWvl+8x54x3WnTyGRIUH1mKqF7HonTmU7z0au3I6K97+EFPchZIRe1JeqDfOx9CxOJl1C1kxeRLBsgxGrae2Nk1BfVDQXpw1U58gFexB26EdWP/Bm6ybsQjVYwgdh3TDyeTmk2gvRpheydI3J5KeuwzdfRBlQ3anJGEJUutY+ebTpMv3pNMu7bAN5oLomGXVqy9Sk+1ImwN6Ewu33pOiUKAU8d6DqdpvXzSQHdKV9RPfY+m7b1AXHESRApw4JlrL4jfeJj13ObTtRskeQyhr5WPqe3+0FyNbs4wVr08mM38lyvdRjsbU1eLvOpTKIb2pefNl1tV0ovKg7njZCKUsdbPeZ9nsOtruNxK9ZjLL3viUYOFssuvXY995gTmJudh0FmMs5ceeQom3YajEYj0HU72eKF1MXrIGlmxYyNjR36UoGc8FvmAgJbULOOyj+cxPZRlQohps6/7VKceHheO56tP5fGf0pfxu2K44DuzdtpzV1Tdz47uTOa7Hwbhkt8twShSGVPU5jNuqyhla1QnXhZGlMSYtuo4rP5jFD3r0g7CRHqUtsRZjDMYY8j+jRYidm4SNbyMTgd+Wvr+5i85eD7xo8wmiSntE66fw+SNLaH3PobSJw6f/eYpVs8+kXZuOYBzMqhm8f9XNtDriHdKvP8/aFbWYFctIjDyLoXdfSFtPofwYa6Y+x+SLr2T18jQqHod1S8nOKqSgvhfCcWDhsxcyd/b/0XFagoV/fYbUumpsjab99Y+y/9H9CCNFZvkM3rv0lyxZqol3LCT94F3Eu41l4E2X0T5ew/y/3cD8bhfTdfdjCE2Adh1sGOGoNcy59RoWlZ3GvgfvQrypXeF2w4bg4GiFipK4sdY4HqgoDtWf8PqPT2blxxlMXGNX1xDrMYJe113H7v3LCEJIr5zJe5ecx+LPFYkeral7+QXCNVn8vQ+iQ0lP2uxpWfTgbcz8/AhGH9KHMmVAh6x780km3b+MfUaNwp/3Fu/f/RDZagNLlsP4p3jnwySEISaKGHDwKZRVQBgBJiTQHRl898NERYNImK1M/P0arNXEYorAhGg0rspNqG2lHeKOrg/DX5/rWD6bNZVliTYc13NXHCKINEG2joxxWLj8TWasOZRBJZDdDqeMTEi7dv3ogCUK00TWJxEvoiwWY0bw9XaiFUJsnYSNbyWLUTHKRxxIhQ2Jgs2X42lPseK/d7G+VX9237MPrZ3VlMQfY/H4D+gxtDNxpVCui/loIosycfpdfxcH7NeX1a/cwqvH/ZyZb5xAx4M7Ubv4Ld495wJq+53PmMdPo7zYo27hJCZ+50ps/TkVoHTE2kfvJbPqRPa8/zmqejpMveA4ppx0JXOOfoyuwRJmXH0Wi5buyfB7f0fHDknSi6cw4cQTee+KdpTddjKlbbsza/ZiIkDXrWDptPkUD9iTUlNNXV0t8cE9KG7i50ulNcGiWSx5vy2KOpY9+zDLy7vQ9yfHUAhoZymv/OAglmUOYK9nbqZb52Iyi6cw+bzTeP/k39B2yl20UTUsfvg65s9oz/BHb6ZL9xIySycz4fgTqe1yFIOOHk2S2vo9YTa1qn73C2xkMEGGsiFnM/bl8wlmvcob515H7PuXM+LUERAEuR1sbYZNqyktxsRoe/BYsAEmm8dlliZk7bo1ZCKYv+xdHpuf4id7HEGvYodwu6wyUjiqhlnr11AU70OfdkD1Cu4b/xA3zpiJ44OJ1jBrTZohrRTba4Mga83G7QBiyjBr2ae8syrkklF9QZatCpE3MmfjW8tispkvBQ3QOKT59E8vkOw/nFYdPGKte1DWNcGqKZPIpmyu69xGUN6DqkuvZpf9+uIYKOk/gtLeldTNX4LCsmrieNbM7kCfS0+hdZGDjSzarZ/n0bCb3Vi8XUcy4Jpf0a1nGZZSSof1wfX/Q+1qSC/4gAUvLafTj06nXYckCki0H0jXY3cnPeNF1tf4xNtWoj5ZxGpg3XuP8PL3T+WzD9aQCVMEQYpkp0r8Ju0qo1CuZt2Dv+Xl7x7Bi4cdzNQrH0W13YOSbhVoYM2Uf7Fs8nI6X3YL3TsXYTNZEu0H0utHPyA+7xFmfQraBlQv/ZzE0AG06ViCAxRV9qKsQyeyU+ZTR32wUGrTMtsN51eKXDGV3LJbDSgLmCg3ZwdQG1d9fGkjdUwmnd+goTReZi0PvHQHBz5yJYc9cx//rUuwd9uONHNaw9ZOAsaQshFxt5TFc9/g5L//jl9/vJTj9zmfZ4eNpICQbJ5WB7lOjPSqmfxx0kt4bcby410KCHbUpdpCfAtIz0YLo1yf7OLnWf6JS+srjqfEA+V1oM2Ywcy+eSpLl6yjtHd57lN1URlFHSvRNsBELkQRWJX7Q4bs5wsxvQZSXu4QBiEot354YvMnkjUGr1sV5V3LsEGGyEC7gy7jux9egF9iSM9cSbjSYcXT9/PalDiEFpQm8+l8MmsLCNeHxPtV4C6ZTR2QmjgJFa1n5RsTWFVZSDaVobRLmybWN7CYIKLs7JvZ50f7ojSseP/fTLvqViZeFHLAAz+nZvF8TBRQslsRKszNl4giKO65G7HWDqlPlqF7l1Gxyx58cuerzHlrHzr3r6T2g3+z8JP5lJw4kGLYyjwD1eAe2dywxIZwZuvH/7/mnAilNcp+xXk/1hDEWnHqYedxjNVE1ct55t3HOfOfN3H39y/hwMoCogb3WqlcxYrmncuCdin3Cvl85dMc8c9i+lXuzatHH0Pv8jhr33sXUJT6MbAN5lEohVZgvkZPh6NdnLpFXPnCfbwcdOe+w48gaQLyOZCidW74aafbiFqI7UTCRouicNyA2f96hmzNKmpfu4up0zXGarKLZqI/nsis12fSt/ew3OHWYKPoyx+u65+T2nGwdSmykUX5CusoTLaWMJvFU18IHJHBRLnVNljQsWIS7UpRNgTHR/khyZhP28Ii2DAEM+QIqsb2pKTQxbTviFv8HCumzSA1RdP+yl+SefUFFvXqThjsSXHnGLapSzKtRZeUk+jQAYWl63fOxKuezWs3vs7qxecSSyZyQy3rQZVrCA1KQ3rtUqJUhN+6FItFl5Tg+wv57MZfM8cPCdYZWh93Df3P3AeVDcC39fduw6RVBRqiMGgkTNSHtC3V2GgGpSBTU42JJUm6+isFDqs0rQrKKFcKt6wNPYo8Ziz6JQ/PmM++bfrhbGixgmy6mlAlSMadZhRHs4Q2SbfiArCaowefz62j+2DDEKJa3lu+FNfrRo/WDpEJ6q9LYYI067OK4qJ4boiqmdflaIfUyk/54yt/5rlMZ27/zmns0z5BOm9DKAqtImqqa/GShcS03V4jQkLsVCRstCTaIaxdyKpJ01EdBlNUPZc1K0NAoV2HgqoYNU+/xdozh5HcWne5tUAMv2N7nMVPs2JeLV36tyIya5n9xMOsXrKUtttasmhNblWJ4+JWdqKwKoHqeyA9zhlN0YZDgPU1NfiFQFkVflE1y156Bkp6MujgA/hs0ksseHolQduelBVqTDO26Vauj6tBowhMNes/X4hNFOH5PqU9B+HFPZY/+RrVP9+H4jhEVLPkueep80fRaVCMoOZzPn/iSZKH/Y49ThuMv3wFtnUnCipL8WxIkDFoHFQxZKo/oi4Lfsxnzay3mfPvl4mCXTevYup5kE6RWrISiyIej2OAKJumOSMJSmtqF73PzTfcTm2Pozn3lENoX6ia1xOgHeKut6kDxlgWr5jHZ9kk+5YV4dYXOlVak105i7/efDMfxgZx/tknUtXKa/JKlSiCLt0H0vWV8cyqXkZt0IcCz6Vu4QfcP/tjdqk6i17JMLdARGl0uJpXHr2F+yZazrrk54zuXkr4pWHCrVyW9sismcVd4x/jzaiK+444jQFtc0ud444HQYb0dk4CjgMrPhjP1Tf9lU4HncZZ39+HuAolcIgWR8JGC6IcRfWM91g6fgbFv3mefU7alSCVxSqN62WYdcclTLriQeYtupBdtCXK5JZfbhwYMREmm8GGEaAoG3UQFf0fZtb5PyF76B5kP3yX1Ubh9qoAs2lViA0zmCBotAvZGkO8cje6n3Ewk68/j/HvjKBk927oqIbMx7OI+h7HkEsOp1VZO+JELLrpMdpeeB0VnXqwomcRC28chzn4KoodjW1C/TBrLZiQdS8/xiQ1DYhIf/gGy95dSLszf0NZK0i6+zHwFyfwxuWnM2HOsZT2LCc7fSKL3llEx2v+SNc4RKkEsYoS1j9xG58sG4DfuRLlOjgVVbTdfzTt2ySwxKgcuzdTHv4DH55VzJLehayd8BbrVgBG1ZcAV1hj0OVVlA+s4OMHf8ebNTNIto4ThSFdTruYyqKmBw6lNbULpnH/fX9jWfF8Bu41iO/v1QFME4uraQe9Zha3vP82KatxUCxPL2PionnQZgyn9+2AwmAArRWpFTN5/i8P8My6Z+k+fBTnj+mVSxFNYKMA2u3BLYN35ZQpD3JMajr7JV3eXPQh70c9eHKv/ugwIiRXkIvaZbz073/w5D/nQuUohl19KE7Q9KJfvm95+PmbuOzzNfTtEOfOyQ8SRCHGGgKV5KjdjuWYDvHtGDgU2glZ+sF4Hn70UdIzUuy37zCGtPfIyvwQ0cJI2GhJTEh2ySoSw0+n92F9wOpcbQgAL0nlEUfTcdISgo/mEQ1oTZthgykocnMrAawBr5iyPfaGDkVERHhluzP8nod4/+ZbWP3i6yQOOoGh/zeCVff+iUy7IhQRBpeCqlG0NT3xdNTI6IHBWI+qE39HoseezP7n46x76T9Q0ovCQ4+h94GjSAQBYawtlXuOJNPOodfhe+Hg0mn/77Fm0jLMyF1xrN32eLg14CQo3W0oteNns/o/n2NtIf7o0ex2zlF027UjjkkTZFy6n3M78V2e4NNxz7L63x/i7jqSAQ/eRPeBnTDZLMpPUNp/V8wrr7G+pgZvxgSiBdVk1y7j499Xsvv9f6XPHuVU7Hche98XY9af/8OqdR1p89Mr6Ks/Y9ZT8/C1zc1/MRG6oC27/OZ2EoMeYd7fXyYdGkxkaH3axc0qGGUj6DBkLFee9TBn3LqAVG2mWVUtFRons56Xl81klVFoLL2TVZy79xEc2KMbxb7aWLLcRJY2/fbmp+f+H89c/jeW1WRzE2Jpav0PSzpwGHvgxbzW4TXu/uhtnqpR7NH5EK4aPJpdWzmk64fGrAnRrftz/k9P445/Xs7qVeuIULhNPpcCQrJuCQO7tiVua/lg+fr6fzOGrC5mVNZs5wqgljCKMej40/i/Wx7gzlUrWR8YmZUvWiRlrbVRFJFKpchkMqRSKdauXYvv+ySTydwnwZ2IMYbi4mIKCwt3qrYr7aPT0zlul6G0uuQ17jt7D4JsZrvv+Kq0g3IdbBh8aXxdaRflOhBlsVajXI0Nw03HKY126zdZq38IKCf3dxTkgoMxuXLpJto4h0K5sdyGcGG05YmPSqMdp8EmaSb3yT+M6vcrUfUbyylsmMVEtv7c9e0JmvjJXWm0522qTlr/sLFRlPtjGxznOiidK0Ftjc2tFoki0C6ZOc/zwjG/oPzShxh63KCNVVprF7zCi4PPIHn+fQy9ZF+SQYDy3Nz72A2TQetPHYab/xvVzqZzQq5oVJChOWUt/HgcTQ1/Pnc/znplF1595jYGd4o1a7mqUhpfO/XVS+s3YjOG0JrN5n94sTiOinjp6hM54qZ5jHvrXxzcvbj5S2OVwtUOjqrfFNAaIhMRNjiX48bwXMXq126g08G/55Jx7/Hr73Qh3VhZ9y2fCM9xcVQjicIaIhsRNOfnTSlcL4ZZOY2fnfgzqvc5mwd+ORaTrt8bRWvivg8s4oxdhjCh1+n895ErqNRZwp3nV5MQ22StxfM8XHfL/RfSs7GDsTYiU1dLbbqWIB3g+XFcvf0qRVoTYbewbNKaELtxb5RGjrMGE2Q3/1IUYqPNH/T2C0tQbZjZdvut2bRLbKO7n1pMdtvn3iZrMJvVZbeN31xrMEHjD00F2FQN4aoM0eJVpNZWE2kLNmTl+1OpKyqlw5Bu+CrKrUD4Qru3yESblrQ2ZQfYL/DicV6/82xueeot3puT5Y6/XsGALgmiZu53Y60hE5kG62UaOZcfZ9qzt3LDXU/w/LTlXHr/4+xb1QoTNefhv/GEhFGYGy5p5HyO5zF/6gvcd9ftjHtuIof94h5+dlBXgkwT7+umExFEwRZ362nW3Va5+TTpdIBJ1eb2VWn4/VIOtmYpj/3tTh74y5N8WLIPD1x9Ie38iOAr3CIhdnYSNnYYFotLeTuP/zx4Oce8VEBh29350S9+xqie5d/obqT/c/+LHqmvcQ5rDLG+BzLohllM/9PveOHFYmIlxZi6asIwSdVvbqTfmG546fRXL7P9lZasQja2jv5jL+fG479D9zKHTLoJQW/Lb7fVV+uiGB1Gnsyr9xzDbp1KyGbSX3viY6N/3QJkKO05nJufuZPvDOlMmM185d6B7VBoHd8NmPDozVz/wARCL8Mnc9dxYFGiwffNYq0lRWsO+Okt/OOkQyjRIekdcBdkIf4XZBhlh6FQNs1nH0xiwZoIE0V4idb0260frYv9nexaWgDtoLRl/cJZZBYuxaQCVGEFXtduFLdrhZvNfCMrDnLDKBAF2e26O2tjcsMoYMKAbJ6rb24YRsGEZLJN3Z01f7SGVbOn88HMRUSei/IL6NS9D706tNr0wUBp4jEfIC9DokLsKJoyjCJhY4ei8Hwfp34+gbURQTb8GhuyifzKlXXfMK8DayCKNs5nEd9u2vXwNs5XskRhkPeAJ8SOSOZs7HQsQTaDDOnuLGxuou033QzxjTBhQKY5u8QK0YLJKiwhhBBC5JWEDSGEEELkVYseRtGuh6s3LfALA5kfIYQQQmxvLTZsaK1YNucD5ixN4boaz4/TsXtvKpKuBA4hhBBiO2qhYUPhacvEJ27iD88spECtZ9r81Vz+1wmcu3db0s3Y3EkIIYQQW9dCw4YlEyoOPON6Rp6eILbkZfY+9lxqs7my2EIIIYTYflpo2ACwxEtaU+B5uEEpvqslZgghhBB50KJXo1gT5XbDjozUShBCCCHypEWHDSGEEELkn4QNIYQQQuSVhA0hhBBC5JWEDSGEEELklYQNIYQQQuSVhA0hhBBC5JWEDSGEEELklYQNIYQQQuRViw4bSmm0BrSS6qFCCCFEnrTgcuWKMFNLGFjidVmsxA0hhBAiL1po2FB4juXFBy/lrpeWUhAs4oPPlnK0kaLlQgghxPbWQsOGJbKKnkMP54SKdXiu5tgzfXbfvYxsJNvLCyGEENtTCw0bYIyl55BD6LvXpuGTMJshlN4NIYQQYrtqsWEDIAwyhME33QohhBDi261Fr0YRQgghRP5J2BBCCCFEXknYEEIIIUReSdgQQgghRF5J2BBCCCFEXknYEEIIIUReSdgQQgghRF5J2BBCCCFEXknYEEIIIUReSdgQQgghRF5J2BBCCCFEXknYEEIIIUReSdgQQgghRF5J2BBCCCFEXknYEEIIIUReSdgQQgghRF5J2BBCCCFEXknYEEIIIUReSdgQQgghRF5J2BBCCCFEXknYEEIIIUReSdgQQgghRF5J2BBCCCFEXknYEEIIIUReSdgQQgghRF6533QDdggKlM79NwARWPtNNmh7sGgnd0lRpLZ5tBBCCJEvEjY0gCGzymLrAAdUscJPaNhpA4dFo1i1RFGDpVM7C99w4FBa42hNFIX5D3JK4zoaE0WYnT81CiHETq9lD6NooC5g0UNreGvsEsaPXsJrey9h6kM1hLGdtzdAu5Ca63DeUTH2OsRjrgHvG7wcpRSZ2tXM/WwWtVlQ+WyLUthMNXPmzGF5dRqd15MJIYRoipYbNhRAxML71vDBb+qoOLGU3R8uZ/dby+gyLIaKdvJPxA6UFhtat4MY32QnjcLxFZP/ch1nHvNrZqyL8HT+AoDreCyaPI6jfvxTnpy2HN938nYuIYQQTdOyh1HCiOpXQ/z+SarOLqKY3EPZhBYT5A5RjsLx1MbpHNZawkyDR7er8FyIshbrKlytAIuJLFHQ1IYo3HgMF8hmAzzf23g+E2bJhqbJl6S0xXfB7xVy9/MR1QYKHQjCTcdoz+I7EGZB+5sSpwkhGzY/CDh+HO8LsTXIpInQxGM+AH6qhpq1mlatC9AexD0AQzqd3dBwfN+nYQ6xUUAmiDb+fzcWx1UQZDI4sdjGdkdBhiCyePE4DpB0Q1akMiTKK0C5xOPupjbVf+uU4xHzNgWRL95n7cfxNQTZDNqP4Ww8V5Yg2nScclxi3uY/Ro1+zxyPuOcAEZl0sPOO0AkhxFfQIns2dFwTj7nEkhpHQbytRxKNi8ZD49ZPrHTimiidYsa1y3lz9FLePHk5n05JY+MKrQFXEXxezdvHrmKNp0l9tp53frCEt3+0innzA5wmDcUo3Lhhzt9v5UdXP4nve0x+/Fq+M2JfTv3VnXyy1hKPNS0TKm0xqzW//kmMvYb5jDnc49STXBYqcOqboj1L7XSXE473WO0rPnnO5aiDYpz8c4+PlynifnMeg4p4PE7tzFe45twjGTVyBIcceSJX3fccy0OXuF3Ftb/4IcNGjOCn9/yLGcte5KT9RrPP6NGMHDKAfe9+i3jcB+Xg6YBpE/7OZaf+gNEjRvC9i25m4oIM8XgMRS5ozHzmPM646ElMLMbsF+/luEMP5tTL72VhxiEejzPjqd9x0D7DGPvTm1k57X2uO+UQ9ttnH0YO34tDxl7BEieOoxRePE4sNZc//fZU9tprCCf86k6mrbQbz6X9OOsm3MiJF/yeOj/GvFcf5AeHj+HkX9zBwkARd3M/No4fJxYs4V93Xs4RB+/L8P0P5pQLruPNebX4boMfLSdGvOYzrrvwJO55/jOM4yODO0KIlqTFhQ0dNyy8ezH/KPqMf3RYxMznDev+voanO87msXazeaR4FhP/m8GPw9pJa/hvm2XMvidL0NOS+TTLx4OX8to5q0k7oB2Frc6y+PFapl2whNf3W0t1LVQ/W8vE/ktZtNLiNKEXX6NYP28GT1/2B0aN7siok/9KYVUZb939MwYNP5GJi7ObP7y2wlgoL4Ne/TXqU4enxmlq9aZvtNIQrVM8+6TLD8fG2Pskl7AcJjzosusBMaYuU/hO0wKHH4/x7gPnUdF3f/7yQYaqPr1Q6+fxxr/fZE2dAWOpaF1O9949qCxvhe8X0657FVU9u9Gtdw+6Og6g8GMhb956KUfudxYvLamjqm9PZj92EcO7def3//mcWNzFUVA99yUefuyX/OqUsex1yrXUxX3euOGH9D3gYmqAmF9Gl6rudG1fgZ8ooLxjF7r37Ea3nt3p1LUQLHi+z+qJD9K7TU9un+hz1k/PxX3zWoZ2GcIfn59DLO6hNUTLp/Lwnx/golOOZPjJ17HOT/L2zWfTdeC5pF0fz/UIF7/Nkf36cdJVT+FVdKFXW5fpL93JR/PWoTd20ShiXpYXbjmXX9z0V8696ireW5rBcyRuCCFajhY3jGKNomS3Yvr/rAD8iGUP1ZKKJ+h0YgIvazEZKOrlkFmVYe5lNagDihjxjzJaJ1wMIbOvWcFHt6VYdEohPQbHwFVoDDUvWnqMa8Muw5Osm7GWtwetZtbrGTofHSOKttUqhesVUMfbeANuY9ZL59DRhwWv380Bh1/LsxM+Ycj3BuTGPbZxbW654byrM4DmnbN9ht3Blz5FOw5ks/B+aHhpVsCgVpbP/+sz8jDNpLmKAW0tbKvNykWHc/nz3c/R66jbeO+Jc0g0eDmbTZO2FZxx4TWcAbx+zQ/5+V3ruebuuTxmBwAAIABJREFUB+mf3HCUIZ3OoLSlz4m/4IOzb6EoXv9SzUWcMPQQ/vXweC445BTigJ8oJLNgMs/NP4KXp/yLgW1h5uOXM/zY+3hu1jV8/7Bz+NNh57DwtTt481f/4Iwr7uTMAeUb2xQGEdGamfz+t1dTeOwt/Pfh82gFnHz8IfQ75VDuvOMOjhx1Ex2T4PoJWDObCYvH8MSEvzOic4wFz/2Svodfy4Of3sVPehs+nvAMU5f34b6Jr3DsbkWbvg9hQDq74QZaQuPT/+D/Y+zLiyk//DCqWrlEZpv/KIQQ4luj5YWNrKJwaAElwxWWDJm3UwStYnS7uJgEtn4s3VIzKcXqqYa29xZQlNBk0hHKU1QelWDejRlWvxUQDo6jbG6haYeriuk5PE4QGnRpjPJDY2RthCU3h2NbjKmj2DuaG64/h45uQDbUlFXtzqjuy5k9aw6hGdSkd7JGkU5b4nGoSTd+vDEQK7Bcc0suaIQWkqWGXlmHZatoWn+XNeCWstdePbj/wWs5++pCzjh8GD27VVFR7KNRGJsLE34cauoyZMMs1eszWB8yoW3wVg6t21aiMFSvWU0qY/Fcl93KOrJ4dbgx95gwgIr+XHP7FQxsGxEYRUlVP0aPLkPXhRApQuVSXZMiDAJqq9eBLSGdyU1YcXyXFbPeY/LkdYy5YxRm1WqWhyGejug7sB+f/GUGn61M0bFzEhuGUNiXC67+LSM6ewQRlFb1ZeTwrtjaCHBo3a0vZYkbueY3lxGd9X2G9u9H58rS3BBbA1E2oM2Q73P/E/ujkhUU+oao6dNwhBBip9fiwgaAzVpCbbGhxQQWG1giDGH9w1m5YKoNUbEiWalRGx7ZFpxCB8+BYI3NPQTrX0q0d3CBILT4rX0GPdkehSVIN21IwlqDUq1J+pYoMKA1OD5e0pLKBBgL23NdhdKK1iUGQoV1wNrcVTZ9xoYhnS3hxBv+Qqtd7+axJ+/iO3f+ii5Vg9n/2BM4++QjaZ9Q5OZJbu1dFa5j+fTNv/PH+x5n7uJ11KYDtA6Y+84ndD7E3TQ511goLKKiLAFhhii0lO3+A5547QcQZkkHBtdv+M5fvGZDsD6DXZ3h8evP4517HKLIoJUivXoJBaofYTYDJAEDhUWUlBdDFBIFhljPk3j+zZMgypBOQ8c9j+Php4t45KFHuOLHR5KKdWX3YQfw4/PP4eB+5WQ2693QtGrbAZo54VcIIb4NWmTYaApdoNE1kFrS4MGgIVgZkfagvJvOhYv6l2zYoOpoBOFX+ugaYUzuTZRSmLr1rFjbmvbt2uFqu11XMFgLkVHQxJ6XRpksWaeCw390Gfsc80PmzZvJf//2R6679kbKuuzOxWN7QzoEq7BKobTC0RpouJrDIbtyGnf88lImVR7Fr34+lg4lcWLxWsb96CLeCqLNW2cMpsGtjYL0F1b9KAxglEI7zmaJwxqNXxTDKXc48NSLOX1EJUEmtzJEOy5eYSndKuObRpCswUSGDTHPhGnSDVb1ZAPoPXwslw/clx8uWcRHE//FtZfewqVryhn+5AUkiOqvVOOrkNnTPsRt04eOZT6RdG0IIVqQFjdBtEksOJ1jFPeCpffWsDpticddXG2Y/6caauMuFaN8XLZvAHCcQiocjePH8BzNlBefZFKqM/sO7Ytrwyady/Et8Xiuj6I0CY6GMmVxYrmvb2la4le5DhtGGO0ADoXl7dhl0GhOO+lYktFqFixdy4YFwwaHgnY+y7Pv8cG8apQbIx6PE4/HUdpSu3Ie095YxN6Hn8RRY0ay155DKFs5lVemf0roOF9q89aLgloSBSWUzl3Ah+8vANyN59JG0bpHP/r3jfHGhBl0GDSEocOGMWzYMPbac1daF3pop4n521pMkEUrhZ8soVP3fhxywvkc1reMeVM/J82mnOPGXea8fDv/d9QhnPeHB1hQY2nifF8hhPhWaNm/8qzF1Fmius1Dg40g1j5G3/tKSc6r482i+TzefS5PlCxgzmvQ8/4yOnRxiQzYyBLW19X4Ohy3gDV1N9O51wCOPf5k9h/Rm+//YRI/veFmjhlYQRBse0Kh41uWvONxeI8kXfrEOeQeRWg0g/skad8rweWP5FZ12BBSKWjYm29DqCP3ab1pDfaJr5/GccMrUSpJh57d6datK+1Gnk7Fvsdz1pGDMEEAWEwIQw45g2N3L+RHe5bTukNnunYsp9el/8Z3PEq77MHBPx7MLSfvRkWn7rRtlWDPc/+M7VKKMdmN/SBhkIJUHVu71VEY0WHwofzyjAH8/dy9SVR0pltVR3Yb9mNmGwenfBBX33U/radcRzulad2lKz2rulBc3Jtf/PEtdMIDwAQZqK0jaPRkirgT8tKffoZSilbtOtC9V3cqyxJc/WElv773fNqyYa6JQhOyYtZ03p21knc+/pw1GYWSyqZCiBak5Q6j5PrOaXt6CUVxDzfa/NO9yUBR70L2Gu+w+J8BmekW3VfTamySirYuJp2bROG2SdDvMoeKji4m/OqBw5oshYzklJOGw4o6dhl+Obcc8R36dy4mm8k0qefBGCgsMxz03ZCegO+DpyFIQ9qxDOhhsECsk+E3vw3pmcgFDmMh0d5w5mUhXXtbonBbZwJMSFDUi1/fcBf7v/sR8xatwYm1Zo8xBzFm+CCKnSyZ+jRjopBYxyFcP+7fHPTcU7z+4XyyqTTusE5AhE1W8vM/PMGAYf/g1Q8W06rHEI4/6bsE7z7OGwu7oYkIjUP7oedy2S98uhaEhKbxO2JNhE6247QrHmbA6P/w3Kvvsi4ISJTsQYmGbCZN0a6H8Z+332H8Cy/yytTZxEp7MPyQMYzevQonkyZy4sT7Hs15l45i11aa6EuBw5K1HkOP+DEPFfdn7uzFrEtn6TJgbw485DD6tPZIpzObjs267HXylTwS24WCAcexS7lD2PSKb0IIsdNT1lobRRGpVIpMJkMqlWLt2rX4vk8ymcTuZBtZGWMoLi6msLBw221XoGMKhSVKb+EQR6G9TV3iJrBstmrRUbheI19vMoUfhyk3nMvRl3u8nr6dzhvOFQZkw+a9qXItW6wBFkE6UCjHEvMgzKqNvRsbvtasKqJK4/k+m5eMMATZgKiRMPDlapsh6fpJEEq7xPxNr0VBAK6HozZV3NxQqTTMptnmHEul8WP+Zl132XR6Yy+Jdjz8BhVEMSGZYNMmcdqN47sQZTMEWwg22vXw3c2n7X6xwmiDg4n7bu482aYNiQkhxM7AWovnebjulvsvWm7PBoAl10OxtUMiu/U6GZGlmXmg0YaYMCCdybI+ioiicIsPuG2+U6g2m8TY6DGRIh1t+2vbPpkhyKRp6md0G4Wkt9BtYs2m4LFRFG323lE2vc3yHw3blk1vIUECJgpIb6V34YuTQRs/JiAdNvHqG7s+IYRoIVp22NhBGKCoaz9GHwDJyMq26EIIIb5VWvYwyo5CgcmmSaWhoDiB2lnaLYQQosWTYZSdhQXtJyiOsbHOhhBCCPFtIWFjR2EtkjOEEEJ8G0nY+AL1xY0thBBCiBbCmvxUN5aw0UA6naa2pkYKLgkhhGhxjDGUtmq11bkXX5WEjQaUUhv/CCGEEC2J1hry9PyTsNEICRtCCCFaGmu3vH/W1yUTFIQQQgiRVxI2hBBCCJFXEjaEEEIIkVcSNoQQQgiRVxI2hBBCCJFXEjaEEEIIkVcSNoQQQgiRVxI2hBBCCJFXEjaEEEIIkVcSNoQQQgiRVxI2hBBCCJFXEjaEEEIIkVcSNoQQQgiRVxI2hBBCCJFXEjaEEEIIkVcSNoQQQgiRVxI2hBBCCJFXEjaEEEIIkVcSNoQQQgiRVxI2hBBCCJFXEjaEEEIIkVcSNoQQQgiRVxI2hBBCCJFXEjaEEEIIkVcSNoQQQgiRVxI2hBBCCJFXEjaEEEIIkVcSNoQQQgiRVxI2hBBCCJFXEjaEEEIIkVcSNoQQQgiRVxI2hBBCCJFXEjaEEEIIkVcSNoQQQgiRVxI2hBBCCJFXEjaEEEIIkVcSNoQQQgiRVxI2hBBCCJFXEjaEEEIIkVcSNoQQQgiRVxI2hBBCCJFXEjaEEEIIkVcSNoQQQgiRVxI2hBBCCJFXEjaEEEIIkVcSNoQQQgiRVxI2hBBCCJFXEjaEEEIIkVcSNoQQQgiRVxI2hBBCCJFXEjaEEEIIkVcSNoQQQgiRVxI2hBBCCJFXEjaEEEIIkVcSNoQQQgiRVxI2hBBCCJFXEjaEEEIIkVcSNoQQQgiRVxI2hBBCCJFXEjaEEEIIkVcSNoQQQgiRVxI2hBBCCJFX7jfdgB2JtRZrLcaYb7opQgghxP+UMQZrbV7eW8JGA7FYDN/3v+lmCCGEEP9z1locx8nLe0vYaEAphVLqm26GEEII8a0iczaEEEIIkVcSNoQQQgiRVxI2hBBCCJFXEjaEEEIIkVcSNoQQQgiRVxI2hBBCCJFXEjaEEEIIkVcSNoQQQgiRV1ss6mWtJYqivJUuzRdjzMaSqztb24UQQoidTVOet42GDWstxcXFlJeX73T7hFhr8TwvbyVXhRBCCLG5bVXf3mLY8H2feDyel0YJIYQQouWQORtCCCGEyCsJG0IIIYTIKwkbQgghhMgrCRtCCCGEyCsJG0IIIYTIKwkbQgghhMgrCRtCCCGEyCsJG0IIIYTIKwkbQgghhMirFh02Zs+ezfTp03e6kuyiZVq+fDmTJ08mm81+001pspqaGt5//33Wrl37/+ydeXhM1//4X7NPJvsiiwRRIXYSsYRQtVO7trZoq9Ta9mstpVqfUi21lJZaPiqqyoda2yqt0lBEE1KNLbaIBJFNyDr77488uT8jQawzI/f1PJ5H7px77/ueuXPO+7zPe7G2KA/F2bNnSUxMtLYYD8WNGzeIi4uzq/dDpOJQoZWNH3/8kWXLlqHVaq0tiojIA/n777/5z3/+Y1cTd3JyMp999hlnzpyxtijlxmQyERUVRVRUlLVFeShiYmL49NNPuXXrlrVFEREpxT2rvlYkHlRAxhqUDBiurq5WlsQ2MRgM3Lx5Ezc3NxQKRbnPycrKQqvVIpVKUalUeHl52eT3XxYSiQSz2Ww38oJ9ymyvlPS1iIgt8tSVjfz8fKTS+xtQSiq1lnfSeFJIJJInMghu3ryZlJQUOnXqRP369Z+AZPDJJ59QVFTEwoULUalUT+Sa5eWvv/7ir7/+QqVSCQOY0Wikbt26dOnS5YHf57Pgn3/+Ydq0acyaNYvmzZuX65yMjAzmz5/PyZMnuXjxIn5+fuzZsweNRvOUpX1yPMtJ+/jx4+zbt4/atWvTrVu3R/7en7bMRqORxMREYmJiBAW0Xbt2VK9e/ZGv+aTGhntx+vRpfvvtN0HxLUEqlRIcHMzLL7/80PeXSCRIpVJRsROxSZ6qsqHVannjjTfQaDSYTKYytW6JRIJcLmfQoEF06tTpaYrzVMjPz+fDDz8kJyeHW7duPTFlw8nJCYVCYZWJPTU1lfj4eHQ6HfHx8QQFBeHj44NarbaZlZNSqcTV1RWlUlnuc7y9vfn444+RSqV89dVXHD582CYUJ1skIyODefPm8fvvv9OlSxc6der0UH39LElLS2P9+vUkJSUhlUrJyMhg+/btTJs2jfDwcGuLVybXr19n7969wmKsREG4dOkSrVu3plu3bqLSIPJc8VSVjZs3b/LLL79QrVo1PDw8Spn5pFIpt27dIisri/bt2z9NUZ4a+/fvR6PR0KdPH+Lj47l58ybu7u7C50ajEZlMBiAoXCV/l8Wd7e8+fuegdK92JfcxGAwoFIpHGrAGDBjAgAEDOHfuHBMmTGDs2LF07dq1zLZmsxmDwSDIViKnTCYr83nNZjMmk6lM2Q0GAxKJpFz9YzKZ7vlsRqMRoNR1ZDIZLi4uADg6Ot6/E+5znYrAV199haenJ4MGDeLWrVs2PfG5u7szduxY/Pz8kEgkaLVaevfuzcaNGwkNDX3mlsHy0L59e9q1a2fRr9nZ2YwYMYLw8HBRCRZ57njq2yhKpZLevXszduxYVCqVReSHg4MDP/74IxMmTLCZFfPDYDAY2LlzJ23btmXAgAGMHTuWEydO0LZtWwCKioqYOXMmbdu2JS0tjW3btpGfn89rr73GsGHDhElMr9fz119/sXbtWlJSUlCr1dy4cYPu3bsLg9H8+fPx8fHhxRdfZMmSJSQkJFC3bl0mTJhAYGCgIM++ffvYunUrWVlZaDQahgwZQocOHR75Ge/1vej1evbt28fmzZu5desWmZmZAFSqVInu3bvz+uuvs3r1aq5du8bHH38snPfHH3+wefNmPvzwQ6pUqQIUm5SjoqI4fvw4ABEREYwcORI/Pz/hvNTUVL7//nv2798vKDhyuVwYlI1GI3v27GHbtm1cuXIFo9FI06ZNGTNmjHCfO7mXpc1kMnHkyBH+97//ceHCBbRaLbVq1WLMmDHUr1/fpifdJ8WBAweIiYlhxYoVbNiwgaysLGuLdF80Go3FVphKpaJhw4akp6cLCqMtcve7tGPHDvLy8u6p2IuI2DPPRH12dnYmICAAb29vfH19hX+urq40atSIXr16UbVq1WchyhPl6tWrHDt2jM6dO/PCCy/g4eHB0aNHLdqcOXOGmTNn8tdffzFgwAA6duzIl19+yf79+4U2W7duZfbs2dSuXZuxY8cyePBg/P39LQbKrKwsvvvuO8aPH4+3tzdDhw7l/PnzrFixAr1eD8BPP/3EF198QVhYGOPHj6dFixaMGzeOvXv3PtLzlSiGZU3K+/fvZ/HixdSrV48JEyYwePBgrl+/TpUqVWjdujVQHIqXkpJicV5OTg4XL14UZP7333+ZNGkS+fn5jBo1ijfeeIOYmBjee+89MjIygGJFY+rUqSQkJPDWW28xcuRIIiIiUCgUgmy3bt3izJkzhIaG8vbbbzN48GBiY2OZNWsW+fn55X7mwsJCTp06RVBQEG+99RbDhg3j1q1bzJgxg6SkpIfvRDsjLS2Nb775hsGDB1O9enW7DaM8fvw4jRo1wsHBwdqilAuDwcCqVavo0qUL1apVs7Y4IiJPnGcSjXKnWf9uwsLCWLt2raDl5+XloVarkcttP1AmJiYGiURCmzZt0Gg0NGnShKNHj5KVlYWnp6ewrVC5cmWWLFkirL6OHj1KdHQ0HTp04Nq1a2zatIkePXowbtw44doXLlygoKBA+FulUnH8+HGioqLo3bs3UDxArV27lvT0dDw8PPj+++/p1q0bw4cPB6Bly5akpKSwfPlyWrRogZOT0xN5bpPJRExMDDVq1ODdd99FLpcTHh7O6dOnyc/Px9/fHyjeJrv7eyw5VmKRWLNmDS4uLsyfP1+YGDp27Ei7du3YuXMnw4YNY/v27eTl5fHNN98I1o46depw9uxZQdnw8PBg4sSJFvfy9fXl008/JTMzs1zbJlC8vTJixAiLY6GhoYwdO5YrV67wwgsvPGRv2Q8mk4m1a9fi4ODAG2+8IRwvcTy0ZXJycvjhhx9ISUlh27ZtvP766xa/J1snKiqK3NxcBgwYYG1RRESeCjYxgtxpThw9ejQvv/wysbGxVpTowej1eqKjo2nSpImgRLRr146UlBTOnj0rtJNKpbz66qsWZl4HBwdhtZ2SkkJBQUGpiIq7zb9arZYuXboIigZA48aNeeWVV3BxceHq1aukpqaiUqk4duwYR48e5cSJE7i5uZGamipYCZ4EEokER0dHbt++LWyfGAwG0tLScHd3L9fEVOK/k5CQQJs2bSxWoL6+vjRr1oxTp05hMBhITEwkJCQEHx8foY1ery9lcTGZTKSkpBAbG8vx48fJzMx85Ain9PR04uLiiIuL48KFCza57/+k2bt3L/Hx8YwcOVI4VtLHJZYoW0UqlZKVlUVRUREdO3bkyJEjrFu3jqKiImuL9kCuXbtGVFQUI0aMwNfX19riiIg8FaxuPjCbzcJAplQqmTVrFjNmzGDGjBl8/fXXBAUFWVnCsklNTeXs2bOCgmE0GoXImvj4eFq1aiUoUXcnDbsz70BRURFms7mUp395nBIbNWpEo0aNgOIBKz8/n507d3Lw4EFBHq1WS+3atZ/oylQikdCoUSN27NjB9OnTqVOnDqdPn+b27dsMHjzYwppx9760XC4XwgqNRiNGoxG1Wl3qHmq1Gp1Oh06nQ6vVCmG4d1+nhOzsbBYvXsy5c+eE/r1586bgdFpe8vPz+e9//8vff/8tKHyFhYVkZWXZ/Or+cdm0aRMJCQmsXr2atWvXIpVK+ffff8nNzeW9996jdevWDBkyxNpilomLiwszZswQ/l6/fj0rV66kevXqREREWFGyB7Nr1y6KiooYOHCgtUUREXlq2ISysWjRIi5duoRcLkepVGIwGDhx4gTvv/8+y5Yts0ltPz4+npSUFFavXs2aNWuA4om1sLCQv//+m5s3b+Ls7PzA6zg5OWE2my2c8HJycjh27BgNGjQotzwODg74+PgwfPhwXnnlFYvPHjWpUkk0y91bIXq9nvj4eMLDw2nQoAGpqam0atWKHj164O3tLbSTSCSlshmeO3dOUL7kcjkeHh5cunTJok1+fj6nT5+mf//+aDQaHB0duXHjBkajUZDl2LFj5OTkCArADz/8wM6dO1m9ejWhoaEAHDx4kJkzZ5bpcyKTycrc5tm7dy8//PADn376qeBYe/HiRSZMmPDcp7Vv164dlStXRiqVCrlvLly4gF6vx8fHBzc3N2uLWG5CQkKQy+Xcvn3b2qLcl+vXr7N161b69euHl5eXtcUREXlqWF3ZkEqlBAUFoVKpkMvlyOVybt68iVwup0WLFuWasK3BgQMHaN68OSNHjkSj0QiD8759+9i2bRsXLlygSZMmD5zkq1evjq+vL1u3bqVatWrcvHmT77//nps3bz5UyKWfnx9hYWGsW7cOT09PqlevjtlsJjk5WfArKa/CkZWVRV5eHpcvX0an03Ht2jUuX74sKDR6vZ5Lly6hVCoJCwujY8eOAKVW/lWqVOH7779nz5491KxZk3379rFlyxZUKpWgAHTr1o1Vq1ZRu3ZtIiIiKCoqYtWqVajVal5++WUAmjRpwurVq/n111+pX78++/btY8eOHRbWoJycHCQSCSaTieTkZE6fPs369espKioSnruwsJD09HRkMpmQSfT8+fNoNBrc3d1xcXHh9u3bmEwmpFIpV69eJSkpic2bN5OWlvbcWzYGDRpU6ticOXNITExk1qxZVpCofOTm5pKZmYnZbMZsNpOdnc3XX39NjRo1BMXTVtm2bRsGg4FXX33V2qKIiDxVrK5sAPTt2xcoXgkfO3aMqKgoIiMjGTdunE0mErp8+TIxMTEMGzZMiLwowcnJiY0bN7Jv3z4aNWrErVu3KCwstGhz69YtwVnTw8ODoUOHMn/+fHr16kWNGjV49dVX8fX15fr168JqOjc39741DxQKBSNHjmT16tVMmTKFvLw8nJ2dqVu3LkOHDn0oy8Z3333H0qVLkcvlpKWlcf78eebOnUv37t2ZO3cuGo2GNm3aMGfOHP7880+cnJy4desWXl5e9O7dm8GDB1OpUiU6dOhATEwMI0eOxNvbm4iICHr06MGePXuEKId+/foJWxefffYZSqWSkJAQ5s6dK4T0du7cmQsXLjBlyhScnJxo1aoVQ4cOZcOGDcKefN++fTl16hSRkZFoNBpq1apFcHAwiYmJwjbd6dOnmTZtGlevXiUnJ4e8vDxeffVVlEol77//PgMGDKBt27b8/fffjBkzBqVSSdWqVWnSpAlqtdou9v+fNFlZWWRmZgpbWbbI/v37mTNnDrm5ucjlcnx9fWnTpg39+/e3SatoCampqfzwww906NDhsbKdiojYAxKz2Ww2Go0UFBSg1WopKCggOzsbf39/KlWq9FgXT0tLIzg4mEmTJjF16tQHOuulp6czYMAA2rVrx+TJk5/64DZv3jyuXLnC/Pnzy/QbuBd6vZ709HQ8PT1LnWc2m0lPT0ehUODh4UFaWhpOTk4WkSDp6enCFkIJt27dIicnB0dHR7y8vMjLy0Or1eLp6QkU+yQYDAaLbYqyMBqNZGZmUlhYiFwux83N7aGjULKzs8nJyRG2GkwmE0ajEWdnZypVqsTt27eZNGkSzs7O/N///R9KpRKj0cixY8f4+OOPGTNmDG+//TYAOp2OtLQ0JBIJlSpVEqwKXl5eFlsYWVlZ5ObmIpVK8fHxKfXdl/S5yWTC29sblUpFRkYGLi4uQtuCggLBYdXd3R1HR0fS09OFe2m1WtLT0zEYDMhkMsFvBMDT01Owoul0OqGdi4sL7u7uZGZm4uzs/FDvyZPml19+4ZtvvmHNmjWP/dssL+V97+7F6dOn+fjjj5k4cSItWrR4wtIVk5eXR1ZWlmCRKvkNPSomk4np06cjkUiYM2fOE5TUkpL30dPT84mkzP/pp59Ys2YNK1euFLdkRGwOq1s2CgoKyMjIwNPTE29vb/bt22dtkR6IQqEQwjvvRiKRWERNlLWyKmvgdnV1tSi6dreCcqdicj9kMpnF/R8FDw+P+94vJSWFM2fOMHHiRIv8KGq1Gj8/PwwGg3CsxDpwJ2X1iaenp6BYlUVZfX73hKvRaO57L5VKVWaCr7tRKpUEBATc914VhfK+d9bk7t+KvVDe91FE5HngmSgbcrn8nlaN2NhYpk2bxpQpU+jZs+ezEEegJNLBHrOXWhM/Pz+Cg4NZvnw5p0+fxtfXl5ycHI4ePYqPjw9dunSxtojPJQaDAa1Wa1eOqkajEa1Wa9OZPMtCp9PZXbZYg8FAUVGRXb0fIhWHZ6JsJCcns3//fhQKhcUPQa1Wc+jQIRITE+/rj/C0CAkJoVq1ahWy9sXj4OHhwbx589i/fz9xcXHcuHEDjUbDgAED6NKli91kbbQ3AgMD6dq1q131r4eHB507d35sa9uzRCKR0KJFC7tbhAQGBtK5c2erbvWJiNyLp+pOgkJOAAAgAElEQVSzce3aNWrUqIGXl9c9J3Sj0YjJZGLOnDkWWQtFREREREREng+eqmXDycmJDz/88IGlyaVS6RMrzS4iIiIiIiJiWzxVy4atYzQaMZvNdlGHRUSkpNrto6ZgtxZ6vb5Uxldbp8THxJ62WO31/RCpGDzfWYoewJw5cxg5cqRFwTMREVtlx44ddO7cmbS0NGuLUm4SEhLo3bs3hw4dsrYo5cZoNDJp0iQmT55sbVEeiq1bt9KjRw9u3LhhbVFEREpRoZf0SqUStVr9VDND6vV6tFotUqkUmUyGQqGw+UyUer2+zDTlItZFoVCg0WjsarUtk8nQaDR29S5JJJJStXjsAYVCgYODg82PLyIVE/sZAZ4CJQXBHoXc3FxOnTpFzZo1hfwQJpOJ48ePo1KpqFOnDnK5nI0bN7J27VohZHHWrFm0a9fuST5GuUlJSSExMREofnaZTCYk7FIoFNStWxdvb28++OADHBwcbDpFtcjT4erVq5w/f17IlWI2m1Gr1dSrV8/mc25cvHiRK1euYDabqVu37mNlD32csaGEy5cvk5SUBEDt2rXx8/Mrs92lS5e4dOkSjRs3fqxkXCUy25uSJFIxqNDKxuNw4cIF3nnnHebMmUOnTp2A4gyPn3zyCWPHjqV27doAdO3aldatW3PmzBkWLVokpOm2BrGxsSxbtgyJREJeXh5nzpyhVq1auLi4oNFoGD9+PN7e3hb1REQqFtu2bWPhwoVUr15dyLDq7e3N+++/b7PKhl6vF4rwabVaioqK8PLy4u2336Zbt27PfKWv0+lYv349O3bsID8/n8LCQjw8PBg/fjwvvfQSUFztOT4+nl9//ZXY2Fj27NnD9u3bn3muIRGRZ4WobDwicrkcFxcXoXbLqVOnWLlyJQMHDmTIkCGCqdvLywsvLy+bqC3RuXNnWrVqhVKp5PTp04wdO5aZM2cSHh4upOaG4ugg0RRbMZHJZLRs2ZL58+cjl8sxmUxIJBKL7La2RlxcHCtWrGDAgAG8/PLLSKVSPvzwQ5YtW0bNmjUJDg5+pvLk5uZy/Phxhg4dSnh4OFqtlqlTp7J06VIaN26Mu7s7qampREVFCUnwTp48KTp2ijzXiMrGY6JQKCgqKuI///kPL7zwAmPHji1zT91gMNwz/Dc/P58jR47w66+/kpqaSkBAAG+++aZQYn7t2rUkJyczefJki4ROhw4dYvv27bzzzjtUq1btgbI6Ojri6OgIFKfflkgkeHp64u7uXqqtSqUiLS2N5cuXk5SURK9evYSCeSWkp6ezfv16YmJicHV1FeraQLE5fs+ePURERLBs2TLq169Pnz59iIqKQqvVMmLECLy8vDh06BBnz56lT58+bNy4kcOHDxMUFMSkSZMsUlCbzWa2bt3Kr7/+Sl5eHp6engwYMICIiAjBCqPX69m8eTO7d+9GJpPRqVMn+vfvLyhO8fHx/P333/Tt25eff/6ZvXv3EhAQwIQJE+wq6dTTxGw24+DgYNMFzO5Ep9Oxd+9eKleuzJAhQ4QJe8KECYwaNYoDBw48c2XD09OTmTNnWqTf79evH5999hlXr17F3d2dgIAAPvjgAwIDAzl8+DBSqdTukoiJiDwM4vL1MSixAMycOROJRMLHH3/8SNaL6Ohovv32W4xGI7Vq1eLKlStERkby22+/AeDj48PGjRuJj4+3OG/z5s2kpqaWqSw8iJLQvrLSSMtkMo4cOcKIESNIT09Ho9EwdepUNm7cKLQ5fPgwQ4YM4eDBgwQHByORSBg3bhyff/45UGwmXrduHR988AEGg4H169czbdo0Tp48ye7du9mzZw9QXPly9erVDB06lOjoaAICAvjtt98YNGgQ2dnZQLEyNn36dJYtW4aXlxe1atUSiqWVcOPGDQYNGsTKlSvx9/fH1dWV+fPnM3r0aHJzcwHIyMhgy5YtvPnmm/z+++8EBgZy5MgRRo4caXGtioxEIuHatWv8/PPP7Nu3jzNnzlhbpPuSm5tLcnIyDRo0EBSNtLQ0lixZQmJiImfPnrWKXHfX+SkoKMDBwUEo9qdWq4WqxvdbiIiIPC+Ilo1HRCKRoNfrWbRoERcvXmTr1q2PvKfdunVrOnfubGER6dOnDwcPHqRTp060bNkSPz8/du7cScuWLQG4fv06p06dYsiQIcL2x5NCIpGQmJjIsmXL6N69OwDjxo1j9+7dDBgwgMLCQtauXUuVKlVYsmSJULFyw4YNLF68mE6dOuHt7c2NGzfo0KED06dPp2fPnty+fZsVK1Ywe/ZsITxPKpWSlpZGz549mTp1KgD//PMPr7zyCkePHqVr165cvHiRQ4cOMWXKFLp161amzKtWrSI5OZlNmzYJg/jRo0cZMWIEf/zxB71790Yul5OWlkaHDh2YP38+UqmUM2fOMGTIEM6dO/fIlU2fF8xmM25ubmRmZjJx4kQKCwvRaDQMGzaMUaNGCROlLVFUVER+fr7gfBkVFcWSJUuoVq0abdq0ITc3V6gGay1MJhO7du2icePG93QSFRF53hEtG4+BXC7Hx8cHvV7PhQsXHvk6zs7OyGQybt68yY0bN7h58yY1a9bEYDAIvhQ9e/Zkz5493Lx5EyieSCUSCa1bt35SjyOg1+t59dVXBUUDoHLlykK58bS0NJKSknj55ZctSmN36dIFT09PEhIS0Ov1VK9enddeew2z2YxMJqNLly64uLig1+uFGjlms5lmzZoxZswY4Tr169cnICBAWJX6+voSFBTE/Pnz2bVrF0lJSRaOtkajkT///JOePXsKigZA8+bNCQ4O5siRI0K7oKAg3nnnHWHy8fX1RalUkpOT88T70d6QSCS89tprREdH8++//3Lu3DmWLFnCqlWrWL16tc0WU5NIJJw8eZL+/fuzatUqJkyYwLZt2wgNDUUikVjVaqDX61myZAnp6emMGTNG8PESEaloiJaNR6RkABs6dCi1atVixowZqNVqWrVq9dDXOn78OL/++ivJycnk5+cjlUo5d+4cXbp0Ee7Ts2dPoqKi+Omnn4iMjCQ6OpqWLVtaTK5PColEUspZrUQOiUQiVJa822lQqVTi4uIiFNWTyWTIZDLMZjNSqVQoEHXn4F8Sgnt39ItUKhXCL729vZk9ezYbN27kyy+/pKCggEaNGjFw4EAiIiKEXCZl+V14eHhYKBIymcxilVui9IjRN8WUfGcldOrUiW7dupGQkEBBQYHNWTccHBwwm818//33jBkzhmXLluHp6YlerycrKwsXFxer5SUpKChg6dKl/Pbbb8yePVuIUBMRqYiIysZjYDabyc/PZ9SoUZw4cYIFCxYQHBxcZqx8yWR296SWlZXF8uXLMZlMDB8+HFdXV9RqNYsXL0av1wvtqlevTvv27dmzZw+NGjXiypUrjBo16qlNkvdbDTo4OCCTyQSfihJyc3PJysrCz89PWFHeeZ37XfPO59DpdBQUFFg4Kfr5+TF+/HgiIyNJSkriv//9L19//TWBgYH4+/vj4ODA1atXLa5pMplITU0lPDy83M8mUpr8/Hw0Go1NRks4ODhQpUoVGjVqxMSJEwUZs7KyuHTpEu3bt7eabCtXruSvv/5i0qRJtGjR4p7tSt59MQJM5HlGfLsfk5KEWJMmTUKr1bJo0SK0Wm2pdhKJpMyQ0pycHK5cuUJoaCgtWrSgTp06XL9+nRMnTpTKuvj6669z5swZlixZgouLC6GhoU/12crCZDLh5+dHYGAgmzdvtpjgly9fjlqtJjw8vNwTelnK0po1a5BKpYKVqLCwkPz8fKA4iqZZs2ZERESQmZlJfn4+EomEF198kW3bthEbGytcZ/369WRmZtKlSxdAVDIehW3btnH8+HHatWtnk6XLHRwcaN26NVevXmXnzp3C8VWrVpGfn0/btm2fuUxGo5ElS5awZ88epk2bRufOnR94jj1lhRUReRREy8YjYjAYyM3NFXwHateuzQcffMDbb7+Ni4sL48aNQ6FQMG3aNKKjozEYDKSkpDB58mQ0Gg0tW7bk888/x9/fn4iICFauXMm6deuQyWRUqlQJJycnCgoKLCbIhg0b0rhxY3bv3s20adNKebw/rPy3b9+2sJ6UUFatmJIJ32Aw4ODgwHvvvce8efPo2bMnDg4OFBUVERAQwMcff0xAQACJiYnk5eVhNBoxmUzk5+cLSlhhYSFFRUVAsbJx9OhRevToQVBQEJmZmeh0OhYtWsQLL7wAFG8zzZgxg5ycHJydndHr9Tg4OPDWW29Ro0YNAN59911ycnIYNWoUSqVSyHw5Y8YMmjRpAhRbTEpkKsFoNFp8jxWZgoICli1bJkzaBoMBjUbDrFmz7umYawt06tSJq1evMnv2bObPn49Op8PPz4/JkydbZeviyJEjfPHFF+Tl5TFo0CBMJhMmkwmtVkvXrl1Zs2YNN27cYMKECURHRwNw+/Zthg0bhlwup0uXLixdutSuUryLiDwI8W1+RAIDA/nkk0+EXBgAERERrFixAr1eL/gpdOvWjXr16qFQKIStBb1eT5UqVZDJZMjlciZMmEDbtm25cuUK7u7uNG/enOzsbG7evFlqwGnQoAEJCQmP7RhapUoVFixYQJ06dUp9Nnz48FIrrb59+xIRESE4uNWrV48lS5Zw7Ngxrl+/jqurKy1bthQicvz8/Jg2bRp+fn7IZDImT55M9erVAXjrrbeEfB9ms5kaNWowcOBA1Go1bm5uNG3a1EKRql+/PrNnz+bq1avodDo0Gg0NGjQgKChIaOPi4sLcuXOJi4vj0qVLqNVqGjdubOHTEhISwuTJky18O1xdXfnss89o1KjRY/Xn84BSqaRly5b4+voik8nw9PSkUaNGNp+DRKVSMWrUKJo1a8b58+eRyWS0bt3aanLXrFmTJUuWoNPpLLYSjUYjAQEBQPH7OmzYMLp16yb4yZQo5iVjg4jI84SobDwi7u7udO3atdTxNm3a3PfvstBoNERERFgcKyuM9saNG2zatIlevXpRv379h5TYEjc3N3r37l3mZ2XtLzds2LDUMVdX13vWeXFxcaFjx47C33funTdv3lz4v8lkwtvbm8jIyHuu5EoUmQchlUpp1qwZzZo1K/Nzf39//P39LY6pVCqLqJuKjFwup2XLluXqa1skNDTUKluLd+Pj40OfPn3u28bBwcFqNZJERKxBhVY2DAaDYIWwVfR6Pb/++iuXL19m165d1K1bl/fee++5cSYzGo1CrgRbToltCxiNRpt/X+/GZDJZhDrbCwaDwe4ilIxGIzqdzu76WqRiUKGVjcDAQJsvyWwymTh8+DCXLl2ic+fODB48+Ikn8bImPj4+NGzYUNyfLgeVKlUiJCTEJqNC7oWTkxMNGza0O0UyKCjI7pQNLy8vGjVqZFfvh0jFQWI2m81Go5GCggK0Wi0FBQVkZ2fj7+9PpUqVrC3fU8VoNGI2m21+oitx4nweB5ES5zlb/w5sAbPZjMFgsKv3oERmuVxuV5N3iROxPflOmEwmITpORMTWqNAjvL0MJM/z4CFWmC0/ZSVbs3XsUWawn7HhTsTfkogtI76ZIiIiIiIiIk+VCq1s6PV6Mb+CiN1Q4kxrT5jNZiG9vT2h0+nsbmwwmUx2936IVBwqtLIxa9Yshg0bVmYSKxERW2P79u20b9+e69evW1uUcvPvv//So0cP/vrrL2uLUm6MRiMTJkxg4sSJ1hblofjxxx/p2rUraWlp1hZFRKQUFdpnw8nJCVdX1+din9NsNpOamoqjo+Mjl7oXsW3UajXu7u525UyrUChwc3Ozq2qnEokEZ2dnu3JoheLcHfb2fohUHMS38jFJTU0lOjpayPZZq1YtmjVrhpOTk9AmKyuLc+fO0aBBA4vjT5LCwkI+/fRTmjZtyrBhw57KPR6VnJwc9u3bx/Xr19FoNLRo0YLg4ODnQsl73khISODIkSPCFoLJZMLZ2ZkOHTpQpUoVK0t3b0wmE9HR0SQmJmI0GgkJCaFZs2ZWm3hzcnKIjo4mNTUVJycnWrduLaTfv5uMjAxiY2O5ePEijo6OdOzY0ab7WkTkURCVjUfEYDDw3XffsXXrVpRKpVAf5Pjx4wQGBlooFdHR0URFRbF8+fKnpmwAFBUVlVnrxJr8+uuvzJ07F6PRiFQqRSKRsGfPHt5//32byPYoYsmBAwdYunQpjRs3RiKRYDAY8PLyIiwszGYnwIyMDL766iuOHz+Oi4sLBoOBrVu30qpVKyZOnPjMc3wYDAZWrVrF4cOHUavV3L59m9WrVzN+/HiLzKImk4nvvvuOHTt2CDWHPD09adq0qc32tYjIoyIqG4/ImTNn+OGHH+jXrx9vvfUWEolEKLak0Wgs2ioUCqHA2tPiXlVlrUlcXBzTpk0jIiKCiRMn4u3tjU6nIykpyebrbVRUSlK+f/PNN8jlcsGx05bDVw8cOEBcXBwLFy6kRo0ayOVydu/ezYIFC2jfvj0vvvjiM5XHbDbTp08fRowYgUajQavVMmHCBH744Qfat28vJOXbtWsXGzZsYPjw4bRr1w5nZ2fMZrNN97WIyKNiOzOTnXHp0iUKCwsJDw9HpVKhVCpRq9W4uroKg8X06dNp2LAhH3zwASdOnCA8PJywsDAaNWrEZ599ZpF2OjU1lTFjxhASEsKgQYM4f/688FlWVhbvvvsu58+f58iRI3Tr1o02bdrw888/W8gkkUhQqVQcP36cfv360apVK3bv3l1K9hs3bvDuu+8SGhpKZGQkp06dsvh85syZrF27luTkZCIjI2nRogUrV6586D5at24dvr6+zJ07l8DAQDQaDW5uboSEhFC5cmUAfv75Z8aNG8ft27eF806ePEnbtm05c+aM0NdTpkzhypUrnDt3jsjISF566SWL57927RrDhw8nKSmJhIQEIiMjadeuHX/88QdQbPUZOXIkixcvLhUZMX/+fEaPHm0hQ0WlJMmdg4MDCoUClUqFSqWyKSX2btLT0zGZTAQEBAgFD6tWrYrJZLKK87dCoSAoKEgYC5ycnAgPDyc3N1eIFsnKymLr1q289tprvPrqq3h6eqJUKm2+r0VEHhXxrX5E6tWrh1Kp5JNPPiEhIQGDwVCqTVhYGEOGDKF58+Z4enrSq1cvIiMjiYyMJCQkRHBA2717NwMGDMDT05MFCxYQGBjIq6++yp49e4RrJSYmMmnSJKZMmUKTJk0ICQlh/PjxbN68GUCwrHz33Xd89NFH1KtXj6ZNmxIZGWkxKe/du5fevXvj6Ogo3OvNN9+0aJOdnc3q1asZPnw4fn5+tG3bls8//5xvvvmm3P2TmZlJfHw8vXr1KmXpuZO8vLxS0RVFRUVcvnxZ8BswGo2cPXuWhQsXMnz4cKpUqUL9+vWZMWMGO3bsAIpN0qdPn+aLL75g6tSpVK5cmeDgYEaPHs2BAwdQq9XUrl2b3bt3c+XKFeFe+fn57Ny5k7p16z5XaeAfFalUSmpqKj/++CM//fQTMTExNh8CGhoayq1bt/j666/Jy8tDq9WyZMkSKlWqZDPVfE+dOkWdOnWELZ1z586Rnp5OUFAQMTExbN++nd27d5OammplSUVEng7iNsojEhQUxKxZs5g7dy4jRoygXr16dOvWjU6dOgl+GSX7s9u2bSMrK4vx48eX8tnIyspi06ZNdOzYkY8//hiAdu3aoVQq2bBhA+Hh4cjlcrRarXCspHKpwWDg999/p2fPnshkMrRaLQALFiwgODgYgMuXL/Pnn3/SvXt38vLyWL9+PR06dGDWrFkAvPTSSzg6OrJlyxahRLxMJiMrK4tVq1YJFUCNRiNHjhxhxIgR5cqumJubS35+Pl5eXvdtJ5VKS11PIpFYpLeWyWQUFRURFxfHypUrqVu3LiaTicjISGJjY+nVq5dwnX/++YcVK1bQoEEDoS/3799PmzZtCA8PZ+fOncTGxgql5//++28KCwufuandFjGbzQQEBODk5MTy5cspKirCYDDw0ksv8e677wrWKFujefPmzJw5k/fff5+jR48KxeoWLFhgVZl/+eUXkpKSOHXqFDdv3uTTTz9FpVIBxQp9WloaS5cuxdnZGZVKxYULF3B2dmbSpEmEh4dbTW4RkaeBaNl4DCIiItiyZQtTp04FYN68eUyaNImUlBSLdiWDdn5+fqlrXL9+ndTUVLy9vUlMTOTkyZOcP38eDw8Prl+/Tnp6OlAc1jZmzBiLEun16tXj+vXrwnXVajWvvPKKoGgA+Pr6kp2dDRRvNaSmplK5cmXOnj3LyZMnSUxMxMnJiZSUFG7cuAEUKxZdu3a1KDVeqVIlcnJyyu2AWlIT40lUKDWbzUilUt555x3q1q0rHOvevTshISHC32azmREjRgiKBsCrr74qnFO3bl3q1q3Ln3/+Kcj1448/EhISYtFnFRWJRELXrl1Zv349u3btYu/evSxevJjdu3ezbt26Mq13toDRaEQulxMQEGBhncrMzLSiVMXbO+fPn8dgMFBQUMDevXuFbZSioiLUajXDhg1j+fLlLFu2jB9++AFHR0eioqJstq9FRB4V0bLxmCiVSnr16kWvXr04fvw4EyZMICoqiilTppQrt0BJEbydO3dy+PBhwZ+gqKiIgIAApFKpMDHefb0Si4DJZBLa3G0luHOyLxn0duzYYXGvwsJC/Pz8LM69O2Sw5DrlzT3g5OSEi4tLuczCd1/zXuGKzs7Owv9lMhmDBg2ykM9sNpeyHI0ePVr4v4uLCy+//DKff/45Fy5cQKVScfDgQZYuXSqsOCs6MpnM4j1o3rw57du359y5cxQVFT3VaKpHZfv27SxdupSpU6fSqVMnTCYTCxcuZPr06XzyySdWs1oNHTpU+P+BAwcYN24cXl5e9OvXD6VSiaOjI8HBwYKPl5eXFx07duT7778nJyfngVZBERF7QlQ2niChoaHUq1ePq1evotfrBeXgXooAIDiV9u/fn169egn741KpFJVKhZOTE1lZWWXeLzMzk0qVKuHk5CTc436WBLVajYuLC4MGDaJnz54W91IqlRYTyeNaJLy8vAgODmb37t2MHj0atVpdZruSCJ4775eYmFimwlGelNcPkrtJkyZ4eHhw8OBBzGYzLi4uNG/e/IHXrcikp6fj6elpk8mitFotMTEx+Pj40KlTJ6D4fR4yZAj79+8nNjbWJrbImjZtiqurq2CprFSpEnq9nmvXrglbegC3bt1CoVDYZF+LiDwO4jbKI5KdnV3K0z0hIYHjx49Tr149HBwchOO+vr4kJSURGxtb6jr+/v4EBgby888/o9frqVSpEpUqVUKpVJKSkoLZbEYikQj/Sjh58iS///47HTt2RK1WW1g37uTOYwEBAdSsWZOtW7ei0+ks7pWamiqU1X7QdcqDVCqlf//+XL58mcGDB5OcnAwUW3L27t3LuXPngGJrw5UrV/j333+B4hXgp59+auFUWmK1eBDlaefj40PHjh3ZtGkTK1asoH///naV3fJZ8+233xIfH0/Xrl3vqTBaE6lUiouLC6dOnRLeIYBDhw6RkpJiMyHWy5YtQ6vV0qpVKwBq1apF1apV2bJli/C7S0tL46effqJ169a4ublZU1wRkSeOqD4/Ijt37mTGjBnI5XJUKhU6nQ6pVMrQoUMZPny4Rfha69at6dq1K8OGDRNWLQMGDGD27Nk4OTkxadIkZs+eTZ06dQRnMYlEwvjx46lTpw5SqRStVstrr71GixYtUCgUXL58mWHDhjFw4ECgeNVvNBpLrf4NBgMGgwGj0YhSqeT999/nk08+oW7dujg6OqJWq5FIJIwbN46aNWsCxQpByQBYgslkwmAwPFRBrY4dO7J8+XL+85//UL9+ffLy8lCr1YSHh7Nw4UIAWrZsSZMmTXjllVdwdHTE19eX9957jzVr1gj71mazuUyZ7qTER6Q88vXs2ZMVK1ZQVFREr169yv08zzv5+fnMnTuXTZs2CUW9fHx8+Pbbb2natKm1xSsThULBsGHDuH79Oh07dsTR0RGTyYRarWbkyJG89tprz1ymkydPMnLkSMGKUVRURJ06dVi4cCENGzYEwMPDg8mTJ/Puu+8SERFBtWrVOHXqFH379uW999575jKLiDxtRGXjEenduzf169cnPT2dgoICNBoNwcHB1KhRo1RbhULBnDlzeO2114Qtlpo1awqWiurVq7N8+XJGjBhBamoqarXaIhdFiaIwadIkgoODkclk1KlTh1q1agn3UKlUjB49utQ+78iRIwUHSyi2bixfvpzhw4eTkpKCg4MDDRo0sMhYOHTo0FJm3N69e9OyZcuHtgK89NJLhIWFERsby+3bt3F1daVhw4Z4enoC4Obmxrx58+jbty96vZ6wsDDc3d3x9/enevXqQLFlaNq0aYIyVBaenp7MmjWLOnXqPFAmV1dXPDw8bDorpjVQqVT07NmTBg0aIJVK8fHxISQkBEdHR2uLdl8qV67MkiVLeP3117l27RoymYyGDRsK78+zpmrVqkybNo2CggIUCgW+vr6EhoaW+u3Uq1ePTZs2ERsbS05ODtOnT7dwbhYReZ4QlY1HxM3NjbCwsHK3VyqVNGvW7J6fKxQKmjdvXqb/QMlWSsuWLe+5/yyXy8sMlyvreiVZIu8lT1mr2JJIjkfB2dmZdu3a3ffzjh07Whzr0qWLxecvvfTSfe+h0Wjo3LlzueTZsGEDRqORgQMH2l2xraeJXC4nLCzsod5rW0Eul9OiRQtriwH8f0fk8uDl5UXXrl2fskQiItanQisbOp2ulHOiLWI2myksLLRKNsTnhczMTJYsWcL169e5dOkSkydPpkmTJtYW66EwGAxotdqH2sqyNiUOwPfbArNFdDqd3SmiBoOBoqIiu3o/RCoOFVrZCAkJoVq1ajbv+a1Wq+nRo4do8n9MtFotVatW5Y033hAc9eyJatWq0a1bNwvnY1vH3d2dzp0724yjZnmQSCS0aNHC7pSNwMBAujSSjXIAACAASURBVHTpYpOOvCIiErPZbC7J9aDVaikoKCA7Oxt/f/+nWjjMFnjY3BHWpGQrReTReR760B6fwV5lBvsYG+7EHvtapGJg20v6p4w9/SjtSVZb5XnoQ3t8BlHmZ4e9yi3y/FOh82yUN3+DiIitYG++D2CfMptMJrvzfTCbzXYns0jFoUIrG0uXLmXatGlCvQIREVvm999/580337R6zY+HITExkVGjRhEXF2dtUcqNyWTis88+4/PPP7e2KA/Fb7/9xvDhw+3q/RCpOFTobZTc3FxycnKsLYaISLnQarVkZmba1erVYDCQlZVV7gJ+tsKtW7fsbkuiqKiIrKws0VorYpNUaGXj7qJTD8OVK1c4e/askOXSzc2NoKAgvL29n6SIzwUmk4n4+HgyMzNRq9UEBwfj6+trbbHsDolEgkwme+qToE6n4/Dhw+Tm5hIQECBU1n0UnpXMJZhMJo4cOYJWqyU0NPSR034/KZkvXbpEUlISISEheHh4lNnmypUrnDx5krCwsMcaP6RS6TPtaxGRh6FCKxuPw759+/jiiy9wcnJCKpVSUFCAj48Po0aNom/fvtYWz2Y4ceIE8+fPJz4+nqysLJRKJY0bN2batGliATQb5MKFCyxatIhr167h7OzM5cuXeeWVVxg1apRd1JDZv38/77zzDk5OTixduvS+ifSeJikpKXz11VccPnyYrKwsVq9eTcuWLS3apKamsnr1av78808SEhJYv359uRPTiYjYGxXaZ+Nx0Gq11KpViy1btnDkyBEOHjzIK6+8wkcffcTmzZutLZ5NcPToUd58800KCwvZvHkzSUlJ/Pvvv4wZM0Ys6W6DpKen89lnn+Hk5MSWLVv47rvvWLduHevXr2fDhg3WFu+BJCcns3jxYvr162fVZH1///03Q4YMwWg08sorrwiFEu+kpH5KVlYW/fv3R61W26UjrYhIeREtG49ISRXWktWei4sLI0aMICEhgR07dtCuXTs8PT2Jjo6msLCQLl26sGfPHg4dOkT9+vUtCkQZDAZOnz7N/v37uXbtGn5+fvTr109I4rV9+3YyMjJ44403LFaX//77L3v37mXIkCFkZWWRnJyMj48Pv//+O71798bV1ZUVK1YQHh5Ohw4dhPOysrL48ccfuXDhAv7+/vTp04dq1aoJn2/evBk/Pz8aNWrEunXrSEtLo0OHDrRp06bc/WMwGFi2bBkBAQGsW7dOSESlVqstVm83btzg119/pVevXuTl5bF161Zyc3MZOHBgqTozsbGx7NixA5lMRocOHWjdunWp+8bFxbFz505kMhmdO3e2SGF99uxZTp06RdeuXTlw4AAHDx7Ez8+PoUOH2nz9j2fB6dOnuX79OkOHDhVq6VSrVo0OHToQHR0tvFO2ysqVK6levTpvvPEGW7dutZoc9erVY9myZdStW5fffvutzG2NGjVq8OWXX1KzZk1iYmIeeTtXRMReEJWNx+TuFUubNm1YuXIl165dw9PTk7i4OOLi4oiJieHAgQOo1Wr+97//cfHiRT744AOgOMrgyy+/RCaT4eDgwL59+9i2bRvz58+nadOm6PV6Fi9eTFhYmMX++caNG0lISGDkyJEcOnSI+fPnU7NmTc6cOcOFCxcwmUwkJSURHR1N1apVqVWrFgcOHGDOnDkUFBRQqVIlDh06xJYtW5g5cybt27cHik3RJR7tOTk56PV6Nm3axMKFC+nWrVu5+uXChQucPHmS6dOn3zfjZXZ2Nps2beLatWscO3YMnU5HWloae/fu5ZtvvqFOnTrodDqWLl3Kli1baNOmDXl5eUyaNInIyEhGjhwpKGCLFy9m06ZNtGrVivz8fMaOHcvYsWN56623gOK98XXr1rFr1y6SkpJwcXFhy5Yt/Pvvv3zxxRc2PZE+CzIzMzEYDGg0GovjtWvXJjExkZycHJvto4MHD3Ls2DEWL16Ms7OzVa0Ejo6OQh2heznGOjg4CIUFdTqd6NQp8twjKhtPGHd3d/R6Pbdu3QKKC6yVTPa7du1CrVbz3//+l0WLFjFo0CCqVatGixYt+OWXXyzSpnfv3p2dO3fStGlTOnXqxPLly9m8ebOgbFy7do3jx48zaNAgHB0dkUgkXLlyhTlz5qBUKnn77bd57733WLVqFT169CA1NRV3d3fmzZtHaGgoc+bMEe41ffp0lixZQs2aNalatSpqtZqYmBi+/PJLwf9k7Nix/Pjjj3Tp0kVY9d6PlJQUVCoVL7zwAlBswfjjjz/Izc1Fo9HQunVrAgMDUSgU3L59m23btrF48WJhXzssLIwdO3ZQp04ddu3axY4dO/j6669p3LgxULxF8/7771O3bl3at2/P9u3b+fbbb1mzZg2hoaEAREdHM378eBo3bkxoaChyuZykpCT8/Pz4/fffkclknDx5ksjISBISEoiIiHjcr9+uqVmzJgqFgiNHjhASEiKUmb948SI6nc5mo2AuXrzI0qVLeeuttwgODiYlJcXaIomIiNyFqGw8BSQSiTAhm81m6taty6RJk4SaBWFhYTRr1kwwr7q7uwNw+/ZtioqKUCqV1KpVC4PBgMFgwNXVlS5durB582amTJmCq6srx48fx2g0Ck6WJpOJ0NBQmjdvzoEDB6hatSrt27cXirdJJBLOnj2LTqcr5cDas2dPYmNjSUpKomrVqhiNRl5++WWLdtWqVePQoUPodLpy1V7Q6/VCJAIUhxkfPXqUpKQkkpOTcXV1JTAwELPZjIODA2+++aaFA13Pnj2Fehrx8fFUq1YNd3d3MjMzkUgkuLm54ebmxoULF2jfvj0HDx6kWrVq+Pn5CW0qV66MWq3mzJkzhIaGYjQaCQwM5J133hHkqly5MhqNhtu3bz/kt/z8UatWLXr06MGOHTs4e/Ysrq6uFBQUcObMGVQqVbmUzGdNUVER27dvp2rVqsLWpIODA1Kp1K5qyIiIPO+IysYTJjc3F5lMJvgAmM1mXF1d8fT0FNo0bNiQb775Rpi0L126xP/+9z/i4+PJz89HJpORkpJCr169BPNqt27diIqK4o8//qBv374cOnSIxo0bW/g1ODo6olKpMJlMqNVqHBwcLMyzt2/fRqlUlgoHdHd3R6FQCNYYs9lcqk1JttXyhtU5OztjMBjIz88HiveoFy5cyKVLlxgxYoTFKlkul+Pn52dx/tSpUwWFoKCggH/++YcxY8YI9zcYDFy+fFmwRuTn53Pu3DlGjRolmNBNJhNXrlwhOztbeAaVSmXhn1HSP6IZG0Hpa9SoESdOnEChUFCzZk2qVatGQkKCTfq1xMfHs2XLFkJDQ1m7di0mk4nMzEx0Oh2bNm0SfHQeNQRWRETkySAqG0+YgwcPUrVqVapWrSocK0kjXLIylEqlgqKRlZXFJ598AsBHH32Eh4cHarWaefPmodPphGvUq1ePrl27snnzZoKCgjhz5gxjx44ts2JtiWJwZzp2iUSCo6MjOp2O3Nxci/YZGRkYDAaLGP/HNZnXqVMHR0dHYmJihAqaMpkMjUaDVCq1UFrKSrN8pyOsQqGgWbNmTJs2DZVKhdFoRCKRoFKpcHFxAYrzIjRo0IDFixcDWLRxdnYu1TciZaNWqwkPDyc8PFw4tmrVKho3bmyhMNsKBoMBX19fkpOTSUpKQiKRoNfr0ev1HDhwgNTUVF588UVR2RARsTK2Zxe1E8xmM3K53MJhbv369Rw4cIA+ffoIWyMPIjs7m+vXr9O+fXvq169P5cqVycjIIC4urpQiMWDAAM6cOcPKlStxdXW1cBZ90CRqNBqpVasWZrOZLVu2WHy2ceNG/P39BYe1ez3vw+Dl5UX37t3573//y2+//SYcd3FxQSqVPpRFoUGDBpw7d46MjAwqV65MlSpVCAgIQK1WCw54rVq14uzZs1y9etWijVwuFywdoqLxcBQVFTF79mwyMjLo3bu3TSaLat26NVu3buWnn37il19+4eeff2b16tU4OjqyYMECoqKiqFy5stXkc3FxKTVO3I2rqysymUxQnEVEnkdEy8YjIpFISEhIIDIyEpVKRXJyMrdv32bChAl0795daGcwGO7rbe7t7c0LL7zA3Llz2blzJ3l5eaSnp6NSqTAYDBbnhYWFUbNmTbZt28b//d//4eXlJXxmNBrR6/WYzWaMRqPg0Gc2m9HpdGi1WipXrsywYcP4/PPPOXjwIP7+/ly+fBkHBwcWLFggrFx1Ol0pRedBz1EWo0aNIiUlhTFjxlClShV8fX1JT0/nxo0bKBQKoNiCotPp7hs90LVrV+Li4njjjTfw9/fH19eXrKwsXFxc+Oijj6hXrx59+vTh77//ZvDgwQQGBuLl5UVGRgZOTk4sWbIER0dHi34pwWQyodVqxRwHFCsX69atIzo6moyMDOE9XL9+fakwZFvGaDRSUFBgte/0xo0bjB49mkuXLqHT6cjOzmbgwIGYzWYGDx7MtGnTyMjI4KOPPiImJga9Xk9eXh4jRozAwcGB9u3b89lnn4nhsCLPFaKy8Yg0atSIgQMHUlhYiFQqpV+/fnTo0KHUCiYsLAxPT897rgpdXV1ZuHAhu3btIi4ujqpVqzJw4ECSkpJISUkpNeCEhYWRnJxcKtNgiXOfRCLhhRdeoG/fvjg7O6NUKunXrx+BgYFAsXWkbdu2/O9//+P69et07tyZAQMGWCTZ6tChQ6mkW+Hh4fj6+j7UAKjRaFi0aBFjxoxh+/bt3Lx5U8j5Ubt2bQA8PDzo37//fa0qbm5uLFiwgP79+/P777+Tm5vLyy+/TI8ePXBycgKK/Q2+/PJLIiMj2b17NwUFBfTq1YvevXsLz1LSL3d+RxqNhiFDhhAUFFTu53pekUqleHt74+/vT4sWLYiIiBCif+wJZ2dnRowYYTWLhoODAy+++CK1a9dGoVAgk8kwGo0UFRVRv359oHi7qlmzZoK/VEkbg8FA/fr1bdKKJCLyOEjMZrO5ZCWg1WopKCggOzsbf39/KlWqZG35nirz5s3jypUrzJ8/v1wRFtYmLS2NIUOG0KpVK6ZPny5YB0QqBr/88gvffPMNa9assZvf5unTp/n444+ZOHGiRYI1W8ZkMjF9+nQkEolFiLit89NPP7FmzRpWrlxpYfUUEbEFKrRloyS01JYxGo38+eefJCcns337dlxcXHj77bdFRaMCYjKZSm2t2TolMttqjo57YTAY7M66cOdWqoiIrVGhlQ0/Pz8h7bitotfr2bZtGxcvXqRTp04MHTpU9KyvoLi6ulKrVq0yI5BsFQcHB4KCgoTtLnuhSpUqNj0ulIWbmxs1a9YUfT1EbJIKvY1Sskq0dSuBVqsFEIuXVXBMJhN6vd6u3gOz2Yxer0cul9tkUrB7UZKUzp4UuxIrkkKhsDtFSeT5x35+SU8BexlI7GlyEXl6SKVSu3sX7ixWaE/Y+gKkLKRSqV32tUjFwH6WGk8Bk8kkhjyK2A1ms9nmfYzKwt78TKDY/8HexgZ7fT9EKgYVWtnYsWMH3377rUWmThERW+XYsWPMmzdPSCtvD6SkpLBo0SLOnTtnbVHKjdlsZsOGDWzYsMHaojwUcXFxzJ8/367eD5GKQ4VWNk6fPk1sbKzdrWBEKibXrl3jzz//pKioyNqilJtbt27x119/kZWVZW1Ryo3ZbOaff/7hxIkT1hbloUhNTeXgwYOCj5eIiC1hH04LTwmFQoFSqXxsZ6q0tDTy8/Px9fV9YsWqvv32W/R6PcOGDbNJ35Ls7Gxu3rwpmMdVKhV+fn5WlzU3Nxez2fxcpn6WyWQolcqn7miZm5tLeno6EokEDw+Px4p+KvEjeBbOobm5uWRkZGA2mwkICHgs/5Zn5WRZWFjIjRs3MBqN+Pn5odFoHvlacrncZqvziojY3ixmh4wePZrExESmTJnCG2+88USueeHCBbRarU3mJzCbzaxbt46oqCjkcjkmkwmTyUSnTp0YO3asRRG6Z4nRaGThwoW88MILDBkyxCoy2DuHDh1i6dKlnD9/nqL/196dB8d8/w8cf+6RlawcJBoScggaCeJoq6hJHaGqiqmrZTCqbVB0MlWZCuooo4rWMY7QRpkyo2TaUaoSjTbuxgjBknU1RBxJ2GStJHv9/vDLZwT1jUq6Sb0eM/7JbuS1mc1+Xp/X6/V+v0tKCA4OJj4+nujoaFeH9linT59m7ty5nDt3DovFQq9evRg/fjzh4eGuDu1vnTx5kkWLFmEwGDCbzXTp0oW4uDgiIyNdHZoQVU5S4KdkNBo5evQoPj4+7Nu3r8qSA3d39xq7hE2lUmE2m4mIiGDt2rVs2bKFr7/+ml9//ZUVK1a4rIyr0Wg4fvz4Q6faisqx2+2o1WrGjBnDpk2b2Lp1KxEREUydOpVTp065Ory/df78eT755BOCgoLYsGEDycnJZGRkMHfuXPLz810d3iNdvHiROXPmEBQUxPr16/nxxx+5cuUKM2fO5MaNG64OT4gqJ5WNp5ScnEz79u2JjY1l/vz5GI1G5W7K4XCQlZVFcHAwTqeT06dPY7PZiIyMrHCcO9zbS8NgMFBQUIBer+fq1asVjvQ2GAzo9XpCQkI4c+YMV69epVGjRkRERFRISCwWCwaDgdu3b+Pt7U1UVBR16tTB6XRy6tQp9Ho9YWFhD72Oc+fOYbPZCA8Pr1SCo1Kp8PHxITIyEp1OR7NmzYiNjeWHH37g+vXrSnXD4XBgMBjIy8tDp9MRFhZGkyZNKvxfVquV7Oxsrl27BqCcCuvn50fbtm25du0a165dU34W3CuZGwwGWrRogbu7OwcPHsRqtWIymTAajaSlpeFwOHBzc6Ndu3b/ybZKVdNoNBWOlgeYO3cuXbp04ezZs7Rq1cpFkf09p9PJTz/9hE6nY+7cuUrrZOXKlbz77rvs3r2b4cOHuzjKh4WGhrJ69Wp8fX2Vr82bN49Ro0Zx4sQJYmJiXBidEFVPko2nYDKZ2Lt3L/369aNNmzZotVqOHj2qJBslJSXMmDGDVq1aUVhYiMFgoLCwkOeff55ly5YpF90LFy6wbt060tPTlZZEQUEBI0aMUC78y5cvx83NjbZt27Jt2zZu3LiBRqNh2rRp9O/fH4C//vqLlStXkp2djYeHBzdv3qRly5bMmTOH+vXrs2zZMho0aMCcOXMqzFaUlZWxdOlS9Ho98+bNq/TchUqlqtAfvn79On5+fsrcSmFhIStWrOC3336jrKwMq9VKgwYNmDRpEn369EGtVlNUVMTatWtJSUnBx8eH3NxcTpw4QfPmzRk+fDht2rQhJSWFbdu2sWbNGho2bAhAdnY2EydOZMGCBTRv3pyZM2fidDrJy8vj5s2bZGRkYLPZ8PX1ZeHChTXyQlkbFBYWotVqa+yutUVFRZw/f5727dsriYbT6SQrK4uysjIMBoOLI3y08nmY++l0Ojw8PGpkNVOIpyXJxlMwGAxcvnyZmJgYGjZsSLNmzTh06BCDBw9Gp9Mp2wZv376d+Ph4vvzyS/Ly8hgxYgQ7duwgNjaWkpISEhMTMRqNrFmzhpCQEOx2O7Nnz67QjvD19eW7777j1q1bfPHFF4SGhjJr1iw2bNhAdHQ09erVY926dVy8eJFly5YRFBREbm4uw4YNY+XKlSQkJBAREcHly5eV8xMyMzNp164dVqsVu91O06ZNnyjRyM/PZ//+/Xh6emIwGDh+/DjvvfeeUpFZt24du3btYvHixbRr147i4mKWL1+uzFW0bNmSI0eOsH37dhISEoiJicFsNjNp0iTu3LnDuHHjlAFDT0/PCtswu7m54e3tjVqtJjg4mF27dlFaWsrYsWOJjo7mgw8+wOl04nQ6q2xo91lhMpkoLCzkzp07bN68mddee42OHTu6OqxHunv3LiaTiRdeeAG4NwexatUqMjMz8fDwID8/H4fDUSuGJlNTU/H09JQTiMV/Us3/C6zB9uzZQ0hICOHh4eh0Orp168axY8e4ePFiheeNHj2akSNH4u3tTXh4OOHh4RiNRuBevzkrK4uxY8cSGRlJ3bp18fb2xtvbu8L8h91uJzg4mGXLltG6dWs8PT2JiYlBr9dTWlpKbm4u6enpDBo0iKCgIKxWK40bN2bkyJGkpqZy69YtmjZtSnFxMVarld9//52+ffuyf/9+rFYrRUVFD7V2HkelUpGVlUVCQgKTJ09m9uzZWCwWpX2Sn5/Pzp07GTduHJ07d8bDwwN/f38mT56MRqPh8OHDwL1qiI+PDx07dkSlUuHl5UXr1q25ceNGpeZfylfDeHp6Ur9+fTQaDe7u7nh6euLl5YW3t7ecFfGEDh48yJQpU5g4cSLJycm0bt26xu6oabfbcTqd5OfnM3v2bCZMmIC7uzubN29m0KBBtWZZe1paGt9++y2TJk0iJCTE1eEIUeWksvEP3bp1i8zMzAq91W7dupGYmEhWVpbSSlGpVDRq1KjC95bfcQMUFBTgcDgeutA/uONiebJxfzk7Ojqa9u3b07BhQ4xGI/n5+Xz//ffs3r0bu92OVqvl0qVLmEwmioqK8PX1paysjNLSUvbt20fjxo3JyMggNDQUh8PxRMdSO51OOnbsSEJCAl5eXphMJlavXs306dNZsmQJWq1WSXju5+XlRf369ZUhuFatWmGxWPjmm2/o168fOTk5JCcn8+abbz7xnEX5hacmruCpTbp27UpERARwr8W3YMECCgoKiI2NdfnS5gfpdDpsNhtJSUlER0cza9YsXn31VTQaDWazuVYsBU1LS2PGjBmMGTOGAQMGuDocIapFzfrkqEWMRiPZ2dnk5eWRkZGBw+FQKgzHjh1jwIAByqDj4+6u/u45j/qeBxMQvV6vrMsvbxf06dOHqKgorFYrcC/Z8fT0pEmTJhQVFWG1WjEajfz555/Ex8eTlpbGhQsX0Ov1T5xs6PV6QkND0el0BAQE8OGHHzJq1CiMRqMyI/Hghd9qtWKxWPDy8lLi0+v1pKSksH79ejw8PHj77beZMGFChZ/14Om8derUeahiUZ7E1fSLS03n6empnNIaEhLCwYMH2b9/P8OGDXui98i/wd3dXTkNd+HChfj4+AD3BoivXLlCixYtXBzh4x06dIjp06fTv39/4uLiXB2OENVGPpX/ofT0dJxOJz4+Pty+fRuTyYTNZsPf359Dhw6Rk5ODWq3+n8NeAQEBaDSaCksLf/75ZzZu3IiHh0el42nUqBGBgYGYzWa6du1K9+7d6d69O926dSMqKgqNRoOfnx86nY5NmzbRunVrhg0bhlqtZuvWrfj6+j7xheTBAdGLFy9it9upW7cugYGBBAYGsmXLlgqJU1paGkVFRbz88svAvdU8YWFh/PLLL5w4cYLDhw8TFxdXYUMmnU5Hbm4uhYWFwL3B2xUrVnDp0qUKd9rlm16Vr2oRT8/hcHDmzJkq3bCuKnl5eREdHc3169fJyclRvp6SksKFCxfo2bOnC6N7vP379zNlyhQmTJhAfHy8q8MRolpJZeMfMJvNHDhwgMGDBzNz5swKj2VkZDB58mROnDhBaGioMnx5P6vVqhyYFBISQufOndmwYQN5eXkUFxdz4cIFevfujcViUaoZNptNqVY8ire3N0OHDmX58uVcunSJZs2aoVKpyM3NJSoqitGjR+Pj44NarWbHjh2sXr0atVrNSy+9xOeff87QoUOfKLlxOBycOnWKJUuW4O7uTn5+Punp6fTv358OHTqg0Wh4//33mTFjBrGxsbRp04aCggL++OMPhgwZQps2bZTXn5iYSFxcHIGBgbi5uVG3bl26deum3JW2bNkSnU7H9OnTeeWVVzhz5gw5OTn4+/tX+J1oNBpiYmJYunQpxcXFBAUFodfrGTBgAAEBAZV+bc+qu3fvkpKSwrlz51Cr1VgsFs6ePUtRURHx8fFP9P74N/Xs2ZPU1FTi4uLo1asXdrudnTt3MnDgQNq3b+/q8B7JaDQyc+ZMTCYTmZmZnDx5ErvdjsPhoHnz5owZM6bWnfArxONIsvEPFBQU4O/vT48ePR56LCwsjE6dOlFYWIjT6SQyMlJZrlmuZcuWyooNrVbL+PHjqVu3LqmpqXTo0IHFixdz7NgxcnJylMpI06ZN/+dWxkOHDiU0NJSNGzeSmppKvXr16NGjB2+88QZwr+Tctm1bSktLlQ/hrl278uKLLxIeHo67u3ulXr/T6SQoKAhvb2/27t2LRqOhUaNGTJs2je7duyvVht69exMQEKCsSvH392fKlCm8/vrrSgskLCwMDw8Prly5gslkoqCgQJnhmDp1Km+99RaRkZHMmjWLlStXsmfPHvr27ctHH31EUlLSQ3MdI0eORK1Wk5KSwunTp/Hz86NHjx6SbFSC1Wrl5MmTpKeno1Kp8PPzIzo6miFDhtTYpa9wrzr41VdfsWrVKg4cOIBKpSIhIYFevXrVuBmTcjabjSZNmuDm5kZmZqbSbiw/bba2DLYKUVkqp9PptNvtWCwWSktLsVgsFBYW0rhxY5577jlXx1etFi5cSE5ODosWLar0hVZUHbvdzsCBA4mKimLevHkVHuvTpw+hoaGsWrVK9h34fzt27GDVqlUkJSXVmr/N06dP89lnn/Hxxx/TqVMnV4dTKQ6Hg4SEBFQqFfPnz3d1OJW2fft2kpKSSExMrHGzNULUzLT/X3L/qhDx7yuf+Th//jxHjhwhMDCQkpISMjMzuXXrFu+8844kGsJlattnQ/nnWW2LWzwbnulk4+7du9y5c0eWSrqIWq3m008/JSkpicmTJyvLdQMDA5k6dSp9+vRxdYg1SllZGcXFxbWqxG61WjGbzY+dN6ppnE4nd+7cqXWJbllZGWazuVa9P8Sz45luo4iaxeFwPLTEVQghRO33TFc2RM0i+2MIIcR/00Of7nJXKYQQQoiqJLeSQgghhKhWkmwIIYQQolpJsiGEEEKIaqUkGzKrIYQQQojqUCHZKE84ZPmhEEIIIaqKkmyU7zoniYYQQgghqpK0UYQQIs85JwAAAPpJREFUQghRrR7ZRpHNlYQQQghRVR5qo6jVammlCCGEEKLKVKhslCcaGo0GrVZ2MhdCCCHE01M5nU6nw+GgtLQUq9VKSUkJxcXFaDQaNBoNpaWllJWVYbPZlNMEHzzCWI40FkIIIZ5NDoeD4OBgGjZs+LfPUcoX97dNtFotJpOJ4uJizGYzxcXFlJSUYLPZcDgcyr/7ScIhhBBCPHusVitubm6VSza0Wi0qlQqtVou7uzseHh40aNBAqXg8mGRIciGEEEIIu91OQEDAY5+jckrWIIQQQohqJGtchRBCCFGtJNkQQgghRLWSZEMIIYQQ1UqSDSGEEEJUq/8DLV3FBAvUIWUAAAAASUVORK5CYII=)"
      ],
      "metadata": {
        "id": "D4Nuhip37fk3"
      }
    },
    {
      "cell_type": "code",
      "source": [
        "starters = [\n",
        "    ['Andre Iguodala',4,3,7],\n",
        "    ['Klay Thompsom',5,0,21],\n",
        "    ['Stephen Curry',5,8,36],\n",
        "    ['Draymon Green',9,4,11],\n",
        "    ['Andrew Bogut',3,0,2],\n",
        "]\n",
        "for p in starters:\n",
        "  str1 = '|{0:>15}| {1:>5} | {2:>5} | {3:>5} |'.format(p[0],p[1],p[2],p[3])\n",
        "  print(str1)\n",
        "  "
      ],
      "metadata": {
        "id": "GildHW9Q7e9P",
        "colab": {
          "base_uri": "https://localhost:8080/"
        },
        "outputId": "e3ec3911-af9f-42a6-a809-b7c8bfe1e8ad"
      },
      "execution_count": null,
      "outputs": [
        {
          "output_type": "stream",
          "name": "stdout",
          "text": [
            "| Andre Iguodala|     4 |     3 |     7 |\n",
            "|  Klay Thompsom|     5 |     0 |    21 |\n",
            "|  Stephen Curry|     5 |     8 |    36 |\n",
            "|  Draymon Green|     9 |     4 |    11 |\n",
            "|   Andrew Bogut|     3 |     0 |     2 |\n"
          ]
        }
      ]
    },
    {
      "cell_type": "markdown",
      "source": [
        "# Exercise #7 :\n",
        "Given the string formatting specifier to produce the following output.\n",
        "\n",
        "    number = 22248.5689 \n",
        "    print(\"The number is {:.2f}\".format(number))\n",
        "    ==> The number is 22248.57\n",
        "    print(...)\n",
        "    ==> The number is 2.2e+04\n",
        "    print(...)  \n",
        "    ==> The number is +2.22e+04\n",
        "    print(...)\n",
        "    ==> The number is 22,248.568900\n",
        "    print(...)\n",
        "    ==> The number is 2.22e+04\n",
        "\n",
        "    number1 = 22248.5689  \n",
        "    number2 = 28.89 \n",
        "    print(...)\n",
        "    print(...)\n",
        "    ==> The number is         22248.568900\n",
        "    ==> The number is            28.890000\n"
      ],
      "metadata": {
        "id": "j-UuvMHlxhIM"
      }
    },
    {
      "cell_type": "code",
      "source": [
        "format_spec ::= [[fill]align][sign][#][0][width][grouping_option][.precision][type]"
      ],
      "metadata": {
        "id": "lnLyGIG-xBkL"
      },
      "execution_count": null,
      "outputs": []
    },
    {
      "cell_type": "code",
      "source": [
        "number = 22248.5689 \n",
        "\n",
        "print(\"The number is {:.2f}\".format(number))\n",
        "print(\"The number is {:+.3f}\".format(number))\n",
        "print(\"The number is {:,.6f}\".format(number))\n",
        "print(\"The number is {:.2e}\".format(number))\n",
        "\n",
        "number1 = 22248.5689  \n",
        "number2 = 28.89\n",
        "print(\"The number is {:>20.6f}\".format(number1))\n",
        "print(\"The number is {:>20.6f}\".format(number2))"
      ],
      "metadata": {
        "colab": {
          "base_uri": "https://localhost:8080/"
        },
        "id": "LtdAjZPuxdCk",
        "outputId": "db6be710-ecbb-47d7-d008-37f1069effcb"
      },
      "execution_count": 47,
      "outputs": [
        {
          "output_type": "stream",
          "name": "stdout",
          "text": [
            "The number is 22248.57\n",
            "The number is +22248.569\n",
            "The number is 22,248.568900\n",
            "The number is 2.22e+04\n",
            "The number is         22248.568900\n",
            "The number is            28.890000\n"
          ]
        }
      ]
    },
    {
      "cell_type": "code",
      "source": [
        "The number is 22248.57\n",
        "The number is +22248.569\n",
        "The number is 22,248.568900\n",
        "The number is 2.22e+04\n",
        "The number is         22248.568900\n",
        "The number is            28.890000"
      ],
      "metadata": {
        "id": "NwFurNP8wj-4"
      },
      "execution_count": null,
      "outputs": []
    },
    {
      "cell_type": "markdown",
      "metadata": {
        "id": "UqvXXgrhyzzq"
      },
      "source": [
        "# Question 1 (1.5 points):\n",
        "Take the number of elements in fibonacci sequence from a user\n",
        "and generate the list of fibonacci sequence with that number of elements.\n",
        "\n",
        "- In fibonacci sequence, each number in the sequence is the sum of the two numbers that precede it.\n",
        "- The first two elements are 0 and 1 respectively.\n",
        "\n",
        "(Ref: https://www.livescience.com/37470-fibonacci-sequence.html#:~:text=The%20Fibonacci%20sequence%20is%20one,%2C%2034%2C%20and%20so%20on.)\n"
      ]
    },
    {
      "cell_type": "code",
      "metadata": {
        "colab": {
          "base_uri": "https://localhost:8080/"
        },
        "id": "N-b2_FiLy2U6",
        "outputId": "179b54f1-a17b-4500-c7ab-6c6022c815bd"
      },
      "source": [
        "num_fibo = int(input(\"Enter the number of elements in fibonacci sequence:\" ))#20\n",
        "input_list = [0,1]\n",
        "for i in range(0,num_fibo-2):\n",
        "  fibo = input_list[i] + input_list[i+1]\n",
        "  input_list.append(fibo)\n",
        "  fibo = 0\n",
        "print(input_list)"
      ],
      "execution_count": null,
      "outputs": [
        {
          "output_type": "stream",
          "name": "stdout",
          "text": [
            "Enter the number of elements in fibonacci sequence:20\n",
            "[0, 1, 1, 2, 3, 5, 8, 13, 21, 34, 55, 89, 144, 233, 377, 610, 987, 1597, 2584, 4181]\n"
          ]
        }
      ]
    },
    {
      "cell_type": "markdown",
      "metadata": {
        "id": "W1NV_XAW4Ssi"
      },
      "source": [
        "# Question 2 (1.5 points):\n",
        "Given an example of number in base-2, base-8, and base-16 that are equal to the following base-10 number: \n",
        "1.   150\n",
        "2.   240\n",
        "3.   450\n",
        "\n",
        "Example of number in base-2, base-8, and base-16 that are converted to 255\n",
        "```\n",
        "binary_255 = 0b11111111\n",
        "oct_255 = 0o377\n",
        "hex_255 = 0xff\n",
        "\n",
        "print(binary_150)\n",
        "print(oct_150)\n",
        "print(hex_150)\n",
        "\n",
        "```\n"
      ]
    },
    {
      "cell_type": "code",
      "source": [
        "array = [150,240,450]\n",
        "for num in array:\n",
        " binary = bin(num)\n",
        " octal = oct(num)\n",
        " hexa = hex(num)\n",
        " print(num,'in base-2 is',binary, 'base-8 is',octal,'base-16 is',hexa)"
      ],
      "metadata": {
        "colab": {
          "base_uri": "https://localhost:8080/"
        },
        "id": "s58Laa1N3794",
        "outputId": "b8660ac9-cc79-4ada-c162-b2b504b15a4f"
      },
      "execution_count": null,
      "outputs": [
        {
          "output_type": "stream",
          "name": "stdout",
          "text": [
            "150 in base-2 is 0b10010110 base-8 is 0o226 base-16 is 0x96\n",
            "240 in base-2 is 0b11110000 base-8 is 0o360 base-16 is 0xf0\n",
            "450 in base-2 is 0b111000010 base-8 is 0o702 base-16 is 0x1c2\n"
          ]
        }
      ]
    }
  ]
}